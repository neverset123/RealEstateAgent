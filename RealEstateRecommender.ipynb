{
 "cells": [
  {
   "cell_type": "markdown",
   "id": "a108af04",
   "metadata": {},
   "source": [
    "## Real Estate Recommender"
   ]
  },
  {
   "cell_type": "markdown",
   "id": "6554fd4c",
   "metadata": {},
   "source": [
    "### Generating Real Estate Listings"
   ]
  },
  {
   "cell_type": "code",
   "execution_count": 38,
   "id": "936f4411",
   "metadata": {},
   "outputs": [],
   "source": [
    "groups = [\"young professionals\", \"families\", \"retirees and seniors\", \"investors\", \"students\", \"luxury buyers\", \"first-time homebuyers\", \"eco-conscious buyers\", \"high-net-worth individuals\", \"low-income families\", \"digital nomads and remote workers\", \"artists and creatives\"]\n",
    "user_prompt_template = lambda buyer_group: f\"\"\"Task: Create a detailed and appealing real estate property listing for {buyer_group}.\"\"\"\n",
    "system_prompt_template = \"\"\"\n",
    "                        You are an assistant that generate text without repeatation. Text should follow following format strictly:\n",
    "                        - Neighborhood: address, city\n",
    "                        - Price: price\n",
    "                        - Bedrooms: number of bedrooms\n",
    "                        - Bathrooms number of bathrooms\n",
    "                        - House Size: size in sqft\n",
    "                        - Description: general description of the property\n",
    "                        - Neighborhood Description: description of neighborhood environments\n",
    "                    \"\"\""
   ]
  },
  {
   "cell_type": "code",
   "execution_count": 39,
   "id": "5d497d1f",
   "metadata": {},
   "outputs": [
    {
     "data": {
      "text/plain": [
       "True"
      ]
     },
     "execution_count": 39,
     "metadata": {},
     "output_type": "execute_result"
    }
   ],
   "source": [
    "# Importing the necessary library for OpenAI API\n",
    "import os\n",
    "import openai\n",
    "from openai import OpenAI\n",
    "from dotenv import load_dotenv\n",
    "load_dotenv()"
   ]
  },
  {
   "cell_type": "code",
   "execution_count": 53,
   "id": "dfa3982d",
   "metadata": {},
   "outputs": [],
   "source": [
    "\n",
    "def generate_resl_estate_listing(buyer_group):\n",
    "    try:\n",
    "        client = OpenAI(\n",
    "            api_key=os.getenv(\"OPENAI_API_KEY\"),\n",
    "            # I have chosen to use local model host, as OpenAI has recently closed the 5$ api key bonus\n",
    "            # the model supports same api format as openai does\n",
    "            base_url=\"http://localhost:8080\"\n",
    "        )\n",
    "        response = client.chat.completions.create(\n",
    "            model=\"gpt4-turbo\",\n",
    "            # model=\"gpt-4\",\n",
    "            messages=[\n",
    "                {\n",
    "                    \"role\": \"system\",\n",
    "                    \"content\": system_prompt_template,\n",
    "                },\n",
    "                {\n",
    "                    \"role\": \"user\",\n",
    "                    \"content\": user_prompt_template(buyer_group),\n",
    "                },\n",
    "            ],\n",
    "            temperature=1,\n",
    "            # max_tokens=256,\n",
    "            top_p=1,\n",
    "            frequency_penalty=1,\n",
    "            presence_penalty=1\n",
    "        )\n",
    "        return response.choices[0].message.content\n",
    "    except Exception as e:\n",
    "        return f\"An error occurred: {e}\"\n"
   ]
  },
  {
   "cell_type": "code",
   "execution_count": 57,
   "id": "d09ea7c5",
   "metadata": {},
   "outputs": [
    {
     "data": {
      "text/html": [
       "<div>\n",
       "<style scoped>\n",
       "    .dataframe tbody tr th:only-of-type {\n",
       "        vertical-align: middle;\n",
       "    }\n",
       "\n",
       "    .dataframe tbody tr th {\n",
       "        vertical-align: top;\n",
       "    }\n",
       "\n",
       "    .dataframe thead th {\n",
       "        text-align: right;\n",
       "    }\n",
       "</style>\n",
       "<table border=\"1\" class=\"dataframe\">\n",
       "  <thead>\n",
       "    <tr style=\"text-align: right;\">\n",
       "      <th></th>\n",
       "      <th>listing</th>\n",
       "      <th>group</th>\n",
       "    </tr>\n",
       "  </thead>\n",
       "  <tbody>\n",
       "    <tr>\n",
       "      <th>0</th>\n",
       "      <td>- Neighborhood: 250 Waterfront St, Marina District\\n- Price: $895,000\\n- Bedrooms: 2\\n- Bathrooms: 2\\n- House Size: 1,100 sqft\\n- Description: Immerse yourself in the heart of vibrancy and comfort with this stylish modern condo designed for young professionals. The open-plan living space is bathed in natural light from floor-to-ceiling windows that offer enchanting cityscape views. High-end finishes are evident throughout the kitchen that boasts stainless steel appliances, sleek cabinetry, and a chic breakfast bar perfect for on-the-go mornings or intimate dinners. Both bedrooms serve as private havens with ample closet space and plush carpeting underfoot.\\n \\n   Indulge in the luxury of en-suite bathrooms featuring contemporary fixtures and fine tile work that add to the elegance of urban living. As an added convenience, an in-unit washer and dryer set simplifies laundry days.\\n\\n   This home is more than just its interior; it includes access to top-tier building amenities such as a rooftop terrace with panoramic views, state-of-the-art fitness center, residents' lounge for entertaining guests, secured parking structure, and attentive concierge services enhancing daily life.\\n\\n- Neighborhood Description: Located in the sought-after Marina Districts area often frequented by thriving professionals. The neighborhood pulses with cosmopolitan energy yet retains a relaxed atmosphere conducive to networking and unwinding alike. Within walking distance are gourmet restaurants offering international cuisines, boutique shops for fashion-forward finds along scenic promenades lined with public art installations reflective of local creativity.\\n\\n    Outdoor enthusiasts will appreciate proximity to parks where jogging trails meander alongside waterfront vistas—a tranquil escape from busy schedules. Cultural institutions like theatres hosting premiere performances contribute to rich experiences just steps away from your front door while reliable public transit connects you effortlessly across the city's diverse neighborhoods.\\n</td>\n",
       "      <td>0</td>\n",
       "    </tr>\n",
       "    <tr>\n",
       "      <th>1</th>\n",
       "      <td>- Neighborhood: 352 Parkview Terrace, Austin\\n- Price: $425,000\\n- Bedrooms: 2\\n- Bathrooms: 2\\n- House Size: 1,200 sqft\\n- Description: This sleek and modern condo offers the perfect blend of style and convenience for the young professional. Featuring state-of-the-art appliances, hardwood flooring throughout, an open-concept living space with large windows that flood the area with natural light. The master suite includes a walk-in closet and a pristine en-suite bathroom. Additional amenities include in-unit laundry facilities and private balcony with breathtaking city views.\\n                     \\n- Neighborhood Description: Situated in the heart of Austin's vibrant scene, Parkview Terrace is an ideal spot for those looking to be at arm’s reach from bustling cafes, hip restaurants &amp; bars, boutique shopping options as well as premier entertainment venues. The neighborhood boasts easy access to public transportation facilitating commutes. It is also known for its safety measures and pet-friendly parks which just adds another layer of allure to this dynamic community perfect for social but career-focused individuals.</td>\n",
       "      <td>0</td>\n",
       "    </tr>\n",
       "    <tr>\n",
       "      <th>2</th>\n",
       "      <td>- Neighborhood: 255 Upstart Lane, Silicon Valley\\n- Price: $1,200,000\\n- Bedrooms: 3\\n- Bathrooms: 2\\n- House Size: 1800 sqft\\n- Description: This modern and sleek single-family home offers an open floor plan with high-end finishes throughout. The kitchen boasts stainless steel appliances and a large island perfect for entertaining. Hardwood floors lead you through the light-filled living space to a cozy backyard oasis. Equipped with smart home features and energy-efficient windows.\\n- Neighborhood Description: Situated in the heart of Silicon Valley, this neighborhood is vibrant and full of life, catering to young professionals keen on innovation and convenience. Just steps away from tech headquarters, dynamic start-ups, upscale dining options, boutique coffee shops, and lush parks ideal for weekend picnics or morning jogs.</td>\n",
       "      <td>0</td>\n",
       "    </tr>\n",
       "    <tr>\n",
       "      <th>3</th>\n",
       "      <td>- Neighborhood: 350 Bayswater Ave, San Francisco\\n- Price: $1,500,000\\n- Bedrooms: 2\\n- Bathrooms: 2 \\n- House Size: 1,200 sqft\\n- Description: A sleek and modern two-bedroom condominium perfect for young professionals seeking style and convenience in the heart of San Francisco. This recently renovated unit features an open floor plan with high-end finishes, a state-of-the-art kitchen equipped with stainless steel appliances, gleaming hardwood floors throughout, and large windows that flood the space with natural light. The master suite offers a private retreat complete with ample closet space and a spa-like bathroom.\\n- Neighborhood Description: Positioned in the vibrant neighborhood of Bayswater Avenue within walking distance to tech shuttles, this area is known for its trendy cafes, boutique shops, and pulsating nightlife. Commuters will appreciate proximity to public transit as well as quick access to major freeways. The community also boasts serene parks and waterfront walks which provide quiet escapes from the urban bustle for those after-work unwind moments or weekend adventures.</td>\n",
       "      <td>0</td>\n",
       "    </tr>\n",
       "    <tr>\n",
       "      <th>4</th>\n",
       "      <td>- Neighborhood: The Metropolitan Lofts, 115 Cityscape Terrace, Downtown District\\n- Price: $459,000\\n- Bedrooms: 2\\n- Bathrooms: 2\\n- House Size: 1,100 sqft\\n- Description: This modern loft boasts an open floor plan with high ceilings and large windows that bathe the space in natural light. The contemporary kitchen features stainless steel appliances and a sleek breakfast bar perfect for casual dining. Hardwood floors run throughout the living areas into two spacious bedrooms with ample closet space. State-of-the-art smart home technology is installed for added convenience and security.\\n  \\n - Neighborhood Description:\\nThe Metropolitan Lofts are situated at the heart of the downtown area, offering young professionals an energetic lifestyle coupled with comfort. Within walking distance to dynamic startups, posh restaurants, cultural hotspots like art galleries and theaters as well as local farmers' markets on weekends - this neighborhood thrives on its diverse community atmosphere. With easy access to public transportation and biking lanes it's also perfect for eco-conscious residents leading a car-free lifestyle.\\n\\n</td>\n",
       "      <td>0</td>\n",
       "    </tr>\n",
       "    <tr>\n",
       "      <th>...</th>\n",
       "      <td>...</td>\n",
       "      <td>...</td>\n",
       "    </tr>\n",
       "    <tr>\n",
       "      <th>115</th>\n",
       "      <td>- Neighborhood: 153 Bohemian Lane, Artisanville\\n- Price: $725,000\\n- Bedrooms: 3\\n- Bathrooms: 2\\n- House Size: 2,100 sqft\\n- Description: This vibrant and inspiring home stands as a creative sanctuary designed with artists in mind. The expansive walls are treated to serve as canvases for murals or gallery displays, and the open floor plan ensures natural light fills every room. An enclosed patio creates a serene space for outdoor creativity. The studio annex comes equipped with adjustable lighting perfect for any art form.\\n- Neighborhood Description: Nestled in bustling Artisanville, this neighborhood is known for its cultural diversity and artistic flair. Weekly craft fairs and co-op galleries make it an ideal spot for creatives seeking community inspiration. Coffee shops play host to poetry slams while live music venues promote local talent—making it the heartbeat of the city's avant-garde scene.</td>\n",
       "      <td>11</td>\n",
       "    </tr>\n",
       "    <tr>\n",
       "      <th>116</th>\n",
       "      <td>- Neighborhood: 500 Bohemian Way, Arts District\\n- Price: $750,000\\n- Bedrooms: 2\\n- Bathrooms: 2\\n- House Size: 1,800 sqft\\n- Description: This unique loft-style home features soaring ceilings and an open floor plan filled with natural light. The interior boasts industrial-chic design elements like exposed brick walls and ductwork. A modern kitchen with stainless steel appliances provides the perfect space for culinary exploration, while the spacious living area offers a versatile canvas for any artistic endeavor. The bedrooms are serene retreats with ample storage space; the master includes an en-suite bathroom adorned with stylish fixtures.\\n- Neighborhood Description: Nestled in the heart of the city's vibrant Arts District, this neighborhood is alive with creativity and culture. You'll be surrounded by galleries showcasing local artists' work, trendy cafes brimming with inspiration, and performance spaces where music and theater thrive. It's a community that not only appreciates art but lives it daily—an urban oasis for anyone passionate about expressing themselves through their surroundings.</td>\n",
       "      <td>11</td>\n",
       "    </tr>\n",
       "    <tr>\n",
       "      <th>117</th>\n",
       "      <td>- Neighborhood: The Arts District, Downtown Los Angeles\\n- Price: $1.2 Million\\n- Bedrooms: 2\\n- Bathrooms: 2\\n- House Size: 1500 sqft\\n- Description: This industrial-inspired loft offers an open floor plan with high ceilings, large windows that flood the space with natural light, and polished concrete floors. Custom wall installations &amp; modern art fixtures enhance the artistic vibe of the home, complemented by a professional-grade kitchen fitted for culinary creativity. An enclosed patio acts as both a serene retreat and inspirational space perfect for any creative endeavor.\\n- Neighborhood Description: Nestled within LA’s vibrant Arts District, this neighborhood thrives with galleries, live/work studios and a diverse community of artists and creatives. Enjoy easy access to artisanal coffee shops like Stumptown Coffee Roasters or Blue Bottle Coffee, organic eateries such as Bestia and Bavel for foodie adventures after studio work hours. The area is known for its eclectic charm with murals gracing building walls inviting inspiration at every corner along with frequent art walks showcasing local talent.</td>\n",
       "      <td>11</td>\n",
       "    </tr>\n",
       "    <tr>\n",
       "      <th>118</th>\n",
       "      <td>- Neighborhood: 152 Brushstroke Lane, Arts District, Creativia City\\n- Price: $850,000\\n- Bedrooms: 3\\n- Bathrooms: 2.5\\n- House Size: 2,300 sqft\\n- Description: Discover the inspirational living space at this modern loft perfectly tailored for artists and creatives in the heart of Creativia’s vibrant Arts District. Every corner of this property has been carefully designed to ignite your imagination and provide a tranquil space for concentration and creation. The property features an open-plan layout with high ceilings that allow an abundance of natural light to spill across hardwood floors. The main studio area is equipped with professional-grade lighting systems and big wall spaces waiting to exhibit your masterpieces or serve as a blank canvas — literally! A chic kitchen fitted with stainless steel appliances offers a stylish spot to fuel up on coffee or create culinary art while brainstorming your next project.\\n  \\nThe three bedrooms are equally spacious, each one offering enough room for both restful slumber and quiet contemplation away from the main activity hub. An added luxury is the built-in library system integrated into cozy reading nooks ideal for delving into art history books or unwinding with fiction.\\n\\nThe exterior complements the creativity found inside with murals painted by local artists gracing communal walls, creating an inspiring walk-up experience each day.\\n\\n- Neighborhood Description: Nestled within Creativia's bustling Arts District, this neighborhood thrives as a dynamic enclave where art comes alive every direction you look—galleries display cutting-edge work while studios hum with activity around-the-clock. Just steps away from cozy cafes bursting with fellow creatives discussing their latest projects over robust espressos or herbal teas. Frequent street festivals transform city blocks into outdoor canvases celebrating creativity in all its forms—a truly collaborative community eager to welcome its next visionary resident artist.\\n</td>\n",
       "      <td>11</td>\n",
       "    </tr>\n",
       "    <tr>\n",
       "      <th>119</th>\n",
       "      <td>- Neighborhood: 57 Artisan Way, Arts District, Los Angeles\\n- Price: $1.2 million\\n- Bedrooms: 2\\n- Bathrooms: 2\\n- House Size: 1500 sqft\\n- Description: Nestled in the vibrant heart of LA’s Arts District, this exquisite loft combines modern elegance with an artistic charm perfect for creatives and artists alike. The open floor plan is basked in natural light pouring through large industrial windows and features polished concrete floors. A sleek kitchen offers stainless steel appliances next to a spacious living area that's ideal for both work sessions and social gatherings. The two cozy bedrooms provide serene retreats after long days of creation.\\n- Neighborhood Description: Known as a haven for artists, the neighborhood buzzes with galleries, live music venues, and colorful street murals that inspire daily life around every corner. Steps away from artisanal coffee shops, organic eateries, and unique boutiques; this community thrives on creativity and diversity while offering peaceful green spaces amidst urban vibrancy where you can relax or find fresh inspiration for your next project.</td>\n",
       "      <td>11</td>\n",
       "    </tr>\n",
       "  </tbody>\n",
       "</table>\n",
       "<p>120 rows × 2 columns</p>\n",
       "</div>"
      ],
      "text/plain": [
       "                                                                                                                                                                                                                                                                                                                                                                                                                                                                                                                                                                                                                                                                                                                                                                                                                                                                                                                                                                                                                                                                                                                                                                                                                                                                                                                                                                                                                                                                                                                                                                                                                                                                                                                                                                                                                                                                                                                                                                                                                                                                                                                                 listing  \\\n",
       "0    - Neighborhood: 250 Waterfront St, Marina District\\n- Price: $895,000\\n- Bedrooms: 2\\n- Bathrooms: 2\\n- House Size: 1,100 sqft\\n- Description: Immerse yourself in the heart of vibrancy and comfort with this stylish modern condo designed for young professionals. The open-plan living space is bathed in natural light from floor-to-ceiling windows that offer enchanting cityscape views. High-end finishes are evident throughout the kitchen that boasts stainless steel appliances, sleek cabinetry, and a chic breakfast bar perfect for on-the-go mornings or intimate dinners. Both bedrooms serve as private havens with ample closet space and plush carpeting underfoot.\\n \\n   Indulge in the luxury of en-suite bathrooms featuring contemporary fixtures and fine tile work that add to the elegance of urban living. As an added convenience, an in-unit washer and dryer set simplifies laundry days.\\n\\n   This home is more than just its interior; it includes access to top-tier building amenities such as a rooftop terrace with panoramic views, state-of-the-art fitness center, residents' lounge for entertaining guests, secured parking structure, and attentive concierge services enhancing daily life.\\n\\n- Neighborhood Description: Located in the sought-after Marina Districts area often frequented by thriving professionals. The neighborhood pulses with cosmopolitan energy yet retains a relaxed atmosphere conducive to networking and unwinding alike. Within walking distance are gourmet restaurants offering international cuisines, boutique shops for fashion-forward finds along scenic promenades lined with public art installations reflective of local creativity.\\n\\n    Outdoor enthusiasts will appreciate proximity to parks where jogging trails meander alongside waterfront vistas—a tranquil escape from busy schedules. Cultural institutions like theatres hosting premiere performances contribute to rich experiences just steps away from your front door while reliable public transit connects you effortlessly across the city's diverse neighborhoods.\\n   \n",
       "1                                                                                                                                                                                                                                                                                                                                                                                                                                                                                                                                                                                                                                                                                                                                                                                                                                                                                                                                                          - Neighborhood: 352 Parkview Terrace, Austin\\n- Price: $425,000\\n- Bedrooms: 2\\n- Bathrooms: 2\\n- House Size: 1,200 sqft\\n- Description: This sleek and modern condo offers the perfect blend of style and convenience for the young professional. Featuring state-of-the-art appliances, hardwood flooring throughout, an open-concept living space with large windows that flood the area with natural light. The master suite includes a walk-in closet and a pristine en-suite bathroom. Additional amenities include in-unit laundry facilities and private balcony with breathtaking city views.\\n                     \\n- Neighborhood Description: Situated in the heart of Austin's vibrant scene, Parkview Terrace is an ideal spot for those looking to be at arm’s reach from bustling cafes, hip restaurants & bars, boutique shopping options as well as premier entertainment venues. The neighborhood boasts easy access to public transportation facilitating commutes. It is also known for its safety measures and pet-friendly parks which just adds another layer of allure to this dynamic community perfect for social but career-focused individuals.   \n",
       "2                                                                                                                                                                                                                                                                                                                                                                                                                                                                                                                                                                                                                                                                                                                                                                                                                                                                                                                                                                                                                                                                                                                                                                                                                                                                   - Neighborhood: 255 Upstart Lane, Silicon Valley\\n- Price: $1,200,000\\n- Bedrooms: 3\\n- Bathrooms: 2\\n- House Size: 1800 sqft\\n- Description: This modern and sleek single-family home offers an open floor plan with high-end finishes throughout. The kitchen boasts stainless steel appliances and a large island perfect for entertaining. Hardwood floors lead you through the light-filled living space to a cozy backyard oasis. Equipped with smart home features and energy-efficient windows.\\n- Neighborhood Description: Situated in the heart of Silicon Valley, this neighborhood is vibrant and full of life, catering to young professionals keen on innovation and convenience. Just steps away from tech headquarters, dynamic start-ups, upscale dining options, boutique coffee shops, and lush parks ideal for weekend picnics or morning jogs.   \n",
       "3                                                                                                                                                                                                                                                                                                                                                                                                                                                                                                                                                                                                                                                                                                                                                                                                                                                                                                                                                                                        - Neighborhood: 350 Bayswater Ave, San Francisco\\n- Price: $1,500,000\\n- Bedrooms: 2\\n- Bathrooms: 2 \\n- House Size: 1,200 sqft\\n- Description: A sleek and modern two-bedroom condominium perfect for young professionals seeking style and convenience in the heart of San Francisco. This recently renovated unit features an open floor plan with high-end finishes, a state-of-the-art kitchen equipped with stainless steel appliances, gleaming hardwood floors throughout, and large windows that flood the space with natural light. The master suite offers a private retreat complete with ample closet space and a spa-like bathroom.\\n- Neighborhood Description: Positioned in the vibrant neighborhood of Bayswater Avenue within walking distance to tech shuttles, this area is known for its trendy cafes, boutique shops, and pulsating nightlife. Commuters will appreciate proximity to public transit as well as quick access to major freeways. The community also boasts serene parks and waterfront walks which provide quiet escapes from the urban bustle for those after-work unwind moments or weekend adventures.   \n",
       "4                                                                                                                                                                                                                                                                                                                                                                                                                                                                                                                                                                                                                                                                                                                                                                                                                                                                                                                                                       - Neighborhood: The Metropolitan Lofts, 115 Cityscape Terrace, Downtown District\\n- Price: $459,000\\n- Bedrooms: 2\\n- Bathrooms: 2\\n- House Size: 1,100 sqft\\n- Description: This modern loft boasts an open floor plan with high ceilings and large windows that bathe the space in natural light. The contemporary kitchen features stainless steel appliances and a sleek breakfast bar perfect for casual dining. Hardwood floors run throughout the living areas into two spacious bedrooms with ample closet space. State-of-the-art smart home technology is installed for added convenience and security.\\n  \\n - Neighborhood Description:\\nThe Metropolitan Lofts are situated at the heart of the downtown area, offering young professionals an energetic lifestyle coupled with comfort. Within walking distance to dynamic startups, posh restaurants, cultural hotspots like art galleries and theaters as well as local farmers' markets on weekends - this neighborhood thrives on its diverse community atmosphere. With easy access to public transportation and biking lanes it's also perfect for eco-conscious residents leading a car-free lifestyle.\\n\\n   \n",
       "..                                                                                                                                                                                                                                                                                                                                                                                                                                                                                                                                                                                                                                                                                                                                                                                                                                                                                                                                                                                                                                                                                                                                                                                                                                                                                                                                                                                                                                                                                                                                                                                                                                                                                                                                                                                                                                                                                                                                                                                                                                                                                                                                   ...   \n",
       "115                                                                                                                                                                                                                                                                                                                                                                                                                                                                                                                                                                                                                                                                                                                                                                                                                                                                                                                                                                                                                                                                                                                                                                                   - Neighborhood: 153 Bohemian Lane, Artisanville\\n- Price: $725,000\\n- Bedrooms: 3\\n- Bathrooms: 2\\n- House Size: 2,100 sqft\\n- Description: This vibrant and inspiring home stands as a creative sanctuary designed with artists in mind. The expansive walls are treated to serve as canvases for murals or gallery displays, and the open floor plan ensures natural light fills every room. An enclosed patio creates a serene space for outdoor creativity. The studio annex comes equipped with adjustable lighting perfect for any art form.\\n- Neighborhood Description: Nestled in bustling Artisanville, this neighborhood is known for its cultural diversity and artistic flair. Weekly craft fairs and co-op galleries make it an ideal spot for creatives seeking community inspiration. Coffee shops play host to poetry slams while live music venues promote local talent—making it the heartbeat of the city's avant-garde scene.   \n",
       "116                                                                                                                                                                                                                                                                                                                                                                                                                                                                                                                                                                                                                                                                                                                                                                                                                                                                                                                                                                           - Neighborhood: 500 Bohemian Way, Arts District\\n- Price: $750,000\\n- Bedrooms: 2\\n- Bathrooms: 2\\n- House Size: 1,800 sqft\\n- Description: This unique loft-style home features soaring ceilings and an open floor plan filled with natural light. The interior boasts industrial-chic design elements like exposed brick walls and ductwork. A modern kitchen with stainless steel appliances provides the perfect space for culinary exploration, while the spacious living area offers a versatile canvas for any artistic endeavor. The bedrooms are serene retreats with ample storage space; the master includes an en-suite bathroom adorned with stylish fixtures.\\n- Neighborhood Description: Nestled in the heart of the city's vibrant Arts District, this neighborhood is alive with creativity and culture. You'll be surrounded by galleries showcasing local artists' work, trendy cafes brimming with inspiration, and performance spaces where music and theater thrive. It's a community that not only appreciates art but lives it daily—an urban oasis for anyone passionate about expressing themselves through their surroundings.   \n",
       "117                                                                                                                                                                                                                                                                                                                                                                                                                                                                                                                                                                                                                                                                                                                                                                                                                                                                                                                                                                      - Neighborhood: The Arts District, Downtown Los Angeles\\n- Price: $1.2 Million\\n- Bedrooms: 2\\n- Bathrooms: 2\\n- House Size: 1500 sqft\\n- Description: This industrial-inspired loft offers an open floor plan with high ceilings, large windows that flood the space with natural light, and polished concrete floors. Custom wall installations & modern art fixtures enhance the artistic vibe of the home, complemented by a professional-grade kitchen fitted for culinary creativity. An enclosed patio acts as both a serene retreat and inspirational space perfect for any creative endeavor.\\n- Neighborhood Description: Nestled within LA’s vibrant Arts District, this neighborhood thrives with galleries, live/work studios and a diverse community of artists and creatives. Enjoy easy access to artisanal coffee shops like Stumptown Coffee Roasters or Blue Bottle Coffee, organic eateries such as Bestia and Bavel for foodie adventures after studio work hours. The area is known for its eclectic charm with murals gracing building walls inviting inspiration at every corner along with frequent art walks showcasing local talent.   \n",
       "118                                                        - Neighborhood: 152 Brushstroke Lane, Arts District, Creativia City\\n- Price: $850,000\\n- Bedrooms: 3\\n- Bathrooms: 2.5\\n- House Size: 2,300 sqft\\n- Description: Discover the inspirational living space at this modern loft perfectly tailored for artists and creatives in the heart of Creativia’s vibrant Arts District. Every corner of this property has been carefully designed to ignite your imagination and provide a tranquil space for concentration and creation. The property features an open-plan layout with high ceilings that allow an abundance of natural light to spill across hardwood floors. The main studio area is equipped with professional-grade lighting systems and big wall spaces waiting to exhibit your masterpieces or serve as a blank canvas — literally! A chic kitchen fitted with stainless steel appliances offers a stylish spot to fuel up on coffee or create culinary art while brainstorming your next project.\\n  \\nThe three bedrooms are equally spacious, each one offering enough room for both restful slumber and quiet contemplation away from the main activity hub. An added luxury is the built-in library system integrated into cozy reading nooks ideal for delving into art history books or unwinding with fiction.\\n\\nThe exterior complements the creativity found inside with murals painted by local artists gracing communal walls, creating an inspiring walk-up experience each day.\\n\\n- Neighborhood Description: Nestled within Creativia's bustling Arts District, this neighborhood thrives as a dynamic enclave where art comes alive every direction you look—galleries display cutting-edge work while studios hum with activity around-the-clock. Just steps away from cozy cafes bursting with fellow creatives discussing their latest projects over robust espressos or herbal teas. Frequent street festivals transform city blocks into outdoor canvases celebrating creativity in all its forms—a truly collaborative community eager to welcome its next visionary resident artist.\\n   \n",
       "119                                                                                                                                                                                                                                                                                                                                                                                                                                                                                                                                                                                                                                                                                                                                                                                                                                                                                                                                                                                    - Neighborhood: 57 Artisan Way, Arts District, Los Angeles\\n- Price: $1.2 million\\n- Bedrooms: 2\\n- Bathrooms: 2\\n- House Size: 1500 sqft\\n- Description: Nestled in the vibrant heart of LA’s Arts District, this exquisite loft combines modern elegance with an artistic charm perfect for creatives and artists alike. The open floor plan is basked in natural light pouring through large industrial windows and features polished concrete floors. A sleek kitchen offers stainless steel appliances next to a spacious living area that's ideal for both work sessions and social gatherings. The two cozy bedrooms provide serene retreats after long days of creation.\\n- Neighborhood Description: Known as a haven for artists, the neighborhood buzzes with galleries, live music venues, and colorful street murals that inspire daily life around every corner. Steps away from artisanal coffee shops, organic eateries, and unique boutiques; this community thrives on creativity and diversity while offering peaceful green spaces amidst urban vibrancy where you can relax or find fresh inspiration for your next project.   \n",
       "\n",
       "     group  \n",
       "0        0  \n",
       "1        0  \n",
       "2        0  \n",
       "3        0  \n",
       "4        0  \n",
       "..     ...  \n",
       "115     11  \n",
       "116     11  \n",
       "117     11  \n",
       "118     11  \n",
       "119     11  \n",
       "\n",
       "[120 rows x 2 columns]"
      ]
     },
     "execution_count": 57,
     "metadata": {},
     "output_type": "execute_result"
    }
   ],
   "source": [
    "import pandas as pd\n",
    "import time\n",
    "\n",
    "df_list = []\n",
    "size_per_group = 10\n",
    "for id, people in enumerate(groups):\n",
    "    df_list.append(pd.DataFrame({\"listing\": [generate_resl_estate_listing(user_prompt_template(people)) for i in range(size_per_group)], \"group\": [id]*size_per_group}))\n",
    "    time.sleep(10)\n",
    "df = pd.concat(df_list).reset_index(drop=True)\n",
    "pd.set_option(\"display.max_colwidth\", None)\n",
    "df"
   ]
  },
  {
   "cell_type": "markdown",
   "id": "93f770a0",
   "metadata": {},
   "source": [
    "### Storing Listings in a Vector Database"
   ]
  },
  {
   "cell_type": "code",
   "execution_count": 61,
   "id": "e589833d",
   "metadata": {},
   "outputs": [
    {
     "name": "stderr",
     "output_type": "stream",
     "text": [
      "/lhome/yuwewan/anaconda3/envs/py310/lib/python3.10/site-packages/tqdm/auto.py:21: TqdmWarning: IProgress not found. Please update jupyter and ipywidgets. See https://ipywidgets.readthedocs.io/en/stable/user_install.html\n",
      "  from .autonotebook import tqdm as notebook_tqdm\n"
     ]
    }
   ],
   "source": [
    "from lancedb.pydantic import LanceModel, Vector\n",
    "from lancedb.embeddings import get_registry\n",
    "import lancedb\n",
    "from openai import OpenAI\n",
    "from dotenv import load_dotenv\n",
    "load_dotenv()\n",
    "\n",
    "# func = get_registry().get(\"openai\").create(name=\"text-embedding-ada-002\")\n",
    "import openai\n",
    "import os\n",
    "\n",
    "EMBEDDING_MODEL_NAME = \"text-embedding-ada-002\"\n",
    "client = OpenAI(\n",
    "    api_key=os.getenv(\"OPENAI_API_KEY\"),\n",
    "    # I have chosen to use local model host, as OpenAI has recently closed the 5$ api key bonus\n",
    "    # the model supports same api format as openai does\n",
    "    base_url=\"http://localhost:8080\"\n",
    ")\n",
    "def embed_func(c):    \n",
    "    response = client.embeddings.create(input=c, model=EMBEDDING_MODEL_NAME)\n",
    "    return [data.embedding for data in response.data]"
   ]
  },
  {
   "cell_type": "code",
   "execution_count": 62,
   "id": "592afb52",
   "metadata": {},
   "outputs": [],
   "source": [
    "class RealEstateListing(LanceModel):\n",
    "    vector: Vector(384)\n",
    "    listing: str\n",
    "    group: str"
   ]
  },
  {
   "cell_type": "code",
   "execution_count": 63,
   "id": "f33d4689",
   "metadata": {},
   "outputs": [
    {
     "name": "stderr",
     "output_type": "stream",
     "text": [
      "/tmp/ipykernel_4049876/369268211.py:3: DeprecationWarning: Function with_embeddings is deprecated and will be removed in a future version\n",
      "  df_embedded = with_embeddings(embed_func, df, column=\"listing\").to_pandas()\n",
      "/lhome/yuwewan/anaconda3/envs/py310/lib/python3.10/site-packages/ratelimiter.py:127: DeprecationWarning: \"@coroutine\" decorator is deprecated since Python 3.8, use \"async def\" instead\n",
      "  __aexit__ = asyncio.coroutine(__exit__)\n"
     ]
    },
    {
     "data": {
      "text/html": [
       "<div>\n",
       "<style scoped>\n",
       "    .dataframe tbody tr th:only-of-type {\n",
       "        vertical-align: middle;\n",
       "    }\n",
       "\n",
       "    .dataframe tbody tr th {\n",
       "        vertical-align: top;\n",
       "    }\n",
       "\n",
       "    .dataframe thead th {\n",
       "        text-align: right;\n",
       "    }\n",
       "</style>\n",
       "<table border=\"1\" class=\"dataframe\">\n",
       "  <thead>\n",
       "    <tr style=\"text-align: right;\">\n",
       "      <th></th>\n",
       "      <th>listing</th>\n",
       "      <th>group</th>\n",
       "      <th>vector</th>\n",
       "    </tr>\n",
       "  </thead>\n",
       "  <tbody>\n",
       "    <tr>\n",
       "      <th>0</th>\n",
       "      <td>- Neighborhood: 250 Waterfront St, Marina District\\n- Price: $895,000\\n- Bedrooms: 2\\n- Bathrooms: 2\\n- House Size: 1,100 sqft\\n- Description: Immerse yourself in the heart of vibrancy and comfort with this stylish modern condo designed for young professionals. The open-plan living space is bathed in natural light from floor-to-ceiling windows that offer enchanting cityscape views. High-end finishes are evident throughout the kitchen that boasts stainless steel appliances, sleek cabinetry, and a chic breakfast bar perfect for on-the-go mornings or intimate dinners. Both bedrooms serve as private havens with ample closet space and plush carpeting underfoot.\\n \\n   Indulge in the luxury of en-suite bathrooms featuring contemporary fixtures and fine tile work that add to the elegance of urban living. As an added convenience, an in-unit washer and dryer set simplifies laundry days.\\n\\n   This home is more than just its interior; it includes access to top-tier building amenities such as a rooftop terrace with panoramic views, state-of-the-art fitness center, residents' lounge for entertaining guests, secured parking structure, and attentive concierge services enhancing daily life.\\n\\n- Neighborhood Description: Located in the sought-after Marina Districts area often frequented by thriving professionals. The neighborhood pulses with cosmopolitan energy yet retains a relaxed atmosphere conducive to networking and unwinding alike. Within walking distance are gourmet restaurants offering international cuisines, boutique shops for fashion-forward finds along scenic promenades lined with public art installations reflective of local creativity.\\n\\n    Outdoor enthusiasts will appreciate proximity to parks where jogging trails meander alongside waterfront vistas—a tranquil escape from busy schedules. Cultural institutions like theatres hosting premiere performances contribute to rich experiences just steps away from your front door while reliable public transit connects you effortlessly across the city's diverse neighborhoods.\\n</td>\n",
       "      <td>0</td>\n",
       "      <td>[0.058508143, 0.02907416, 0.043684054, -0.009807144, -0.050845005, 0.030122882, -0.060871765, 0.0040336815, -0.025515487, -0.0282995, -0.01119739, -0.111601084, 0.03444756, 0.0011670552, 0.08167276, 0.010128735, 0.11821405, 0.026792387, 0.029855762, 0.051701207, -0.04625208, 0.0046300814, 0.00084731093, -0.035731196, 0.0156841, 0.08610467, 0.01831103, 0.03300818, -0.049790993, 0.011102918, 0.059595834, 0.047849704, 0.028044403, -0.06404407, 0.056364294, -0.042862635, -0.034160275, -0.05080546, 0.007422114, -0.00040552652, -0.042594127, -0.017449502, -0.028738149, 0.050229516, -0.045410205, -0.063050054, -0.003511994, 0.03083161, 0.05919047, -0.07009388, 0.03898609, 0.08206192, 0.030433357, 0.03248369, -0.04558283, 0.024247643, -0.040412884, -0.029736688, 0.034573033, -0.044887252, 0.09426998, 0.016264196, 0.020763775, 0.01299787, 0.023354582, -0.03948777, -0.016023932, 0.0987113, 0.012233934, -0.07733977, -0.032462303, -0.0021667096, 0.047857303, 0.04200995, 0.0057053664, 0.009708946, 0.040949054, -0.019909529, -0.00068721455, 0.0044354647, 0.024635343, -0.017793769, -0.03741448, 0.0146732135, 0.011596321, -0.0041640406, 0.00031836514, -0.019088313, 0.036408745, 0.010967304, 0.025408411, -9.308738e-05, -0.15183586, -0.099948965, 0.024020763, -0.0034210996, -0.1385258, -0.02444478, 0.010562316, 0.012679376, ...]</td>\n",
       "    </tr>\n",
       "    <tr>\n",
       "      <th>1</th>\n",
       "      <td>- Neighborhood: 352 Parkview Terrace, Austin\\n- Price: $425,000\\n- Bedrooms: 2\\n- Bathrooms: 2\\n- House Size: 1,200 sqft\\n- Description: This sleek and modern condo offers the perfect blend of style and convenience for the young professional. Featuring state-of-the-art appliances, hardwood flooring throughout, an open-concept living space with large windows that flood the area with natural light. The master suite includes a walk-in closet and a pristine en-suite bathroom. Additional amenities include in-unit laundry facilities and private balcony with breathtaking city views.\\n                     \\n- Neighborhood Description: Situated in the heart of Austin's vibrant scene, Parkview Terrace is an ideal spot for those looking to be at arm’s reach from bustling cafes, hip restaurants &amp; bars, boutique shopping options as well as premier entertainment venues. The neighborhood boasts easy access to public transportation facilitating commutes. It is also known for its safety measures and pet-friendly parks which just adds another layer of allure to this dynamic community perfect for social but career-focused individuals.</td>\n",
       "      <td>0</td>\n",
       "      <td>[0.08807147, -0.031950254, 0.11615688, 0.006585816, -0.09464219, 0.030149572, 0.0077909925, -0.021867914, -0.007555809, -0.032976802, 0.012449364, 0.009467583, 0.0921661, 0.007781201, 0.07434154, 0.00878247, 0.09606928, 0.027645389, 0.024280358, 0.052039545, -0.028513487, 0.00895382, -0.0075076977, -0.017512724, -0.058618948, 0.12708355, 0.01685586, -0.012254036, -0.03175031, 0.0036859997, 0.08263985, 4.6791287e-05, 0.04767689, -0.042601336, 0.043040067, 0.011154155, -0.017736562, -0.068274006, -0.00048933615, -0.028498916, -0.064493924, 0.017040381, 0.000983461, 0.0045599947, -0.065816805, 0.007836677, 0.0387529, -0.061712228, 0.06478883, -0.0781714, -0.013709768, 0.10059742, 0.060913317, -0.011910532, -0.03795262, -0.015967617, -0.1021183, -0.025586698, 0.053137723, -0.022110129, 0.07482723, -0.0496895, -0.0057119885, 0.006598796, -0.050764926, 0.007332867, -0.044918347, 0.0028528215, 0.11970743, -0.112714425, 0.02813775, 0.029141827, 0.021982389, -0.03045588, 0.05601084, 0.021104354, 0.05666741, -0.08972128, -0.010668588, -0.09398278, 0.013628775, 0.01205997, -0.050931692, 0.030454433, 0.026114484, -0.079838276, 0.04986911, 0.0497619, -0.0068033743, 0.026566295, 0.018746361, 0.053277124, -0.111555815, -0.06320819, -0.0012237187, -0.021749938, -0.13538618, -0.12655511, -0.025042966, 0.016559267, ...]</td>\n",
       "    </tr>\n",
       "    <tr>\n",
       "      <th>2</th>\n",
       "      <td>- Neighborhood: 255 Upstart Lane, Silicon Valley\\n- Price: $1,200,000\\n- Bedrooms: 3\\n- Bathrooms: 2\\n- House Size: 1800 sqft\\n- Description: This modern and sleek single-family home offers an open floor plan with high-end finishes throughout. The kitchen boasts stainless steel appliances and a large island perfect for entertaining. Hardwood floors lead you through the light-filled living space to a cozy backyard oasis. Equipped with smart home features and energy-efficient windows.\\n- Neighborhood Description: Situated in the heart of Silicon Valley, this neighborhood is vibrant and full of life, catering to young professionals keen on innovation and convenience. Just steps away from tech headquarters, dynamic start-ups, upscale dining options, boutique coffee shops, and lush parks ideal for weekend picnics or morning jogs.</td>\n",
       "      <td>0</td>\n",
       "      <td>[0.08845601, -0.043761484, 0.033120435, 0.06408158, -0.019495893, -0.031640604, -0.009454071, 0.031130169, -0.045147106, -0.03444731, 0.039114967, -0.042184874, 0.08638866, -0.03186928, 0.03725231, 0.047904342, 0.07385175, -0.08213356, 0.038681656, -0.05493202, -0.021867454, -0.051440794, 0.000861491, -0.0049014767, 0.041336894, 0.029743083, -0.0065177553, 0.037630904, -0.04952055, -0.010427829, 0.032680452, 0.059168868, 0.04992675, -0.04495834, 0.1293789, 0.056262657, 0.028600663, 0.014675709, -0.009925487, -0.03074881, 0.010057499, -0.065570325, 0.024806434, 0.02269663, -0.010679938, -0.019586783, -0.026945295, -0.04426144, 0.062097598, -0.013811872, -0.0070331935, 0.078844994, 0.06391136, 0.041363418, -0.045211267, 0.04058532, 0.045133196, 0.013675001, 0.05571541, -0.028761115, 0.095998235, -0.1123927, -0.06424835, 0.014571066, 0.012725089, 0.0026134618, 0.02058744, -0.035124887, -0.032438204, -0.121959, -0.02053008, 0.019161487, 0.017172331, 0.060969643, 0.041572966, -0.0096922405, 0.10153402, 0.016938658, 0.045315143, -0.0073015112, 0.017081372, -0.020691168, -0.07471205, 0.017385583, -0.060473487, 0.04932804, -0.069987945, 0.021012237, 0.034298666, -0.027546108, -0.041436158, 0.022462804, -0.0455265, -0.07602675, 0.03358674, 0.0050479225, -0.12512314, -0.10766774, 0.0041346964, 0.0027330706, ...]</td>\n",
       "    </tr>\n",
       "    <tr>\n",
       "      <th>3</th>\n",
       "      <td>- Neighborhood: 350 Bayswater Ave, San Francisco\\n- Price: $1,500,000\\n- Bedrooms: 2\\n- Bathrooms: 2 \\n- House Size: 1,200 sqft\\n- Description: A sleek and modern two-bedroom condominium perfect for young professionals seeking style and convenience in the heart of San Francisco. This recently renovated unit features an open floor plan with high-end finishes, a state-of-the-art kitchen equipped with stainless steel appliances, gleaming hardwood floors throughout, and large windows that flood the space with natural light. The master suite offers a private retreat complete with ample closet space and a spa-like bathroom.\\n- Neighborhood Description: Positioned in the vibrant neighborhood of Bayswater Avenue within walking distance to tech shuttles, this area is known for its trendy cafes, boutique shops, and pulsating nightlife. Commuters will appreciate proximity to public transit as well as quick access to major freeways. The community also boasts serene parks and waterfront walks which provide quiet escapes from the urban bustle for those after-work unwind moments or weekend adventures.</td>\n",
       "      <td>0</td>\n",
       "      <td>[0.090730816, -0.062145982, 0.08213632, 0.03265288, -0.050206922, 0.05318836, 0.0046987436, -0.013301376, -0.0061599, -0.05964209, -0.04299265, -0.0014532192, 0.009745793, 0.016168682, 0.020407395, 0.04449941, 0.04542817, -0.0021466927, 0.07728415, 0.021731671, -0.014896234, -0.036011174, -0.029097227, -0.049611032, -0.039944034, 0.07476149, 0.028605029, 0.088384815, -0.011845251, 0.019141475, 0.040637314, 0.051503688, 0.027711362, -0.062799156, 0.06993268, -0.03010638, 0.02663735, -0.06075246, -0.0053474605, 0.008188671, -0.06562605, 0.004666447, 0.0108147375, 0.06020615, 0.037687223, -0.047167595, -0.034944303, -0.029204214, 0.07273027, -0.05504098, -0.042334992, 0.009130871, 0.030186968, 0.04596568, -0.056186333, -0.0041861273, 0.0017615486, -0.063419156, 0.06785674, -0.048253447, 0.06675413, -0.08482192, -0.024825606, 0.012476155, 0.005692586, 0.030938847, -0.08533623, 0.049166944, 0.041798007, -0.06888365, -0.031528138, 0.0548989, -0.0025063225, 0.005736858, -0.049315456, -0.03085369, 0.026817106, -0.024327258, -0.024753954, 0.01926021, 0.0053213234, -0.07293724, -0.08038898, 0.057660807, 0.008367526, 0.022387888, -0.022610988, -0.050713703, -0.034815423, 0.05688356, -0.042132933, 0.036614124, -0.07754244, -0.14554197, -0.015131878, -0.01168551, -0.115514904, -0.1159017, -0.015897678, -0.0218942, ...]</td>\n",
       "    </tr>\n",
       "    <tr>\n",
       "      <th>4</th>\n",
       "      <td>- Neighborhood: The Metropolitan Lofts, 115 Cityscape Terrace, Downtown District\\n- Price: $459,000\\n- Bedrooms: 2\\n- Bathrooms: 2\\n- House Size: 1,100 sqft\\n- Description: This modern loft boasts an open floor plan with high ceilings and large windows that bathe the space in natural light. The contemporary kitchen features stainless steel appliances and a sleek breakfast bar perfect for casual dining. Hardwood floors run throughout the living areas into two spacious bedrooms with ample closet space. State-of-the-art smart home technology is installed for added convenience and security.\\n  \\n - Neighborhood Description:\\nThe Metropolitan Lofts are situated at the heart of the downtown area, offering young professionals an energetic lifestyle coupled with comfort. Within walking distance to dynamic startups, posh restaurants, cultural hotspots like art galleries and theaters as well as local farmers' markets on weekends - this neighborhood thrives on its diverse community atmosphere. With easy access to public transportation and biking lanes it's also perfect for eco-conscious residents leading a car-free lifestyle.\\n\\n</td>\n",
       "      <td>0</td>\n",
       "      <td>[0.12559041, -0.018153721, 0.089051135, 0.04812442, -0.024816193, -0.003703513, -0.05756506, -0.020901693, -0.0384622, -0.0198584, 0.025562437, -0.009644824, 0.030299222, -0.0018644918, 0.036714256, 0.010886858, 0.13896345, -0.09647944, 0.07565884, 0.024991421, -0.028739076, -0.065250665, 0.030846978, -0.0030968017, 0.045881003, 0.0031576653, 0.0069364086, 0.026558284, -0.04016786, 0.0055862404, 0.10760214, 0.02568106, 0.008085231, 0.02043519, 0.03394033, 0.016807752, -0.002909032, 0.006349894, -0.021161342, -0.02046796, 0.0065334532, -0.088449456, -0.057280783, 0.020907035, -0.025859859, -0.0038910473, -0.015456641, -0.00025433712, 0.029801471, -0.0012669733, -0.03391974, 0.03939395, 0.039873634, 0.052384194, 0.009428579, 0.037622996, -0.005890393, 0.033061016, 0.039109092, -0.042911224, 0.061600376, -0.031011755, -0.06608479, -0.0353261, 0.0011557556, 0.018025704, -0.06742456, 0.028509488, 0.02461015, -0.14317358, -0.0023701398, -0.014720142, -0.0025323255, -0.024484122, 0.06861438, 0.005165492, 0.02658751, -0.10120224, 0.033749126, 0.01381703, 0.05371917, 0.005452472, -0.078007415, 0.011019609, -0.024538469, -0.00034448918, -0.0003693766, 0.018848663, -0.007612105, -0.042076513, 0.022684172, 0.0018292503, -0.122891866, -0.034991268, 0.014750816, -0.034551073, -0.108684376, -0.07161978, -0.051239602, 0.0067731063, ...]</td>\n",
       "    </tr>\n",
       "    <tr>\n",
       "      <th>...</th>\n",
       "      <td>...</td>\n",
       "      <td>...</td>\n",
       "      <td>...</td>\n",
       "    </tr>\n",
       "    <tr>\n",
       "      <th>115</th>\n",
       "      <td>- Neighborhood: 153 Bohemian Lane, Artisanville\\n- Price: $725,000\\n- Bedrooms: 3\\n- Bathrooms: 2\\n- House Size: 2,100 sqft\\n- Description: This vibrant and inspiring home stands as a creative sanctuary designed with artists in mind. The expansive walls are treated to serve as canvases for murals or gallery displays, and the open floor plan ensures natural light fills every room. An enclosed patio creates a serene space for outdoor creativity. The studio annex comes equipped with adjustable lighting perfect for any art form.\\n- Neighborhood Description: Nestled in bustling Artisanville, this neighborhood is known for its cultural diversity and artistic flair. Weekly craft fairs and co-op galleries make it an ideal spot for creatives seeking community inspiration. Coffee shops play host to poetry slams while live music venues promote local talent—making it the heartbeat of the city's avant-garde scene.</td>\n",
       "      <td>11</td>\n",
       "      <td>[0.14682534, -0.011700833, 0.0008682425, 0.027462212, -0.019341515, 0.019444667, -0.057707835, -0.06457297, -0.034957144, -0.027770594, -0.020418203, -0.040592507, 0.04879668, -0.020553948, 0.033709183, 0.045554932, 0.107742995, -0.041823745, 0.024762973, 0.004869764, -0.03132921, -0.015708791, 0.037932217, -0.023912584, 0.0021510683, -0.01698469, -0.046762872, 0.08729025, 0.05273731, -0.02853955, 0.055834904, 0.07889051, -0.013771943, -0.025202293, 0.07059762, 0.027860032, -0.009564674, 0.034174994, 0.05285313, 0.02990962, 0.0029527536, 0.0037825697, -0.08967382, -0.05725115, 0.00711551, -0.08101688, -0.019808961, 0.008970812, 0.024936263, -0.06372179, 0.017563093, -0.0031374118, -0.0072933296, 0.011756921, -0.0038150877, -0.035803482, -0.013003224, -0.014174832, 0.119469, -0.031577416, 0.107225865, 0.01388569, -0.047418755, 0.016086757, -0.045300253, -0.07192492, -0.07359407, 0.09347723, -0.015754184, -0.094981864, 0.045872036, -0.04991824, -0.025019735, -0.017803187, 0.07902143, 0.044143524, -0.047912277, -0.069467224, -0.058523975, 0.016861446, 0.053839587, -0.024409842, 0.006639486, 0.035115864, -0.04318524, -0.03117796, 0.027305577, 0.004774211, 0.023911566, -0.050511032, -0.03518198, 0.0014835731, -0.054316476, -0.04446727, 0.036321595, -0.020986656, -0.0015902699, -0.07300134, -0.00011183872, 0.03415802, ...]</td>\n",
       "    </tr>\n",
       "    <tr>\n",
       "      <th>116</th>\n",
       "      <td>- Neighborhood: 500 Bohemian Way, Arts District\\n- Price: $750,000\\n- Bedrooms: 2\\n- Bathrooms: 2\\n- House Size: 1,800 sqft\\n- Description: This unique loft-style home features soaring ceilings and an open floor plan filled with natural light. The interior boasts industrial-chic design elements like exposed brick walls and ductwork. A modern kitchen with stainless steel appliances provides the perfect space for culinary exploration, while the spacious living area offers a versatile canvas for any artistic endeavor. The bedrooms are serene retreats with ample storage space; the master includes an en-suite bathroom adorned with stylish fixtures.\\n- Neighborhood Description: Nestled in the heart of the city's vibrant Arts District, this neighborhood is alive with creativity and culture. You'll be surrounded by galleries showcasing local artists' work, trendy cafes brimming with inspiration, and performance spaces where music and theater thrive. It's a community that not only appreciates art but lives it daily—an urban oasis for anyone passionate about expressing themselves through their surroundings.</td>\n",
       "      <td>11</td>\n",
       "      <td>[0.17066249, -0.025569819, 0.0076014493, 0.03725533, -0.04274002, 0.04248473, -0.07280098, -0.02461314, -0.026973223, -0.034596384, -0.031173788, -0.06702343, 0.046569485, -0.029821046, 0.018143011, 0.048084952, 0.14744359, -0.01625942, 0.04998222, 0.025461111, -0.07183211, -0.014470209, 0.030843232, 0.029751409, 0.0015952261, 0.0119321095, 0.016019894, 0.035598833, 0.0043714135, -0.033810206, 0.06296258, 0.068197675, -0.029214572, -0.02090789, 0.074306354, 0.073350996, -0.029810473, -1.19373835e-05, -0.0028970325, 0.006565052, -0.019095832, 0.0053166687, -0.040151294, -0.0057770023, 0.021224648, -0.032478247, -0.028745243, 0.009770922, 0.036195148, -0.026197618, -0.0037002964, 0.025121326, 0.005416375, 0.047650132, -0.014102893, 0.010241825, -0.011634913, -0.0070888824, 0.060530446, -0.018146424, 0.07182103, 0.034003876, -0.043571275, -0.00415783, 0.009986739, -0.04098483, -0.07101624, 0.04065781, 0.009059733, -0.1091493, 0.019033631, -0.07531879, -0.0042674425, 0.024824616, 0.025923515, 0.012136642, -0.045274597, -0.060914837, -0.03129377, -0.0041005774, 0.05091451, -0.05373615, -0.0018625108, -0.017716898, -0.038315296, -0.008103585, -0.026160333, 0.0043444196, 0.012343256, -0.03884756, 0.023887862, 0.031734366, -0.09146987, -0.05344716, 0.05054996, -0.0053452672, -0.03917767, -0.03572036, -0.012940203, 0.048289668, ...]</td>\n",
       "    </tr>\n",
       "    <tr>\n",
       "      <th>117</th>\n",
       "      <td>- Neighborhood: The Arts District, Downtown Los Angeles\\n- Price: $1.2 Million\\n- Bedrooms: 2\\n- Bathrooms: 2\\n- House Size: 1500 sqft\\n- Description: This industrial-inspired loft offers an open floor plan with high ceilings, large windows that flood the space with natural light, and polished concrete floors. Custom wall installations &amp; modern art fixtures enhance the artistic vibe of the home, complemented by a professional-grade kitchen fitted for culinary creativity. An enclosed patio acts as both a serene retreat and inspirational space perfect for any creative endeavor.\\n- Neighborhood Description: Nestled within LA’s vibrant Arts District, this neighborhood thrives with galleries, live/work studios and a diverse community of artists and creatives. Enjoy easy access to artisanal coffee shops like Stumptown Coffee Roasters or Blue Bottle Coffee, organic eateries such as Bestia and Bavel for foodie adventures after studio work hours. The area is known for its eclectic charm with murals gracing building walls inviting inspiration at every corner along with frequent art walks showcasing local talent.</td>\n",
       "      <td>11</td>\n",
       "      <td>[0.14581649, -0.06833413, 0.019631097, 0.012120668, 0.0010444735, 0.03140546, -0.06283367, -0.048034523, -0.023321133, -0.05901952, 0.04803979, -0.040857967, 0.03905172, -0.004622765, 0.08169085, 0.03961602, 0.128306, -0.06019058, 0.03902058, -0.010535445, -0.0062396456, -0.0149213215, -0.0017217519, 0.052825276, -0.0061188326, 0.015201095, 0.0049992767, 0.016456727, -0.0031966032, -0.03521865, 0.0621868, 0.077071786, 0.011240572, 0.023449814, 0.05712051, 0.057107374, -0.038181223, 0.017802589, 0.077078514, 0.0016340923, -0.074814215, -0.04165978, -0.051902715, -0.070988074, -0.044116993, -0.12246045, -0.04546323, -0.028437579, 0.029450493, -0.0052670557, 0.008909524, 0.00764364, 0.018847175, 0.01065616, -0.054952554, 0.004472674, -0.012036775, 0.020225998, 0.052521396, 0.03155806, 0.051085353, -0.012900051, -0.047661256, 0.038773365, -0.018566802, -0.02489909, -0.08114905, 0.041807324, -0.025421122, -0.12627122, 0.04376517, -0.048110556, 0.02489057, -0.00075784605, 0.11229888, 0.048328508, -0.038311653, -0.009936736, -0.024473868, -0.038289487, 0.055724382, -0.0016349683, -0.08281658, 0.07087786, -0.08181998, 0.004171057, -0.027303517, 0.010152453, 0.04586282, -0.040325344, 0.023588719, 0.062949345, -0.10948248, -0.01964069, 0.059752133, -0.017539212, -0.029305318, -0.06277228, -0.037472356, 0.022594849, ...]</td>\n",
       "    </tr>\n",
       "    <tr>\n",
       "      <th>118</th>\n",
       "      <td>- Neighborhood: 152 Brushstroke Lane, Arts District, Creativia City\\n- Price: $850,000\\n- Bedrooms: 3\\n- Bathrooms: 2.5\\n- House Size: 2,300 sqft\\n- Description: Discover the inspirational living space at this modern loft perfectly tailored for artists and creatives in the heart of Creativia’s vibrant Arts District. Every corner of this property has been carefully designed to ignite your imagination and provide a tranquil space for concentration and creation. The property features an open-plan layout with high ceilings that allow an abundance of natural light to spill across hardwood floors. The main studio area is equipped with professional-grade lighting systems and big wall spaces waiting to exhibit your masterpieces or serve as a blank canvas — literally! A chic kitchen fitted with stainless steel appliances offers a stylish spot to fuel up on coffee or create culinary art while brainstorming your next project.\\n  \\nThe three bedrooms are equally spacious, each one offering enough room for both restful slumber and quiet contemplation away from the main activity hub. An added luxury is the built-in library system integrated into cozy reading nooks ideal for delving into art history books or unwinding with fiction.\\n\\nThe exterior complements the creativity found inside with murals painted by local artists gracing communal walls, creating an inspiring walk-up experience each day.\\n\\n- Neighborhood Description: Nestled within Creativia's bustling Arts District, this neighborhood thrives as a dynamic enclave where art comes alive every direction you look—galleries display cutting-edge work while studios hum with activity around-the-clock. Just steps away from cozy cafes bursting with fellow creatives discussing their latest projects over robust espressos or herbal teas. Frequent street festivals transform city blocks into outdoor canvases celebrating creativity in all its forms—a truly collaborative community eager to welcome its next visionary resident artist.\\n</td>\n",
       "      <td>11</td>\n",
       "      <td>[0.08125552, -0.051426265, -0.029755283, 0.06199723, -0.049144704, 0.03306429, -0.05174118, -0.0129358, -0.011899836, -0.030146988, -0.0011894394, -0.11162777, 0.06700283, 0.0033110273, -0.003558881, 0.014440519, 0.11928742, -0.08367541, 0.046025798, 0.03955417, -0.0061467346, -0.05593319, -0.0037015786, 0.015611142, 0.042437542, 0.093282655, -0.009320404, 0.004393054, -0.013618208, -0.03096422, 0.0210163, 0.04870769, -0.0024424808, -0.0061741928, 0.08496296, 0.052212346, 0.00852402, 0.029231314, 0.026109844, 0.042414363, -0.09410475, -0.0024508105, -0.029497286, 0.0074369647, -0.029473297, -0.076988146, -0.036700007, -0.015407083, 0.04984182, -0.027383188, -0.040561695, 0.019846696, -0.0133192735, 0.07976184, -0.01800976, 0.07688359, -0.001654818, -0.04482589, 0.08090874, 0.0030335959, 0.03636902, -0.004212903, 0.01613085, 0.011604484, 0.011695933, -0.004865074, -0.16643941, -0.013624856, 0.0014022953, -0.11755779, 0.014213365, -0.059231665, -0.001980354, -0.015686596, 0.11161158, 0.016904762, -0.029203897, -0.11354108, -0.011082721, -0.029370245, -0.0572378, -0.021298349, -0.046087828, 0.04418245, 0.0122791445, 0.022191996, 0.041377906, -0.04635977, 0.008568091, -0.0027799192, 0.07031124, 0.048827372, -0.05714556, -0.05834636, 0.01083414, -0.0056116376, -0.019451672, -0.025820905, -0.026038589, 0.06727551, ...]</td>\n",
       "    </tr>\n",
       "    <tr>\n",
       "      <th>119</th>\n",
       "      <td>- Neighborhood: 57 Artisan Way, Arts District, Los Angeles\\n- Price: $1.2 million\\n- Bedrooms: 2\\n- Bathrooms: 2\\n- House Size: 1500 sqft\\n- Description: Nestled in the vibrant heart of LA’s Arts District, this exquisite loft combines modern elegance with an artistic charm perfect for creatives and artists alike. The open floor plan is basked in natural light pouring through large industrial windows and features polished concrete floors. A sleek kitchen offers stainless steel appliances next to a spacious living area that's ideal for both work sessions and social gatherings. The two cozy bedrooms provide serene retreats after long days of creation.\\n- Neighborhood Description: Known as a haven for artists, the neighborhood buzzes with galleries, live music venues, and colorful street murals that inspire daily life around every corner. Steps away from artisanal coffee shops, organic eateries, and unique boutiques; this community thrives on creativity and diversity while offering peaceful green spaces amidst urban vibrancy where you can relax or find fresh inspiration for your next project.</td>\n",
       "      <td>11</td>\n",
       "      <td>[0.15195923, -0.09333866, 0.06700623, 0.042532057, -0.011775567, 0.028087756, -0.05439586, -0.060971376, -0.014062291, -0.068128124, 0.039193004, -0.013474848, 0.056932934, -0.036863685, 0.05600356, 0.06563748, 0.1084571, -0.07398335, 0.037436377, 0.017073754, -0.044793863, -0.0026523399, -0.023042537, 0.012308961, -0.0074851564, 0.025736831, 0.0037364224, 0.020598676, 0.01060477, -0.053439464, 0.07496734, 0.09857894, -0.036611658, 0.014755222, 0.050547313, 0.05720675, -0.010934036, 0.012096093, 0.033526998, 0.04720258, -0.06606371, -0.023297682, -0.043788336, -0.069133066, -0.03437199, -0.10295048, -0.05351675, -0.019772494, 0.046965152, -0.022738624, 0.019290933, 0.01026558, -0.0054961853, 0.027905198, -0.034057237, 0.012937601, -0.017550994, 0.02356526, 0.06765566, 0.021355812, 0.08116346, -0.00017933654, -0.039567996, -0.0007690752, -0.016029723, -0.035321224, -0.030276936, 0.024099275, -0.029035404, -0.115753934, 0.02961864, -0.026520079, 0.017428283, 0.007252295, 0.089421004, 0.029937942, -0.03774487, -0.049521927, -0.033952404, -0.029610839, 0.0499127, -0.002254678, -0.061813165, 0.05202585, -0.091055594, -0.01856386, -0.020711591, 0.0040844413, 0.034237266, -0.024724688, -0.029407851, 0.064935334, -0.08857669, -0.06131892, 0.040911682, -0.02394759, -0.02595494, -0.057240654, -0.01701473, 0.028293613, ...]</td>\n",
       "    </tr>\n",
       "  </tbody>\n",
       "</table>\n",
       "<p>120 rows × 3 columns</p>\n",
       "</div>"
      ],
      "text/plain": [
       "                                                                                                                                                                                                                                                                                                                                                                                                                                                                                                                                                                                                                                                                                                                                                                                                                                                                                                                                                                                                                                                                                                                                                                                                                                                                                                                                                                                                                                                                                                                                                                                                                                                                                                                                                                                                                                                                                                                                                                                                                                                                                                                                 listing  \\\n",
       "0    - Neighborhood: 250 Waterfront St, Marina District\\n- Price: $895,000\\n- Bedrooms: 2\\n- Bathrooms: 2\\n- House Size: 1,100 sqft\\n- Description: Immerse yourself in the heart of vibrancy and comfort with this stylish modern condo designed for young professionals. The open-plan living space is bathed in natural light from floor-to-ceiling windows that offer enchanting cityscape views. High-end finishes are evident throughout the kitchen that boasts stainless steel appliances, sleek cabinetry, and a chic breakfast bar perfect for on-the-go mornings or intimate dinners. Both bedrooms serve as private havens with ample closet space and plush carpeting underfoot.\\n \\n   Indulge in the luxury of en-suite bathrooms featuring contemporary fixtures and fine tile work that add to the elegance of urban living. As an added convenience, an in-unit washer and dryer set simplifies laundry days.\\n\\n   This home is more than just its interior; it includes access to top-tier building amenities such as a rooftop terrace with panoramic views, state-of-the-art fitness center, residents' lounge for entertaining guests, secured parking structure, and attentive concierge services enhancing daily life.\\n\\n- Neighborhood Description: Located in the sought-after Marina Districts area often frequented by thriving professionals. The neighborhood pulses with cosmopolitan energy yet retains a relaxed atmosphere conducive to networking and unwinding alike. Within walking distance are gourmet restaurants offering international cuisines, boutique shops for fashion-forward finds along scenic promenades lined with public art installations reflective of local creativity.\\n\\n    Outdoor enthusiasts will appreciate proximity to parks where jogging trails meander alongside waterfront vistas—a tranquil escape from busy schedules. Cultural institutions like theatres hosting premiere performances contribute to rich experiences just steps away from your front door while reliable public transit connects you effortlessly across the city's diverse neighborhoods.\\n   \n",
       "1                                                                                                                                                                                                                                                                                                                                                                                                                                                                                                                                                                                                                                                                                                                                                                                                                                                                                                                                                          - Neighborhood: 352 Parkview Terrace, Austin\\n- Price: $425,000\\n- Bedrooms: 2\\n- Bathrooms: 2\\n- House Size: 1,200 sqft\\n- Description: This sleek and modern condo offers the perfect blend of style and convenience for the young professional. Featuring state-of-the-art appliances, hardwood flooring throughout, an open-concept living space with large windows that flood the area with natural light. The master suite includes a walk-in closet and a pristine en-suite bathroom. Additional amenities include in-unit laundry facilities and private balcony with breathtaking city views.\\n                     \\n- Neighborhood Description: Situated in the heart of Austin's vibrant scene, Parkview Terrace is an ideal spot for those looking to be at arm’s reach from bustling cafes, hip restaurants & bars, boutique shopping options as well as premier entertainment venues. The neighborhood boasts easy access to public transportation facilitating commutes. It is also known for its safety measures and pet-friendly parks which just adds another layer of allure to this dynamic community perfect for social but career-focused individuals.   \n",
       "2                                                                                                                                                                                                                                                                                                                                                                                                                                                                                                                                                                                                                                                                                                                                                                                                                                                                                                                                                                                                                                                                                                                                                                                                                                                                   - Neighborhood: 255 Upstart Lane, Silicon Valley\\n- Price: $1,200,000\\n- Bedrooms: 3\\n- Bathrooms: 2\\n- House Size: 1800 sqft\\n- Description: This modern and sleek single-family home offers an open floor plan with high-end finishes throughout. The kitchen boasts stainless steel appliances and a large island perfect for entertaining. Hardwood floors lead you through the light-filled living space to a cozy backyard oasis. Equipped with smart home features and energy-efficient windows.\\n- Neighborhood Description: Situated in the heart of Silicon Valley, this neighborhood is vibrant and full of life, catering to young professionals keen on innovation and convenience. Just steps away from tech headquarters, dynamic start-ups, upscale dining options, boutique coffee shops, and lush parks ideal for weekend picnics or morning jogs.   \n",
       "3                                                                                                                                                                                                                                                                                                                                                                                                                                                                                                                                                                                                                                                                                                                                                                                                                                                                                                                                                                                        - Neighborhood: 350 Bayswater Ave, San Francisco\\n- Price: $1,500,000\\n- Bedrooms: 2\\n- Bathrooms: 2 \\n- House Size: 1,200 sqft\\n- Description: A sleek and modern two-bedroom condominium perfect for young professionals seeking style and convenience in the heart of San Francisco. This recently renovated unit features an open floor plan with high-end finishes, a state-of-the-art kitchen equipped with stainless steel appliances, gleaming hardwood floors throughout, and large windows that flood the space with natural light. The master suite offers a private retreat complete with ample closet space and a spa-like bathroom.\\n- Neighborhood Description: Positioned in the vibrant neighborhood of Bayswater Avenue within walking distance to tech shuttles, this area is known for its trendy cafes, boutique shops, and pulsating nightlife. Commuters will appreciate proximity to public transit as well as quick access to major freeways. The community also boasts serene parks and waterfront walks which provide quiet escapes from the urban bustle for those after-work unwind moments or weekend adventures.   \n",
       "4                                                                                                                                                                                                                                                                                                                                                                                                                                                                                                                                                                                                                                                                                                                                                                                                                                                                                                                                                       - Neighborhood: The Metropolitan Lofts, 115 Cityscape Terrace, Downtown District\\n- Price: $459,000\\n- Bedrooms: 2\\n- Bathrooms: 2\\n- House Size: 1,100 sqft\\n- Description: This modern loft boasts an open floor plan with high ceilings and large windows that bathe the space in natural light. The contemporary kitchen features stainless steel appliances and a sleek breakfast bar perfect for casual dining. Hardwood floors run throughout the living areas into two spacious bedrooms with ample closet space. State-of-the-art smart home technology is installed for added convenience and security.\\n  \\n - Neighborhood Description:\\nThe Metropolitan Lofts are situated at the heart of the downtown area, offering young professionals an energetic lifestyle coupled with comfort. Within walking distance to dynamic startups, posh restaurants, cultural hotspots like art galleries and theaters as well as local farmers' markets on weekends - this neighborhood thrives on its diverse community atmosphere. With easy access to public transportation and biking lanes it's also perfect for eco-conscious residents leading a car-free lifestyle.\\n\\n   \n",
       "..                                                                                                                                                                                                                                                                                                                                                                                                                                                                                                                                                                                                                                                                                                                                                                                                                                                                                                                                                                                                                                                                                                                                                                                                                                                                                                                                                                                                                                                                                                                                                                                                                                                                                                                                                                                                                                                                                                                                                                                                                                                                                                                                   ...   \n",
       "115                                                                                                                                                                                                                                                                                                                                                                                                                                                                                                                                                                                                                                                                                                                                                                                                                                                                                                                                                                                                                                                                                                                                                                                   - Neighborhood: 153 Bohemian Lane, Artisanville\\n- Price: $725,000\\n- Bedrooms: 3\\n- Bathrooms: 2\\n- House Size: 2,100 sqft\\n- Description: This vibrant and inspiring home stands as a creative sanctuary designed with artists in mind. The expansive walls are treated to serve as canvases for murals or gallery displays, and the open floor plan ensures natural light fills every room. An enclosed patio creates a serene space for outdoor creativity. The studio annex comes equipped with adjustable lighting perfect for any art form.\\n- Neighborhood Description: Nestled in bustling Artisanville, this neighborhood is known for its cultural diversity and artistic flair. Weekly craft fairs and co-op galleries make it an ideal spot for creatives seeking community inspiration. Coffee shops play host to poetry slams while live music venues promote local talent—making it the heartbeat of the city's avant-garde scene.   \n",
       "116                                                                                                                                                                                                                                                                                                                                                                                                                                                                                                                                                                                                                                                                                                                                                                                                                                                                                                                                                                           - Neighborhood: 500 Bohemian Way, Arts District\\n- Price: $750,000\\n- Bedrooms: 2\\n- Bathrooms: 2\\n- House Size: 1,800 sqft\\n- Description: This unique loft-style home features soaring ceilings and an open floor plan filled with natural light. The interior boasts industrial-chic design elements like exposed brick walls and ductwork. A modern kitchen with stainless steel appliances provides the perfect space for culinary exploration, while the spacious living area offers a versatile canvas for any artistic endeavor. The bedrooms are serene retreats with ample storage space; the master includes an en-suite bathroom adorned with stylish fixtures.\\n- Neighborhood Description: Nestled in the heart of the city's vibrant Arts District, this neighborhood is alive with creativity and culture. You'll be surrounded by galleries showcasing local artists' work, trendy cafes brimming with inspiration, and performance spaces where music and theater thrive. It's a community that not only appreciates art but lives it daily—an urban oasis for anyone passionate about expressing themselves through their surroundings.   \n",
       "117                                                                                                                                                                                                                                                                                                                                                                                                                                                                                                                                                                                                                                                                                                                                                                                                                                                                                                                                                                      - Neighborhood: The Arts District, Downtown Los Angeles\\n- Price: $1.2 Million\\n- Bedrooms: 2\\n- Bathrooms: 2\\n- House Size: 1500 sqft\\n- Description: This industrial-inspired loft offers an open floor plan with high ceilings, large windows that flood the space with natural light, and polished concrete floors. Custom wall installations & modern art fixtures enhance the artistic vibe of the home, complemented by a professional-grade kitchen fitted for culinary creativity. An enclosed patio acts as both a serene retreat and inspirational space perfect for any creative endeavor.\\n- Neighborhood Description: Nestled within LA’s vibrant Arts District, this neighborhood thrives with galleries, live/work studios and a diverse community of artists and creatives. Enjoy easy access to artisanal coffee shops like Stumptown Coffee Roasters or Blue Bottle Coffee, organic eateries such as Bestia and Bavel for foodie adventures after studio work hours. The area is known for its eclectic charm with murals gracing building walls inviting inspiration at every corner along with frequent art walks showcasing local talent.   \n",
       "118                                                        - Neighborhood: 152 Brushstroke Lane, Arts District, Creativia City\\n- Price: $850,000\\n- Bedrooms: 3\\n- Bathrooms: 2.5\\n- House Size: 2,300 sqft\\n- Description: Discover the inspirational living space at this modern loft perfectly tailored for artists and creatives in the heart of Creativia’s vibrant Arts District. Every corner of this property has been carefully designed to ignite your imagination and provide a tranquil space for concentration and creation. The property features an open-plan layout with high ceilings that allow an abundance of natural light to spill across hardwood floors. The main studio area is equipped with professional-grade lighting systems and big wall spaces waiting to exhibit your masterpieces or serve as a blank canvas — literally! A chic kitchen fitted with stainless steel appliances offers a stylish spot to fuel up on coffee or create culinary art while brainstorming your next project.\\n  \\nThe three bedrooms are equally spacious, each one offering enough room for both restful slumber and quiet contemplation away from the main activity hub. An added luxury is the built-in library system integrated into cozy reading nooks ideal for delving into art history books or unwinding with fiction.\\n\\nThe exterior complements the creativity found inside with murals painted by local artists gracing communal walls, creating an inspiring walk-up experience each day.\\n\\n- Neighborhood Description: Nestled within Creativia's bustling Arts District, this neighborhood thrives as a dynamic enclave where art comes alive every direction you look—galleries display cutting-edge work while studios hum with activity around-the-clock. Just steps away from cozy cafes bursting with fellow creatives discussing their latest projects over robust espressos or herbal teas. Frequent street festivals transform city blocks into outdoor canvases celebrating creativity in all its forms—a truly collaborative community eager to welcome its next visionary resident artist.\\n   \n",
       "119                                                                                                                                                                                                                                                                                                                                                                                                                                                                                                                                                                                                                                                                                                                                                                                                                                                                                                                                                                                    - Neighborhood: 57 Artisan Way, Arts District, Los Angeles\\n- Price: $1.2 million\\n- Bedrooms: 2\\n- Bathrooms: 2\\n- House Size: 1500 sqft\\n- Description: Nestled in the vibrant heart of LA’s Arts District, this exquisite loft combines modern elegance with an artistic charm perfect for creatives and artists alike. The open floor plan is basked in natural light pouring through large industrial windows and features polished concrete floors. A sleek kitchen offers stainless steel appliances next to a spacious living area that's ideal for both work sessions and social gatherings. The two cozy bedrooms provide serene retreats after long days of creation.\\n- Neighborhood Description: Known as a haven for artists, the neighborhood buzzes with galleries, live music venues, and colorful street murals that inspire daily life around every corner. Steps away from artisanal coffee shops, organic eateries, and unique boutiques; this community thrives on creativity and diversity while offering peaceful green spaces amidst urban vibrancy where you can relax or find fresh inspiration for your next project.   \n",
       "\n",
       "     group  \\\n",
       "0        0   \n",
       "1        0   \n",
       "2        0   \n",
       "3        0   \n",
       "4        0   \n",
       "..     ...   \n",
       "115     11   \n",
       "116     11   \n",
       "117     11   \n",
       "118     11   \n",
       "119     11   \n",
       "\n",
       "                                                                                                                                                                                                                                                                                                                                                                                                                                                                                                                                                                                                                                                                                                                                                                                                                                                                                                                                                                                                                                                                                                                                                                                                                                                                                                                                                                                                vector  \n",
       "0                 [0.058508143, 0.02907416, 0.043684054, -0.009807144, -0.050845005, 0.030122882, -0.060871765, 0.0040336815, -0.025515487, -0.0282995, -0.01119739, -0.111601084, 0.03444756, 0.0011670552, 0.08167276, 0.010128735, 0.11821405, 0.026792387, 0.029855762, 0.051701207, -0.04625208, 0.0046300814, 0.00084731093, -0.035731196, 0.0156841, 0.08610467, 0.01831103, 0.03300818, -0.049790993, 0.011102918, 0.059595834, 0.047849704, 0.028044403, -0.06404407, 0.056364294, -0.042862635, -0.034160275, -0.05080546, 0.007422114, -0.00040552652, -0.042594127, -0.017449502, -0.028738149, 0.050229516, -0.045410205, -0.063050054, -0.003511994, 0.03083161, 0.05919047, -0.07009388, 0.03898609, 0.08206192, 0.030433357, 0.03248369, -0.04558283, 0.024247643, -0.040412884, -0.029736688, 0.034573033, -0.044887252, 0.09426998, 0.016264196, 0.020763775, 0.01299787, 0.023354582, -0.03948777, -0.016023932, 0.0987113, 0.012233934, -0.07733977, -0.032462303, -0.0021667096, 0.047857303, 0.04200995, 0.0057053664, 0.009708946, 0.040949054, -0.019909529, -0.00068721455, 0.0044354647, 0.024635343, -0.017793769, -0.03741448, 0.0146732135, 0.011596321, -0.0041640406, 0.00031836514, -0.019088313, 0.036408745, 0.010967304, 0.025408411, -9.308738e-05, -0.15183586, -0.099948965, 0.024020763, -0.0034210996, -0.1385258, -0.02444478, 0.010562316, 0.012679376, ...]  \n",
       "1                          [0.08807147, -0.031950254, 0.11615688, 0.006585816, -0.09464219, 0.030149572, 0.0077909925, -0.021867914, -0.007555809, -0.032976802, 0.012449364, 0.009467583, 0.0921661, 0.007781201, 0.07434154, 0.00878247, 0.09606928, 0.027645389, 0.024280358, 0.052039545, -0.028513487, 0.00895382, -0.0075076977, -0.017512724, -0.058618948, 0.12708355, 0.01685586, -0.012254036, -0.03175031, 0.0036859997, 0.08263985, 4.6791287e-05, 0.04767689, -0.042601336, 0.043040067, 0.011154155, -0.017736562, -0.068274006, -0.00048933615, -0.028498916, -0.064493924, 0.017040381, 0.000983461, 0.0045599947, -0.065816805, 0.007836677, 0.0387529, -0.061712228, 0.06478883, -0.0781714, -0.013709768, 0.10059742, 0.060913317, -0.011910532, -0.03795262, -0.015967617, -0.1021183, -0.025586698, 0.053137723, -0.022110129, 0.07482723, -0.0496895, -0.0057119885, 0.006598796, -0.050764926, 0.007332867, -0.044918347, 0.0028528215, 0.11970743, -0.112714425, 0.02813775, 0.029141827, 0.021982389, -0.03045588, 0.05601084, 0.021104354, 0.05666741, -0.08972128, -0.010668588, -0.09398278, 0.013628775, 0.01205997, -0.050931692, 0.030454433, 0.026114484, -0.079838276, 0.04986911, 0.0497619, -0.0068033743, 0.026566295, 0.018746361, 0.053277124, -0.111555815, -0.06320819, -0.0012237187, -0.021749938, -0.13538618, -0.12655511, -0.025042966, 0.016559267, ...]  \n",
       "2                          [0.08845601, -0.043761484, 0.033120435, 0.06408158, -0.019495893, -0.031640604, -0.009454071, 0.031130169, -0.045147106, -0.03444731, 0.039114967, -0.042184874, 0.08638866, -0.03186928, 0.03725231, 0.047904342, 0.07385175, -0.08213356, 0.038681656, -0.05493202, -0.021867454, -0.051440794, 0.000861491, -0.0049014767, 0.041336894, 0.029743083, -0.0065177553, 0.037630904, -0.04952055, -0.010427829, 0.032680452, 0.059168868, 0.04992675, -0.04495834, 0.1293789, 0.056262657, 0.028600663, 0.014675709, -0.009925487, -0.03074881, 0.010057499, -0.065570325, 0.024806434, 0.02269663, -0.010679938, -0.019586783, -0.026945295, -0.04426144, 0.062097598, -0.013811872, -0.0070331935, 0.078844994, 0.06391136, 0.041363418, -0.045211267, 0.04058532, 0.045133196, 0.013675001, 0.05571541, -0.028761115, 0.095998235, -0.1123927, -0.06424835, 0.014571066, 0.012725089, 0.0026134618, 0.02058744, -0.035124887, -0.032438204, -0.121959, -0.02053008, 0.019161487, 0.017172331, 0.060969643, 0.041572966, -0.0096922405, 0.10153402, 0.016938658, 0.045315143, -0.0073015112, 0.017081372, -0.020691168, -0.07471205, 0.017385583, -0.060473487, 0.04932804, -0.069987945, 0.021012237, 0.034298666, -0.027546108, -0.041436158, 0.022462804, -0.0455265, -0.07602675, 0.03358674, 0.0050479225, -0.12512314, -0.10766774, 0.0041346964, 0.0027330706, ...]  \n",
       "3                      [0.090730816, -0.062145982, 0.08213632, 0.03265288, -0.050206922, 0.05318836, 0.0046987436, -0.013301376, -0.0061599, -0.05964209, -0.04299265, -0.0014532192, 0.009745793, 0.016168682, 0.020407395, 0.04449941, 0.04542817, -0.0021466927, 0.07728415, 0.021731671, -0.014896234, -0.036011174, -0.029097227, -0.049611032, -0.039944034, 0.07476149, 0.028605029, 0.088384815, -0.011845251, 0.019141475, 0.040637314, 0.051503688, 0.027711362, -0.062799156, 0.06993268, -0.03010638, 0.02663735, -0.06075246, -0.0053474605, 0.008188671, -0.06562605, 0.004666447, 0.0108147375, 0.06020615, 0.037687223, -0.047167595, -0.034944303, -0.029204214, 0.07273027, -0.05504098, -0.042334992, 0.009130871, 0.030186968, 0.04596568, -0.056186333, -0.0041861273, 0.0017615486, -0.063419156, 0.06785674, -0.048253447, 0.06675413, -0.08482192, -0.024825606, 0.012476155, 0.005692586, 0.030938847, -0.08533623, 0.049166944, 0.041798007, -0.06888365, -0.031528138, 0.0548989, -0.0025063225, 0.005736858, -0.049315456, -0.03085369, 0.026817106, -0.024327258, -0.024753954, 0.01926021, 0.0053213234, -0.07293724, -0.08038898, 0.057660807, 0.008367526, 0.022387888, -0.022610988, -0.050713703, -0.034815423, 0.05688356, -0.042132933, 0.036614124, -0.07754244, -0.14554197, -0.015131878, -0.01168551, -0.115514904, -0.1159017, -0.015897678, -0.0218942, ...]  \n",
       "4       [0.12559041, -0.018153721, 0.089051135, 0.04812442, -0.024816193, -0.003703513, -0.05756506, -0.020901693, -0.0384622, -0.0198584, 0.025562437, -0.009644824, 0.030299222, -0.0018644918, 0.036714256, 0.010886858, 0.13896345, -0.09647944, 0.07565884, 0.024991421, -0.028739076, -0.065250665, 0.030846978, -0.0030968017, 0.045881003, 0.0031576653, 0.0069364086, 0.026558284, -0.04016786, 0.0055862404, 0.10760214, 0.02568106, 0.008085231, 0.02043519, 0.03394033, 0.016807752, -0.002909032, 0.006349894, -0.021161342, -0.02046796, 0.0065334532, -0.088449456, -0.057280783, 0.020907035, -0.025859859, -0.0038910473, -0.015456641, -0.00025433712, 0.029801471, -0.0012669733, -0.03391974, 0.03939395, 0.039873634, 0.052384194, 0.009428579, 0.037622996, -0.005890393, 0.033061016, 0.039109092, -0.042911224, 0.061600376, -0.031011755, -0.06608479, -0.0353261, 0.0011557556, 0.018025704, -0.06742456, 0.028509488, 0.02461015, -0.14317358, -0.0023701398, -0.014720142, -0.0025323255, -0.024484122, 0.06861438, 0.005165492, 0.02658751, -0.10120224, 0.033749126, 0.01381703, 0.05371917, 0.005452472, -0.078007415, 0.011019609, -0.024538469, -0.00034448918, -0.0003693766, 0.018848663, -0.007612105, -0.042076513, 0.022684172, 0.0018292503, -0.122891866, -0.034991268, 0.014750816, -0.034551073, -0.108684376, -0.07161978, -0.051239602, 0.0067731063, ...]  \n",
       "..                                                                                                                                                                                                                                                                                                                                                                                                                                                                                                                                                                                                                                                                                                                                                                                                                                                                                                                                                                                                                                                                                                                                                                                                                                                                                                                                                                                                 ...  \n",
       "115         [0.14682534, -0.011700833, 0.0008682425, 0.027462212, -0.019341515, 0.019444667, -0.057707835, -0.06457297, -0.034957144, -0.027770594, -0.020418203, -0.040592507, 0.04879668, -0.020553948, 0.033709183, 0.045554932, 0.107742995, -0.041823745, 0.024762973, 0.004869764, -0.03132921, -0.015708791, 0.037932217, -0.023912584, 0.0021510683, -0.01698469, -0.046762872, 0.08729025, 0.05273731, -0.02853955, 0.055834904, 0.07889051, -0.013771943, -0.025202293, 0.07059762, 0.027860032, -0.009564674, 0.034174994, 0.05285313, 0.02990962, 0.0029527536, 0.0037825697, -0.08967382, -0.05725115, 0.00711551, -0.08101688, -0.019808961, 0.008970812, 0.024936263, -0.06372179, 0.017563093, -0.0031374118, -0.0072933296, 0.011756921, -0.0038150877, -0.035803482, -0.013003224, -0.014174832, 0.119469, -0.031577416, 0.107225865, 0.01388569, -0.047418755, 0.016086757, -0.045300253, -0.07192492, -0.07359407, 0.09347723, -0.015754184, -0.094981864, 0.045872036, -0.04991824, -0.025019735, -0.017803187, 0.07902143, 0.044143524, -0.047912277, -0.069467224, -0.058523975, 0.016861446, 0.053839587, -0.024409842, 0.006639486, 0.035115864, -0.04318524, -0.03117796, 0.027305577, 0.004774211, 0.023911566, -0.050511032, -0.03518198, 0.0014835731, -0.054316476, -0.04446727, 0.036321595, -0.020986656, -0.0015902699, -0.07300134, -0.00011183872, 0.03415802, ...]  \n",
       "116  [0.17066249, -0.025569819, 0.0076014493, 0.03725533, -0.04274002, 0.04248473, -0.07280098, -0.02461314, -0.026973223, -0.034596384, -0.031173788, -0.06702343, 0.046569485, -0.029821046, 0.018143011, 0.048084952, 0.14744359, -0.01625942, 0.04998222, 0.025461111, -0.07183211, -0.014470209, 0.030843232, 0.029751409, 0.0015952261, 0.0119321095, 0.016019894, 0.035598833, 0.0043714135, -0.033810206, 0.06296258, 0.068197675, -0.029214572, -0.02090789, 0.074306354, 0.073350996, -0.029810473, -1.19373835e-05, -0.0028970325, 0.006565052, -0.019095832, 0.0053166687, -0.040151294, -0.0057770023, 0.021224648, -0.032478247, -0.028745243, 0.009770922, 0.036195148, -0.026197618, -0.0037002964, 0.025121326, 0.005416375, 0.047650132, -0.014102893, 0.010241825, -0.011634913, -0.0070888824, 0.060530446, -0.018146424, 0.07182103, 0.034003876, -0.043571275, -0.00415783, 0.009986739, -0.04098483, -0.07101624, 0.04065781, 0.009059733, -0.1091493, 0.019033631, -0.07531879, -0.0042674425, 0.024824616, 0.025923515, 0.012136642, -0.045274597, -0.060914837, -0.03129377, -0.0041005774, 0.05091451, -0.05373615, -0.0018625108, -0.017716898, -0.038315296, -0.008103585, -0.026160333, 0.0043444196, 0.012343256, -0.03884756, 0.023887862, 0.031734366, -0.09146987, -0.05344716, 0.05054996, -0.0053452672, -0.03917767, -0.03572036, -0.012940203, 0.048289668, ...]  \n",
       "117                [0.14581649, -0.06833413, 0.019631097, 0.012120668, 0.0010444735, 0.03140546, -0.06283367, -0.048034523, -0.023321133, -0.05901952, 0.04803979, -0.040857967, 0.03905172, -0.004622765, 0.08169085, 0.03961602, 0.128306, -0.06019058, 0.03902058, -0.010535445, -0.0062396456, -0.0149213215, -0.0017217519, 0.052825276, -0.0061188326, 0.015201095, 0.0049992767, 0.016456727, -0.0031966032, -0.03521865, 0.0621868, 0.077071786, 0.011240572, 0.023449814, 0.05712051, 0.057107374, -0.038181223, 0.017802589, 0.077078514, 0.0016340923, -0.074814215, -0.04165978, -0.051902715, -0.070988074, -0.044116993, -0.12246045, -0.04546323, -0.028437579, 0.029450493, -0.0052670557, 0.008909524, 0.00764364, 0.018847175, 0.01065616, -0.054952554, 0.004472674, -0.012036775, 0.020225998, 0.052521396, 0.03155806, 0.051085353, -0.012900051, -0.047661256, 0.038773365, -0.018566802, -0.02489909, -0.08114905, 0.041807324, -0.025421122, -0.12627122, 0.04376517, -0.048110556, 0.02489057, -0.00075784605, 0.11229888, 0.048328508, -0.038311653, -0.009936736, -0.024473868, -0.038289487, 0.055724382, -0.0016349683, -0.08281658, 0.07087786, -0.08181998, 0.004171057, -0.027303517, 0.010152453, 0.04586282, -0.040325344, 0.023588719, 0.062949345, -0.10948248, -0.01964069, 0.059752133, -0.017539212, -0.029305318, -0.06277228, -0.037472356, 0.022594849, ...]  \n",
       "118             [0.08125552, -0.051426265, -0.029755283, 0.06199723, -0.049144704, 0.03306429, -0.05174118, -0.0129358, -0.011899836, -0.030146988, -0.0011894394, -0.11162777, 0.06700283, 0.0033110273, -0.003558881, 0.014440519, 0.11928742, -0.08367541, 0.046025798, 0.03955417, -0.0061467346, -0.05593319, -0.0037015786, 0.015611142, 0.042437542, 0.093282655, -0.009320404, 0.004393054, -0.013618208, -0.03096422, 0.0210163, 0.04870769, -0.0024424808, -0.0061741928, 0.08496296, 0.052212346, 0.00852402, 0.029231314, 0.026109844, 0.042414363, -0.09410475, -0.0024508105, -0.029497286, 0.0074369647, -0.029473297, -0.076988146, -0.036700007, -0.015407083, 0.04984182, -0.027383188, -0.040561695, 0.019846696, -0.0133192735, 0.07976184, -0.01800976, 0.07688359, -0.001654818, -0.04482589, 0.08090874, 0.0030335959, 0.03636902, -0.004212903, 0.01613085, 0.011604484, 0.011695933, -0.004865074, -0.16643941, -0.013624856, 0.0014022953, -0.11755779, 0.014213365, -0.059231665, -0.001980354, -0.015686596, 0.11161158, 0.016904762, -0.029203897, -0.11354108, -0.011082721, -0.029370245, -0.0572378, -0.021298349, -0.046087828, 0.04418245, 0.0122791445, 0.022191996, 0.041377906, -0.04635977, 0.008568091, -0.0027799192, 0.07031124, 0.048827372, -0.05714556, -0.05834636, 0.01083414, -0.0056116376, -0.019451672, -0.025820905, -0.026038589, 0.06727551, ...]  \n",
       "119             [0.15195923, -0.09333866, 0.06700623, 0.042532057, -0.011775567, 0.028087756, -0.05439586, -0.060971376, -0.014062291, -0.068128124, 0.039193004, -0.013474848, 0.056932934, -0.036863685, 0.05600356, 0.06563748, 0.1084571, -0.07398335, 0.037436377, 0.017073754, -0.044793863, -0.0026523399, -0.023042537, 0.012308961, -0.0074851564, 0.025736831, 0.0037364224, 0.020598676, 0.01060477, -0.053439464, 0.07496734, 0.09857894, -0.036611658, 0.014755222, 0.050547313, 0.05720675, -0.010934036, 0.012096093, 0.033526998, 0.04720258, -0.06606371, -0.023297682, -0.043788336, -0.069133066, -0.03437199, -0.10295048, -0.05351675, -0.019772494, 0.046965152, -0.022738624, 0.019290933, 0.01026558, -0.0054961853, 0.027905198, -0.034057237, 0.012937601, -0.017550994, 0.02356526, 0.06765566, 0.021355812, 0.08116346, -0.00017933654, -0.039567996, -0.0007690752, -0.016029723, -0.035321224, -0.030276936, 0.024099275, -0.029035404, -0.115753934, 0.02961864, -0.026520079, 0.017428283, 0.007252295, 0.089421004, 0.029937942, -0.03774487, -0.049521927, -0.033952404, -0.029610839, 0.0499127, -0.002254678, -0.061813165, 0.05202585, -0.091055594, -0.01856386, -0.020711591, 0.0040844413, 0.034237266, -0.024724688, -0.029407851, 0.064935334, -0.08857669, -0.06131892, 0.040911682, -0.02394759, -0.02595494, -0.057240654, -0.01701473, 0.028293613, ...]  \n",
       "\n",
       "[120 rows x 3 columns]"
      ]
     },
     "execution_count": 63,
     "metadata": {},
     "output_type": "execute_result"
    }
   ],
   "source": [
    "from lancedb.embeddings import with_embeddings\n",
    "\n",
    "df_embedded = with_embeddings(embed_func, df, column=\"listing\").to_pandas()\n",
    "df_embedded\n"
   ]
  },
  {
   "cell_type": "code",
   "execution_count": 64,
   "id": "f3ae8dce",
   "metadata": {},
   "outputs": [
    {
     "name": "stderr",
     "output_type": "stream",
     "text": [
      "[2024-06-22T10:25:13Z WARN  lance::dataset] No existing dataset at /lhome/yuwewan/workspace/Minverva/genAI_udacity/Real_Estate_Agent/lancedb/real_estate_listings.lance, it will be created\n"
     ]
    }
   ],
   "source": [
    "\n",
    "db = lancedb.connect(\"./lancedb\")\n",
    "table_name = \"real_estate_listings\"\n",
    "table = db.create_table(table_name, schema=RealEstateListing, mode=\"overwrite\")"
   ]
  },
  {
   "cell_type": "code",
   "execution_count": 65,
   "id": "eeca767f",
   "metadata": {},
   "outputs": [
    {
     "data": {
      "text/html": [
       "<div>\n",
       "<style scoped>\n",
       "    .dataframe tbody tr th:only-of-type {\n",
       "        vertical-align: middle;\n",
       "    }\n",
       "\n",
       "    .dataframe tbody tr th {\n",
       "        vertical-align: top;\n",
       "    }\n",
       "\n",
       "    .dataframe thead th {\n",
       "        text-align: right;\n",
       "    }\n",
       "</style>\n",
       "<table border=\"1\" class=\"dataframe\">\n",
       "  <thead>\n",
       "    <tr style=\"text-align: right;\">\n",
       "      <th></th>\n",
       "      <th>vector</th>\n",
       "      <th>listing</th>\n",
       "      <th>group</th>\n",
       "    </tr>\n",
       "  </thead>\n",
       "  <tbody>\n",
       "    <tr>\n",
       "      <th>0</th>\n",
       "      <td>[0.058508143, 0.02907416, 0.043684054, -0.009807144, -0.050845005, 0.030122882, -0.060871765, 0.0040336815, -0.025515487, -0.0282995, -0.01119739, -0.111601084, 0.03444756, 0.0011670552, 0.08167276, 0.010128735, 0.11821405, 0.026792387, 0.029855762, 0.051701207, -0.04625208, 0.0046300814, 0.00084731093, -0.035731196, 0.0156841, 0.08610467, 0.01831103, 0.03300818, -0.049790993, 0.011102918, 0.059595834, 0.047849704, 0.028044403, -0.06404407, 0.056364294, -0.042862635, -0.034160275, -0.05080546, 0.007422114, -0.00040552652, -0.042594127, -0.017449502, -0.028738149, 0.050229516, -0.045410205, -0.063050054, -0.003511994, 0.03083161, 0.05919047, -0.07009388, 0.03898609, 0.08206192, 0.030433357, 0.03248369, -0.04558283, 0.024247643, -0.040412884, -0.029736688, 0.034573033, -0.044887252, 0.09426998, 0.016264196, 0.020763775, 0.01299787, 0.023354582, -0.03948777, -0.016023932, 0.0987113, 0.012233934, -0.07733977, -0.032462303, -0.0021667096, 0.047857303, 0.04200995, 0.0057053664, 0.009708946, 0.040949054, -0.019909529, -0.00068721455, 0.0044354647, 0.024635343, -0.017793769, -0.03741448, 0.0146732135, 0.011596321, -0.0041640406, 0.00031836514, -0.019088313, 0.036408745, 0.010967304, 0.025408411, -9.308738e-05, -0.15183586, -0.099948965, 0.024020763, -0.0034210996, -0.1385258, -0.02444478, 0.010562316, 0.012679376, ...]</td>\n",
       "      <td>- Neighborhood: 250 Waterfront St, Marina District\\n- Price: $895,000\\n- Bedrooms: 2\\n- Bathrooms: 2\\n- House Size: 1,100 sqft\\n- Description: Immerse yourself in the heart of vibrancy and comfort with this stylish modern condo designed for young professionals. The open-plan living space is bathed in natural light from floor-to-ceiling windows that offer enchanting cityscape views. High-end finishes are evident throughout the kitchen that boasts stainless steel appliances, sleek cabinetry, and a chic breakfast bar perfect for on-the-go mornings or intimate dinners. Both bedrooms serve as private havens with ample closet space and plush carpeting underfoot.\\n \\n   Indulge in the luxury of en-suite bathrooms featuring contemporary fixtures and fine tile work that add to the elegance of urban living. As an added convenience, an in-unit washer and dryer set simplifies laundry days.\\n\\n   This home is more than just its interior; it includes access to top-tier building amenities such as a rooftop terrace with panoramic views, state-of-the-art fitness center, residents' lounge for entertaining guests, secured parking structure, and attentive concierge services enhancing daily life.\\n\\n- Neighborhood Description: Located in the sought-after Marina Districts area often frequented by thriving professionals. The neighborhood pulses with cosmopolitan energy yet retains a relaxed atmosphere conducive to networking and unwinding alike. Within walking distance are gourmet restaurants offering international cuisines, boutique shops for fashion-forward finds along scenic promenades lined with public art installations reflective of local creativity.\\n\\n    Outdoor enthusiasts will appreciate proximity to parks where jogging trails meander alongside waterfront vistas—a tranquil escape from busy schedules. Cultural institutions like theatres hosting premiere performances contribute to rich experiences just steps away from your front door while reliable public transit connects you effortlessly across the city's diverse neighborhoods.\\n</td>\n",
       "      <td>0</td>\n",
       "    </tr>\n",
       "    <tr>\n",
       "      <th>1</th>\n",
       "      <td>[0.08807147, -0.031950254, 0.11615688, 0.006585816, -0.09464219, 0.030149572, 0.0077909925, -0.021867914, -0.007555809, -0.032976802, 0.012449364, 0.009467583, 0.0921661, 0.007781201, 0.07434154, 0.00878247, 0.09606928, 0.027645389, 0.024280358, 0.052039545, -0.028513487, 0.00895382, -0.0075076977, -0.017512724, -0.058618948, 0.12708355, 0.01685586, -0.012254036, -0.03175031, 0.0036859997, 0.08263985, 4.6791287e-05, 0.04767689, -0.042601336, 0.043040067, 0.011154155, -0.017736562, -0.068274006, -0.00048933615, -0.028498916, -0.064493924, 0.017040381, 0.000983461, 0.0045599947, -0.065816805, 0.007836677, 0.0387529, -0.061712228, 0.06478883, -0.0781714, -0.013709768, 0.10059742, 0.060913317, -0.011910532, -0.03795262, -0.015967617, -0.1021183, -0.025586698, 0.053137723, -0.022110129, 0.07482723, -0.0496895, -0.0057119885, 0.006598796, -0.050764926, 0.007332867, -0.044918347, 0.0028528215, 0.11970743, -0.112714425, 0.02813775, 0.029141827, 0.021982389, -0.03045588, 0.05601084, 0.021104354, 0.05666741, -0.08972128, -0.010668588, -0.09398278, 0.013628775, 0.01205997, -0.050931692, 0.030454433, 0.026114484, -0.079838276, 0.04986911, 0.0497619, -0.0068033743, 0.026566295, 0.018746361, 0.053277124, -0.111555815, -0.06320819, -0.0012237187, -0.021749938, -0.13538618, -0.12655511, -0.025042966, 0.016559267, ...]</td>\n",
       "      <td>- Neighborhood: 352 Parkview Terrace, Austin\\n- Price: $425,000\\n- Bedrooms: 2\\n- Bathrooms: 2\\n- House Size: 1,200 sqft\\n- Description: This sleek and modern condo offers the perfect blend of style and convenience for the young professional. Featuring state-of-the-art appliances, hardwood flooring throughout, an open-concept living space with large windows that flood the area with natural light. The master suite includes a walk-in closet and a pristine en-suite bathroom. Additional amenities include in-unit laundry facilities and private balcony with breathtaking city views.\\n                     \\n- Neighborhood Description: Situated in the heart of Austin's vibrant scene, Parkview Terrace is an ideal spot for those looking to be at arm’s reach from bustling cafes, hip restaurants &amp; bars, boutique shopping options as well as premier entertainment venues. The neighborhood boasts easy access to public transportation facilitating commutes. It is also known for its safety measures and pet-friendly parks which just adds another layer of allure to this dynamic community perfect for social but career-focused individuals.</td>\n",
       "      <td>0</td>\n",
       "    </tr>\n",
       "    <tr>\n",
       "      <th>2</th>\n",
       "      <td>[0.08845601, -0.043761484, 0.033120435, 0.06408158, -0.019495893, -0.031640604, -0.009454071, 0.031130169, -0.045147106, -0.03444731, 0.039114967, -0.042184874, 0.08638866, -0.03186928, 0.03725231, 0.047904342, 0.07385175, -0.08213356, 0.038681656, -0.05493202, -0.021867454, -0.051440794, 0.000861491, -0.0049014767, 0.041336894, 0.029743083, -0.0065177553, 0.037630904, -0.04952055, -0.010427829, 0.032680452, 0.059168868, 0.04992675, -0.04495834, 0.1293789, 0.056262657, 0.028600663, 0.014675709, -0.009925487, -0.03074881, 0.010057499, -0.065570325, 0.024806434, 0.02269663, -0.010679938, -0.019586783, -0.026945295, -0.04426144, 0.062097598, -0.013811872, -0.0070331935, 0.078844994, 0.06391136, 0.041363418, -0.045211267, 0.04058532, 0.045133196, 0.013675001, 0.05571541, -0.028761115, 0.095998235, -0.1123927, -0.06424835, 0.014571066, 0.012725089, 0.0026134618, 0.02058744, -0.035124887, -0.032438204, -0.121959, -0.02053008, 0.019161487, 0.017172331, 0.060969643, 0.041572966, -0.0096922405, 0.10153402, 0.016938658, 0.045315143, -0.0073015112, 0.017081372, -0.020691168, -0.07471205, 0.017385583, -0.060473487, 0.04932804, -0.069987945, 0.021012237, 0.034298666, -0.027546108, -0.041436158, 0.022462804, -0.0455265, -0.07602675, 0.03358674, 0.0050479225, -0.12512314, -0.10766774, 0.0041346964, 0.0027330706, ...]</td>\n",
       "      <td>- Neighborhood: 255 Upstart Lane, Silicon Valley\\n- Price: $1,200,000\\n- Bedrooms: 3\\n- Bathrooms: 2\\n- House Size: 1800 sqft\\n- Description: This modern and sleek single-family home offers an open floor plan with high-end finishes throughout. The kitchen boasts stainless steel appliances and a large island perfect for entertaining. Hardwood floors lead you through the light-filled living space to a cozy backyard oasis. Equipped with smart home features and energy-efficient windows.\\n- Neighborhood Description: Situated in the heart of Silicon Valley, this neighborhood is vibrant and full of life, catering to young professionals keen on innovation and convenience. Just steps away from tech headquarters, dynamic start-ups, upscale dining options, boutique coffee shops, and lush parks ideal for weekend picnics or morning jogs.</td>\n",
       "      <td>0</td>\n",
       "    </tr>\n",
       "    <tr>\n",
       "      <th>3</th>\n",
       "      <td>[0.090730816, -0.062145982, 0.08213632, 0.03265288, -0.050206922, 0.05318836, 0.0046987436, -0.013301376, -0.0061599, -0.05964209, -0.04299265, -0.0014532192, 0.009745793, 0.016168682, 0.020407395, 0.04449941, 0.04542817, -0.0021466927, 0.07728415, 0.021731671, -0.014896234, -0.036011174, -0.029097227, -0.049611032, -0.039944034, 0.07476149, 0.028605029, 0.088384815, -0.011845251, 0.019141475, 0.040637314, 0.051503688, 0.027711362, -0.062799156, 0.06993268, -0.03010638, 0.02663735, -0.06075246, -0.0053474605, 0.008188671, -0.06562605, 0.004666447, 0.0108147375, 0.06020615, 0.037687223, -0.047167595, -0.034944303, -0.029204214, 0.07273027, -0.05504098, -0.042334992, 0.009130871, 0.030186968, 0.04596568, -0.056186333, -0.0041861273, 0.0017615486, -0.063419156, 0.06785674, -0.048253447, 0.06675413, -0.08482192, -0.024825606, 0.012476155, 0.005692586, 0.030938847, -0.08533623, 0.049166944, 0.041798007, -0.06888365, -0.031528138, 0.0548989, -0.0025063225, 0.005736858, -0.049315456, -0.03085369, 0.026817106, -0.024327258, -0.024753954, 0.01926021, 0.0053213234, -0.07293724, -0.08038898, 0.057660807, 0.008367526, 0.022387888, -0.022610988, -0.050713703, -0.034815423, 0.05688356, -0.042132933, 0.036614124, -0.07754244, -0.14554197, -0.015131878, -0.01168551, -0.115514904, -0.1159017, -0.015897678, -0.0218942, ...]</td>\n",
       "      <td>- Neighborhood: 350 Bayswater Ave, San Francisco\\n- Price: $1,500,000\\n- Bedrooms: 2\\n- Bathrooms: 2 \\n- House Size: 1,200 sqft\\n- Description: A sleek and modern two-bedroom condominium perfect for young professionals seeking style and convenience in the heart of San Francisco. This recently renovated unit features an open floor plan with high-end finishes, a state-of-the-art kitchen equipped with stainless steel appliances, gleaming hardwood floors throughout, and large windows that flood the space with natural light. The master suite offers a private retreat complete with ample closet space and a spa-like bathroom.\\n- Neighborhood Description: Positioned in the vibrant neighborhood of Bayswater Avenue within walking distance to tech shuttles, this area is known for its trendy cafes, boutique shops, and pulsating nightlife. Commuters will appreciate proximity to public transit as well as quick access to major freeways. The community also boasts serene parks and waterfront walks which provide quiet escapes from the urban bustle for those after-work unwind moments or weekend adventures.</td>\n",
       "      <td>0</td>\n",
       "    </tr>\n",
       "    <tr>\n",
       "      <th>4</th>\n",
       "      <td>[0.12559041, -0.018153721, 0.089051135, 0.04812442, -0.024816193, -0.003703513, -0.05756506, -0.020901693, -0.0384622, -0.0198584, 0.025562437, -0.009644824, 0.030299222, -0.0018644918, 0.036714256, 0.010886858, 0.13896345, -0.09647944, 0.07565884, 0.024991421, -0.028739076, -0.065250665, 0.030846978, -0.0030968017, 0.045881003, 0.0031576653, 0.0069364086, 0.026558284, -0.04016786, 0.0055862404, 0.10760214, 0.02568106, 0.008085231, 0.02043519, 0.03394033, 0.016807752, -0.002909032, 0.006349894, -0.021161342, -0.02046796, 0.0065334532, -0.088449456, -0.057280783, 0.020907035, -0.025859859, -0.0038910473, -0.015456641, -0.00025433712, 0.029801471, -0.0012669733, -0.03391974, 0.03939395, 0.039873634, 0.052384194, 0.009428579, 0.037622996, -0.005890393, 0.033061016, 0.039109092, -0.042911224, 0.061600376, -0.031011755, -0.06608479, -0.0353261, 0.0011557556, 0.018025704, -0.06742456, 0.028509488, 0.02461015, -0.14317358, -0.0023701398, -0.014720142, -0.0025323255, -0.024484122, 0.06861438, 0.005165492, 0.02658751, -0.10120224, 0.033749126, 0.01381703, 0.05371917, 0.005452472, -0.078007415, 0.011019609, -0.024538469, -0.00034448918, -0.0003693766, 0.018848663, -0.007612105, -0.042076513, 0.022684172, 0.0018292503, -0.122891866, -0.034991268, 0.014750816, -0.034551073, -0.108684376, -0.07161978, -0.051239602, 0.0067731063, ...]</td>\n",
       "      <td>- Neighborhood: The Metropolitan Lofts, 115 Cityscape Terrace, Downtown District\\n- Price: $459,000\\n- Bedrooms: 2\\n- Bathrooms: 2\\n- House Size: 1,100 sqft\\n- Description: This modern loft boasts an open floor plan with high ceilings and large windows that bathe the space in natural light. The contemporary kitchen features stainless steel appliances and a sleek breakfast bar perfect for casual dining. Hardwood floors run throughout the living areas into two spacious bedrooms with ample closet space. State-of-the-art smart home technology is installed for added convenience and security.\\n  \\n - Neighborhood Description:\\nThe Metropolitan Lofts are situated at the heart of the downtown area, offering young professionals an energetic lifestyle coupled with comfort. Within walking distance to dynamic startups, posh restaurants, cultural hotspots like art galleries and theaters as well as local farmers' markets on weekends - this neighborhood thrives on its diverse community atmosphere. With easy access to public transportation and biking lanes it's also perfect for eco-conscious residents leading a car-free lifestyle.\\n\\n</td>\n",
       "      <td>0</td>\n",
       "    </tr>\n",
       "  </tbody>\n",
       "</table>\n",
       "</div>"
      ],
      "text/plain": [
       "                                                                                                                                                                                                                                                                                                                                                                                                                                                                                                                                                                                                                                                                                                                                                                                                                                                                                                                                                                                                                                                                                                                                                                                                                                                                                                                                                                                           vector  \\\n",
       "0            [0.058508143, 0.02907416, 0.043684054, -0.009807144, -0.050845005, 0.030122882, -0.060871765, 0.0040336815, -0.025515487, -0.0282995, -0.01119739, -0.111601084, 0.03444756, 0.0011670552, 0.08167276, 0.010128735, 0.11821405, 0.026792387, 0.029855762, 0.051701207, -0.04625208, 0.0046300814, 0.00084731093, -0.035731196, 0.0156841, 0.08610467, 0.01831103, 0.03300818, -0.049790993, 0.011102918, 0.059595834, 0.047849704, 0.028044403, -0.06404407, 0.056364294, -0.042862635, -0.034160275, -0.05080546, 0.007422114, -0.00040552652, -0.042594127, -0.017449502, -0.028738149, 0.050229516, -0.045410205, -0.063050054, -0.003511994, 0.03083161, 0.05919047, -0.07009388, 0.03898609, 0.08206192, 0.030433357, 0.03248369, -0.04558283, 0.024247643, -0.040412884, -0.029736688, 0.034573033, -0.044887252, 0.09426998, 0.016264196, 0.020763775, 0.01299787, 0.023354582, -0.03948777, -0.016023932, 0.0987113, 0.012233934, -0.07733977, -0.032462303, -0.0021667096, 0.047857303, 0.04200995, 0.0057053664, 0.009708946, 0.040949054, -0.019909529, -0.00068721455, 0.0044354647, 0.024635343, -0.017793769, -0.03741448, 0.0146732135, 0.011596321, -0.0041640406, 0.00031836514, -0.019088313, 0.036408745, 0.010967304, 0.025408411, -9.308738e-05, -0.15183586, -0.099948965, 0.024020763, -0.0034210996, -0.1385258, -0.02444478, 0.010562316, 0.012679376, ...]   \n",
       "1                     [0.08807147, -0.031950254, 0.11615688, 0.006585816, -0.09464219, 0.030149572, 0.0077909925, -0.021867914, -0.007555809, -0.032976802, 0.012449364, 0.009467583, 0.0921661, 0.007781201, 0.07434154, 0.00878247, 0.09606928, 0.027645389, 0.024280358, 0.052039545, -0.028513487, 0.00895382, -0.0075076977, -0.017512724, -0.058618948, 0.12708355, 0.01685586, -0.012254036, -0.03175031, 0.0036859997, 0.08263985, 4.6791287e-05, 0.04767689, -0.042601336, 0.043040067, 0.011154155, -0.017736562, -0.068274006, -0.00048933615, -0.028498916, -0.064493924, 0.017040381, 0.000983461, 0.0045599947, -0.065816805, 0.007836677, 0.0387529, -0.061712228, 0.06478883, -0.0781714, -0.013709768, 0.10059742, 0.060913317, -0.011910532, -0.03795262, -0.015967617, -0.1021183, -0.025586698, 0.053137723, -0.022110129, 0.07482723, -0.0496895, -0.0057119885, 0.006598796, -0.050764926, 0.007332867, -0.044918347, 0.0028528215, 0.11970743, -0.112714425, 0.02813775, 0.029141827, 0.021982389, -0.03045588, 0.05601084, 0.021104354, 0.05666741, -0.08972128, -0.010668588, -0.09398278, 0.013628775, 0.01205997, -0.050931692, 0.030454433, 0.026114484, -0.079838276, 0.04986911, 0.0497619, -0.0068033743, 0.026566295, 0.018746361, 0.053277124, -0.111555815, -0.06320819, -0.0012237187, -0.021749938, -0.13538618, -0.12655511, -0.025042966, 0.016559267, ...]   \n",
       "2                     [0.08845601, -0.043761484, 0.033120435, 0.06408158, -0.019495893, -0.031640604, -0.009454071, 0.031130169, -0.045147106, -0.03444731, 0.039114967, -0.042184874, 0.08638866, -0.03186928, 0.03725231, 0.047904342, 0.07385175, -0.08213356, 0.038681656, -0.05493202, -0.021867454, -0.051440794, 0.000861491, -0.0049014767, 0.041336894, 0.029743083, -0.0065177553, 0.037630904, -0.04952055, -0.010427829, 0.032680452, 0.059168868, 0.04992675, -0.04495834, 0.1293789, 0.056262657, 0.028600663, 0.014675709, -0.009925487, -0.03074881, 0.010057499, -0.065570325, 0.024806434, 0.02269663, -0.010679938, -0.019586783, -0.026945295, -0.04426144, 0.062097598, -0.013811872, -0.0070331935, 0.078844994, 0.06391136, 0.041363418, -0.045211267, 0.04058532, 0.045133196, 0.013675001, 0.05571541, -0.028761115, 0.095998235, -0.1123927, -0.06424835, 0.014571066, 0.012725089, 0.0026134618, 0.02058744, -0.035124887, -0.032438204, -0.121959, -0.02053008, 0.019161487, 0.017172331, 0.060969643, 0.041572966, -0.0096922405, 0.10153402, 0.016938658, 0.045315143, -0.0073015112, 0.017081372, -0.020691168, -0.07471205, 0.017385583, -0.060473487, 0.04932804, -0.069987945, 0.021012237, 0.034298666, -0.027546108, -0.041436158, 0.022462804, -0.0455265, -0.07602675, 0.03358674, 0.0050479225, -0.12512314, -0.10766774, 0.0041346964, 0.0027330706, ...]   \n",
       "3                 [0.090730816, -0.062145982, 0.08213632, 0.03265288, -0.050206922, 0.05318836, 0.0046987436, -0.013301376, -0.0061599, -0.05964209, -0.04299265, -0.0014532192, 0.009745793, 0.016168682, 0.020407395, 0.04449941, 0.04542817, -0.0021466927, 0.07728415, 0.021731671, -0.014896234, -0.036011174, -0.029097227, -0.049611032, -0.039944034, 0.07476149, 0.028605029, 0.088384815, -0.011845251, 0.019141475, 0.040637314, 0.051503688, 0.027711362, -0.062799156, 0.06993268, -0.03010638, 0.02663735, -0.06075246, -0.0053474605, 0.008188671, -0.06562605, 0.004666447, 0.0108147375, 0.06020615, 0.037687223, -0.047167595, -0.034944303, -0.029204214, 0.07273027, -0.05504098, -0.042334992, 0.009130871, 0.030186968, 0.04596568, -0.056186333, -0.0041861273, 0.0017615486, -0.063419156, 0.06785674, -0.048253447, 0.06675413, -0.08482192, -0.024825606, 0.012476155, 0.005692586, 0.030938847, -0.08533623, 0.049166944, 0.041798007, -0.06888365, -0.031528138, 0.0548989, -0.0025063225, 0.005736858, -0.049315456, -0.03085369, 0.026817106, -0.024327258, -0.024753954, 0.01926021, 0.0053213234, -0.07293724, -0.08038898, 0.057660807, 0.008367526, 0.022387888, -0.022610988, -0.050713703, -0.034815423, 0.05688356, -0.042132933, 0.036614124, -0.07754244, -0.14554197, -0.015131878, -0.01168551, -0.115514904, -0.1159017, -0.015897678, -0.0218942, ...]   \n",
       "4  [0.12559041, -0.018153721, 0.089051135, 0.04812442, -0.024816193, -0.003703513, -0.05756506, -0.020901693, -0.0384622, -0.0198584, 0.025562437, -0.009644824, 0.030299222, -0.0018644918, 0.036714256, 0.010886858, 0.13896345, -0.09647944, 0.07565884, 0.024991421, -0.028739076, -0.065250665, 0.030846978, -0.0030968017, 0.045881003, 0.0031576653, 0.0069364086, 0.026558284, -0.04016786, 0.0055862404, 0.10760214, 0.02568106, 0.008085231, 0.02043519, 0.03394033, 0.016807752, -0.002909032, 0.006349894, -0.021161342, -0.02046796, 0.0065334532, -0.088449456, -0.057280783, 0.020907035, -0.025859859, -0.0038910473, -0.015456641, -0.00025433712, 0.029801471, -0.0012669733, -0.03391974, 0.03939395, 0.039873634, 0.052384194, 0.009428579, 0.037622996, -0.005890393, 0.033061016, 0.039109092, -0.042911224, 0.061600376, -0.031011755, -0.06608479, -0.0353261, 0.0011557556, 0.018025704, -0.06742456, 0.028509488, 0.02461015, -0.14317358, -0.0023701398, -0.014720142, -0.0025323255, -0.024484122, 0.06861438, 0.005165492, 0.02658751, -0.10120224, 0.033749126, 0.01381703, 0.05371917, 0.005452472, -0.078007415, 0.011019609, -0.024538469, -0.00034448918, -0.0003693766, 0.018848663, -0.007612105, -0.042076513, 0.022684172, 0.0018292503, -0.122891866, -0.034991268, 0.014750816, -0.034551073, -0.108684376, -0.07161978, -0.051239602, 0.0067731063, ...]   \n",
       "\n",
       "                                                                                                                                                                                                                                                                                                                                                                                                                                                                                                                                                                                                                                                                                                                                                                                                                                                                                                                                                                                                                                                                                                                                                                                                                                                                                                                                                                                                                                                                                                                                                                                                                                                                                                                                                                                                                                                                                                                                                                                                                                                                                                                               listing  \\\n",
       "0  - Neighborhood: 250 Waterfront St, Marina District\\n- Price: $895,000\\n- Bedrooms: 2\\n- Bathrooms: 2\\n- House Size: 1,100 sqft\\n- Description: Immerse yourself in the heart of vibrancy and comfort with this stylish modern condo designed for young professionals. The open-plan living space is bathed in natural light from floor-to-ceiling windows that offer enchanting cityscape views. High-end finishes are evident throughout the kitchen that boasts stainless steel appliances, sleek cabinetry, and a chic breakfast bar perfect for on-the-go mornings or intimate dinners. Both bedrooms serve as private havens with ample closet space and plush carpeting underfoot.\\n \\n   Indulge in the luxury of en-suite bathrooms featuring contemporary fixtures and fine tile work that add to the elegance of urban living. As an added convenience, an in-unit washer and dryer set simplifies laundry days.\\n\\n   This home is more than just its interior; it includes access to top-tier building amenities such as a rooftop terrace with panoramic views, state-of-the-art fitness center, residents' lounge for entertaining guests, secured parking structure, and attentive concierge services enhancing daily life.\\n\\n- Neighborhood Description: Located in the sought-after Marina Districts area often frequented by thriving professionals. The neighborhood pulses with cosmopolitan energy yet retains a relaxed atmosphere conducive to networking and unwinding alike. Within walking distance are gourmet restaurants offering international cuisines, boutique shops for fashion-forward finds along scenic promenades lined with public art installations reflective of local creativity.\\n\\n    Outdoor enthusiasts will appreciate proximity to parks where jogging trails meander alongside waterfront vistas—a tranquil escape from busy schedules. Cultural institutions like theatres hosting premiere performances contribute to rich experiences just steps away from your front door while reliable public transit connects you effortlessly across the city's diverse neighborhoods.\\n   \n",
       "1                                                                                                                                                                                                                                                                                                                                                                                                                                                                                                                                                                                                                                                                                                                                                                                                                                                                                                                                                        - Neighborhood: 352 Parkview Terrace, Austin\\n- Price: $425,000\\n- Bedrooms: 2\\n- Bathrooms: 2\\n- House Size: 1,200 sqft\\n- Description: This sleek and modern condo offers the perfect blend of style and convenience for the young professional. Featuring state-of-the-art appliances, hardwood flooring throughout, an open-concept living space with large windows that flood the area with natural light. The master suite includes a walk-in closet and a pristine en-suite bathroom. Additional amenities include in-unit laundry facilities and private balcony with breathtaking city views.\\n                     \\n- Neighborhood Description: Situated in the heart of Austin's vibrant scene, Parkview Terrace is an ideal spot for those looking to be at arm’s reach from bustling cafes, hip restaurants & bars, boutique shopping options as well as premier entertainment venues. The neighborhood boasts easy access to public transportation facilitating commutes. It is also known for its safety measures and pet-friendly parks which just adds another layer of allure to this dynamic community perfect for social but career-focused individuals.   \n",
       "2                                                                                                                                                                                                                                                                                                                                                                                                                                                                                                                                                                                                                                                                                                                                                                                                                                                                                                                                                                                                                                                                                                                                                                                                                                                                 - Neighborhood: 255 Upstart Lane, Silicon Valley\\n- Price: $1,200,000\\n- Bedrooms: 3\\n- Bathrooms: 2\\n- House Size: 1800 sqft\\n- Description: This modern and sleek single-family home offers an open floor plan with high-end finishes throughout. The kitchen boasts stainless steel appliances and a large island perfect for entertaining. Hardwood floors lead you through the light-filled living space to a cozy backyard oasis. Equipped with smart home features and energy-efficient windows.\\n- Neighborhood Description: Situated in the heart of Silicon Valley, this neighborhood is vibrant and full of life, catering to young professionals keen on innovation and convenience. Just steps away from tech headquarters, dynamic start-ups, upscale dining options, boutique coffee shops, and lush parks ideal for weekend picnics or morning jogs.   \n",
       "3                                                                                                                                                                                                                                                                                                                                                                                                                                                                                                                                                                                                                                                                                                                                                                                                                                                                                                                                                                                      - Neighborhood: 350 Bayswater Ave, San Francisco\\n- Price: $1,500,000\\n- Bedrooms: 2\\n- Bathrooms: 2 \\n- House Size: 1,200 sqft\\n- Description: A sleek and modern two-bedroom condominium perfect for young professionals seeking style and convenience in the heart of San Francisco. This recently renovated unit features an open floor plan with high-end finishes, a state-of-the-art kitchen equipped with stainless steel appliances, gleaming hardwood floors throughout, and large windows that flood the space with natural light. The master suite offers a private retreat complete with ample closet space and a spa-like bathroom.\\n- Neighborhood Description: Positioned in the vibrant neighborhood of Bayswater Avenue within walking distance to tech shuttles, this area is known for its trendy cafes, boutique shops, and pulsating nightlife. Commuters will appreciate proximity to public transit as well as quick access to major freeways. The community also boasts serene parks and waterfront walks which provide quiet escapes from the urban bustle for those after-work unwind moments or weekend adventures.   \n",
       "4                                                                                                                                                                                                                                                                                                                                                                                                                                                                                                                                                                                                                                                                                                                                                                                                                                                                                                                                                     - Neighborhood: The Metropolitan Lofts, 115 Cityscape Terrace, Downtown District\\n- Price: $459,000\\n- Bedrooms: 2\\n- Bathrooms: 2\\n- House Size: 1,100 sqft\\n- Description: This modern loft boasts an open floor plan with high ceilings and large windows that bathe the space in natural light. The contemporary kitchen features stainless steel appliances and a sleek breakfast bar perfect for casual dining. Hardwood floors run throughout the living areas into two spacious bedrooms with ample closet space. State-of-the-art smart home technology is installed for added convenience and security.\\n  \\n - Neighborhood Description:\\nThe Metropolitan Lofts are situated at the heart of the downtown area, offering young professionals an energetic lifestyle coupled with comfort. Within walking distance to dynamic startups, posh restaurants, cultural hotspots like art galleries and theaters as well as local farmers' markets on weekends - this neighborhood thrives on its diverse community atmosphere. With easy access to public transportation and biking lanes it's also perfect for eco-conscious residents leading a car-free lifestyle.\\n\\n   \n",
       "\n",
       "  group  \n",
       "0     0  \n",
       "1     0  \n",
       "2     0  \n",
       "3     0  \n",
       "4     0  "
      ]
     },
     "execution_count": 65,
     "metadata": {},
     "output_type": "execute_result"
    }
   ],
   "source": [
    "table.add(df_embedded.to_dict('records'))\n",
    "table.head().to_pandas()"
   ]
  },
  {
   "cell_type": "markdown",
   "id": "e959ec74",
   "metadata": {},
   "source": [
    "### Building the User Preference Interface"
   ]
  },
  {
   "cell_type": "code",
   "execution_count": 66,
   "id": "b5c9d910",
   "metadata": {},
   "outputs": [],
   "source": [
    "questions = [   \n",
    "                \"How big do you want your house to be?\" \n",
    "                \"What are 3 most important things for you in choosing this property?\", \n",
    "                \"Which amenities would you like?\", \n",
    "                \"Which transportation options are important to you?\",\n",
    "                \"How urban do you want your neighborhood to be?\",   \n",
    "            ]\n",
    "answers = [\n",
    "            \"A comfortable three-bedroom house with a spacious kitchen and a cozy living room.\",\n",
    "            \"A quiet neighborhood, good local schools, and convenient shopping options.\",\n",
    "            \"A backyard for gardening, a two-car garage, and a modern, energy-efficient heating system.\",\n",
    "            \"Easy access to a reliable bus line, proximity to a major highway, and bike-friendly roads.\",\n",
    "            \"A balance between suburban tranquility and access to urban amenities like restaurants and theaters.\"\n",
    "        ]"
   ]
  },
  {
   "cell_type": "code",
   "execution_count": 67,
   "id": "8d3725ae",
   "metadata": {},
   "outputs": [],
   "source": [
    "\n",
    "# build an User Portrait embedding could improve the performance\n",
    "user_prompt_preference = lambda text: f\"\"\"Task: extract user preference based on question and answer : {text}.\"\"\"\n",
    "system_prompt_preference = \"\"\"\n",
    "                        You generate texts about a potential buyer's preference focusing on factors: address, price, number of bedrooms, number of bathrooms, size in sqft, general property information and neighborhood environment.\n",
    "                    \"\"\"\n",
    "def preference_parser(text):\n",
    "    try:\n",
    "        client = OpenAI(\n",
    "            api_key=os.getenv(\"OPENAI_API_KEY\"),\n",
    "            # I have chosen to use local model host, as OpenAI has recently closed the 5$ api key bonus\n",
    "            # the model supports same api format as openai does\n",
    "            base_url=\"http://localhost:8080\"\n",
    "        )\n",
    "        response = client.chat.completions.create(\n",
    "            model=\"gpt4-turbo\",\n",
    "            # model='gpt-4'\n",
    "            messages=[\n",
    "                {\n",
    "                    \"role\": \"system\",\n",
    "                    \"content\": system_prompt_template,\n",
    "                },\n",
    "                {\n",
    "                    \"role\": \"user\",\n",
    "                    \"content\": user_prompt_template(text),\n",
    "                },\n",
    "            ],\n",
    "            temperature=1,\n",
    "            max_tokens=256,\n",
    "            top_p=1,\n",
    "            frequency_penalty=0,\n",
    "            presence_penalty=0\n",
    "        )\n",
    "        return response.choices[0].message.content\n",
    "    except Exception as e:\n",
    "        return f\"An error occurred: {e}\""
   ]
  },
  {
   "cell_type": "code",
   "execution_count": 68,
   "id": "d5521f37",
   "metadata": {},
   "outputs": [
    {
     "data": {
      "text/plain": [
       "'- Neighborhood: 352 Maple Avenue, Springfield\\n- Price: $475,000\\n- Bedrooms: 4\\n- Bathrooms: 3\\n- House Size: 2,500 sqft\\n- Description: This stunning two-story home features a contemporary open floor plan, an updated kitchen with stainless steel appliances and granite countertops, and a cozy fireplace in the living room. Hardwood floors run throughout the main level, leading to a spacious deck overlooking a well-manicured backyard. The master suite boasts a walk-in closet and a luxurious en suite bathroom with a soaking tub and separate shower. An attached two-car garage and full basement offer plenty of storage.\\n- Neighborhood Description: The neighborhood strikes a perfect balance for those seeking an urban vibe within a suburban community. Situated with easy access to a reliable bus line, the daily commute is a breeze. The proximity to the major highway simplifies travel and weekend getaways. Cyclists will rejoice at the bike-friendly roads that connect to scenic routes and parks. This community is vibrant and bustling with the convenience of nearby shops, cafes, and restaurants, while still maintaining a friendly, neighborhood atmosphere.'"
      ]
     },
     "execution_count": 68,
     "metadata": {},
     "output_type": "execute_result"
    }
   ],
   "source": [
    "QA=\"\"\n",
    "for i in range(len(questions)):\n",
    "    QA = questions[i]+\" \"+answers[i]+\" \"\n",
    "preference_text = preference_parser(QA)\n",
    "preference_text"
   ]
  },
  {
   "cell_type": "markdown",
   "id": "8819a1f3",
   "metadata": {},
   "source": [
    "### Searching Based on Preferences"
   ]
  },
  {
   "cell_type": "code",
   "execution_count": 69,
   "id": "000b8695",
   "metadata": {},
   "outputs": [],
   "source": [
    "from openai import OpenAI\n",
    "from dotenv import load_dotenv\n",
    "load_dotenv()\n",
    "import os\n",
    "\n",
    "EMBEDDING_MODEL_NAME = \"text-embedding-ada-002\"\n",
    "client = OpenAI(\n",
    "    api_key=os.getenv(\"OPENAI_API_KEY\"),\n",
    "    # I have chosen to use local model host, as OpenAI has recently closed the 5$ api key bonus\n",
    "    # the model supports same api format as openai does\n",
    "    base_url=\"http://localhost:8080\"\n",
    ")\n",
    "def embed_func(c):    \n",
    "    response = client.embeddings.create(input=c, model=EMBEDDING_MODEL_NAME)\n",
    "    return [data.embedding for data in response.data]"
   ]
  },
  {
   "cell_type": "code",
   "execution_count": 71,
   "id": "912f30e0",
   "metadata": {},
   "outputs": [
    {
     "data": {
      "text/html": [
       "<div>\n",
       "<style scoped>\n",
       "    .dataframe tbody tr th:only-of-type {\n",
       "        vertical-align: middle;\n",
       "    }\n",
       "\n",
       "    .dataframe tbody tr th {\n",
       "        vertical-align: top;\n",
       "    }\n",
       "\n",
       "    .dataframe thead th {\n",
       "        text-align: right;\n",
       "    }\n",
       "</style>\n",
       "<table border=\"1\" class=\"dataframe\">\n",
       "  <thead>\n",
       "    <tr style=\"text-align: right;\">\n",
       "      <th></th>\n",
       "      <th>vector</th>\n",
       "      <th>listing</th>\n",
       "      <th>group</th>\n",
       "      <th>_distance</th>\n",
       "    </tr>\n",
       "  </thead>\n",
       "  <tbody>\n",
       "    <tr>\n",
       "      <th>0</th>\n",
       "      <td>[0.09428801, -0.029741112, 0.05408801, 0.06099471, -0.0644473, 0.0063242847, 0.005091983, 0.033220083, -0.11282814, -0.0022769182, 0.04483426, 0.026657976, 0.025357345, -0.047925863, -0.016434409, 0.012479858, 0.16383027, 0.026881715, 0.034770522, -0.018560521, -0.044493195, -0.06768414, 0.058635857, 0.0030662913, 0.039352097, 0.08310742, 0.035389196, 0.013527663, -0.009239616, 0.013456478, 0.08552442, -0.060007248, 0.008431066, -0.0032055944, 0.1325788, 0.004835384, 0.061669353, 0.02689979, -0.03623925, 0.012792124, 0.048989516, 0.037561655, -0.0054578763, 0.019029966, -0.05293661, -0.016300615, -0.03626389, -0.047210444, 0.08200691, -0.013897293, -0.008169196, 0.10377856, -0.015508607, 0.008904418, -0.049615595, 0.026376868, -0.008705269, 0.019519955, 0.016524531, -0.010840331, -0.015189139, -0.0072681056, -0.05310952, 0.008428012, -0.0137935905, -0.025516018, -0.0933132, 0.004847795, 0.013484318, -0.041654777, -0.021486646, 0.03637316, -0.027202712, -0.054194596, -0.03293786, -0.02287496, 0.06860909, -0.03446116, 0.03196039, 0.017342785, 0.025453705, -0.04788437, -0.060067523, 0.016147377, -0.030211402, -0.02412766, 0.007579449, -0.009179858, 0.09781384, -0.039129157, 0.012532135, 0.043788537, -0.08630334, -0.08531253, -0.04906254, -0.012401386, -0.060821854, -0.118225105, -0.050610837, 0.03794225, ...]</td>\n",
       "      <td>- Neighborhood: 152 Maple Avenue, Springfield\\n- Price: $89,000\\n- Bedrooms: 2\\n- Bathrooms: 1\\n- House Size: 850 sqft\\n- Description: This cozy and inviting single-story home offers a practical layout designed for comfortable living. It features updated windows that allow for plenty of natural light and energy efficiency. The kitchen is equipped with modern appliances and ample cabinet space. Freshly painted walls and new laminate flooring make this home move-in ready.\\n  \\n- Neighborhood Description:\\nThe property sits in a family-friendly neighborhood known for its welcoming community spirit. Local amenities include parks, an elementary school within walking distance, as well as grocery stores tailored to fit a modest budget. Public transportation is readily available with bus routes connecting the area to the broader city network. This peaceful suburb is perfect for families looking for affordability without compromising on quality of life.</td>\n",
       "      <td>9</td>\n",
       "      <td>0.071637</td>\n",
       "    </tr>\n",
       "    <tr>\n",
       "      <th>1</th>\n",
       "      <td>[0.031475075, -0.02533539, 0.0590766, 0.026226189, -0.078657806, 0.01467934, 0.0014894679, 0.03792695, -0.12582387, -0.0019190438, 0.03506697, 0.032421198, 0.0022375018, -0.036206003, -0.014439669, 0.011736196, 0.1477094, 0.053070195, 0.0463011, -0.0025150797, -0.06403725, -0.09068841, 0.09631554, -0.0029187563, 0.04099223, 0.08578478, 0.025001427, 0.014393917, 0.0061547523, 0.015337466, 0.07914607, -0.063076474, 0.024441857, -0.010821007, 0.15013647, 0.014470158, 0.049915597, 0.03039604, -0.04709756, 0.039160494, 0.060892668, 0.08315397, 0.0035691317, 0.014083397, -0.041824833, 0.004655331, -0.05272486, -0.07136524, 0.068926685, 0.03132028, -0.011456639, 0.13445501, -0.003055367, 0.0010369532, -0.0537064, 0.028758327, 0.0021893429, 0.032698188, -0.0014889323, -0.004109491, -0.009266788, -0.009061872, -0.057644438, -0.026573896, -0.03139744, -0.008003757, -0.08626426, 0.052010983, 0.02173763, -0.018020172, -0.009356017, 0.05918129, -0.050884873, -0.056143343, -0.05615338, -0.019151492, 0.045731477, -0.047903437, 0.045486644, 0.017706074, 0.003949629, -0.04183895, -0.04890758, -0.011662438, -0.013436178, -0.022045571, 0.01295635, -0.0010148378, 0.10028542, -0.024631541, 0.004791288, 0.03358303, -0.083548, -0.10133614, -0.058970716, 0.004552882, -0.053455766, -0.12938559, -0.058935862, 0.038049616, ...]</td>\n",
       "      <td>- Neighborhood: 152 Maple Avenue, Springfield\\n- Price: $95,000\\n- Bedrooms: 3\\n- Bathrooms: 1.5\\n- House Size: 1100 sqft\\n- Description: This charming and affordable single-family home offers a practical floor plan that includes a spacious living room, an eat-in kitchen with modern appliances, generous cabinet space, and durable countertops. The bedrooms are well-lit with natural light and offer ample closet storage for organization. Additional features include energy-efficient windows, recent roofing updates, and low-maintenance vinyl siding.\\n- Neighborhood Description: The property is nestled in a welcoming community-oriented neighborhood of Springfield. Nearby amenities include quality schools, parks with playgrounds for children’s activities; also within walking distance to local shops and public transportation options which make it convenient for commuting parents. The area takes pride in its annual community events fostering strong neighborly bonds ideal for family life.</td>\n",
       "      <td>9</td>\n",
       "      <td>0.110747</td>\n",
       "    </tr>\n",
       "    <tr>\n",
       "      <th>2</th>\n",
       "      <td>[0.052572686, -0.03249809, 0.067488566, 0.056193355, -0.028781096, -0.0017514174, -0.027269332, 0.013431522, -0.1051193, -0.011450318, 0.0055563683, 0.0056942953, 0.040382512, -0.03707184, 0.005773598, 0.00521772, 0.15873978, 0.014652084, 0.051759243, -0.022013256, -0.059564818, -0.07449474, 0.072886005, -0.020236176, 0.030614085, 0.08921687, 0.012672925, 0.027677434, -0.03583651, -0.0074462206, 0.064724274, -0.045682084, -0.009877361, -0.009464111, 0.15053068, -0.0038890275, 0.046188187, 0.039092354, -0.037990708, 0.022972206, 0.06807838, 0.04230104, 0.029160872, 0.014627965, -0.03474863, 0.01711203, -0.054947883, -0.08225801, 0.08066788, 0.021104563, -0.018662324, 0.12971209, -0.018837284, 0.018846918, -0.035234578, 0.03253592, 0.013870559, -0.0063510546, 0.0050451863, -0.046045367, 0.01942674, -0.000739768, -0.04877058, -0.04196335, -0.0010437253, -0.044342738, -0.10842724, 0.050802354, 0.017518671, -0.04079354, 0.0070179803, 0.062293794, -0.037860155, -0.0630428, -0.057459105, 0.006867597, 0.06458823, -0.046015546, 0.028700354, -0.0012650444, 0.034944467, -0.010086979, -0.04012567, -0.014823351, -0.027576443, -0.031106861, 0.005157809, -0.008799422, 0.0946979, -0.058256216, 0.0071237097, -0.012684282, -0.115826845, -0.09768258, -0.01767639, 0.009444471, -0.06413486, -0.11937463, -0.03271143, 0.0072140894, ...]</td>\n",
       "      <td>- Neighborhood: 152 Maple Avenue, Springfield\\n- Price: $450,000\\n- Bedrooms: 4\\n- Bathrooms: 3\\n- House Size: 2,500 sqft\\n\\n- Description:\\nWelcome to this stunning family home that combines modern amenities with timeless comfort. The heart of the house is a spacious open-concept kitchen featuring stainless steel appliances and an inviting island perfect for family gatherings. The adjacent living room radiates warmth with its cozy fireplace and abundance of natural light streaming through large windows. Each bedroom offers ample space which allows personal customization, and the master suite boasts a walk-in closet followed by an en-suite bathroom equipped with both tub and shower options.\\n\\nA beautifully landscaped backyard includes a patio area ideal for outdoor dining or simply soaking up the serene atmosphere provided by well-maintained lawns bordered by vibrant flower beds.\\n\\nAdditional features include hardwood flooring throughout main areas; a two-car garage providing plenty storage opportunities; plus recently updated HVAC systems ensuring energy efficiency year-round.\\n\\nStep inside your future home where every detail has been considered to create an exceptional living experience ideal families looking establish long-term roots in cherished community setting!\\n\\nNeighborhood Description:\\nNestled within one Springfield's most sought-after neighborhoods, this property enjoys close proximity to excellent schools catering all stages education from elementary high school level — rendering it perfect choice those prioritize lifelong learning environment their children.\\nTraction parks green spaces abound offering residents countless recreational activities including walking trails picnic spots aslist tennis courts sports fields make it breeze stay active engage community events held regularly.\\nShopping centers casual dining options are conveniently located nearby while quiet tree-lined streets exude charm character making daily strolls more enjoyable reflect town’s friendly vibe encourage neighbors connect form meaningful bonds over time</td>\n",
       "      <td>1</td>\n",
       "      <td>0.121977</td>\n",
       "    </tr>\n",
       "  </tbody>\n",
       "</table>\n",
       "</div>"
      ],
      "text/plain": [
       "                                                                                                                                                                                                                                                                                                                                                                                                                                                                                                                                                                                                                                                                                                                                                                                                                                                                                                                                                                                                                                                                                                                                                                                                                                                                                                                                                                                    vector  \\\n",
       "0          [0.09428801, -0.029741112, 0.05408801, 0.06099471, -0.0644473, 0.0063242847, 0.005091983, 0.033220083, -0.11282814, -0.0022769182, 0.04483426, 0.026657976, 0.025357345, -0.047925863, -0.016434409, 0.012479858, 0.16383027, 0.026881715, 0.034770522, -0.018560521, -0.044493195, -0.06768414, 0.058635857, 0.0030662913, 0.039352097, 0.08310742, 0.035389196, 0.013527663, -0.009239616, 0.013456478, 0.08552442, -0.060007248, 0.008431066, -0.0032055944, 0.1325788, 0.004835384, 0.061669353, 0.02689979, -0.03623925, 0.012792124, 0.048989516, 0.037561655, -0.0054578763, 0.019029966, -0.05293661, -0.016300615, -0.03626389, -0.047210444, 0.08200691, -0.013897293, -0.008169196, 0.10377856, -0.015508607, 0.008904418, -0.049615595, 0.026376868, -0.008705269, 0.019519955, 0.016524531, -0.010840331, -0.015189139, -0.0072681056, -0.05310952, 0.008428012, -0.0137935905, -0.025516018, -0.0933132, 0.004847795, 0.013484318, -0.041654777, -0.021486646, 0.03637316, -0.027202712, -0.054194596, -0.03293786, -0.02287496, 0.06860909, -0.03446116, 0.03196039, 0.017342785, 0.025453705, -0.04788437, -0.060067523, 0.016147377, -0.030211402, -0.02412766, 0.007579449, -0.009179858, 0.09781384, -0.039129157, 0.012532135, 0.043788537, -0.08630334, -0.08531253, -0.04906254, -0.012401386, -0.060821854, -0.118225105, -0.050610837, 0.03794225, ...]   \n",
       "1               [0.031475075, -0.02533539, 0.0590766, 0.026226189, -0.078657806, 0.01467934, 0.0014894679, 0.03792695, -0.12582387, -0.0019190438, 0.03506697, 0.032421198, 0.0022375018, -0.036206003, -0.014439669, 0.011736196, 0.1477094, 0.053070195, 0.0463011, -0.0025150797, -0.06403725, -0.09068841, 0.09631554, -0.0029187563, 0.04099223, 0.08578478, 0.025001427, 0.014393917, 0.0061547523, 0.015337466, 0.07914607, -0.063076474, 0.024441857, -0.010821007, 0.15013647, 0.014470158, 0.049915597, 0.03039604, -0.04709756, 0.039160494, 0.060892668, 0.08315397, 0.0035691317, 0.014083397, -0.041824833, 0.004655331, -0.05272486, -0.07136524, 0.068926685, 0.03132028, -0.011456639, 0.13445501, -0.003055367, 0.0010369532, -0.0537064, 0.028758327, 0.0021893429, 0.032698188, -0.0014889323, -0.004109491, -0.009266788, -0.009061872, -0.057644438, -0.026573896, -0.03139744, -0.008003757, -0.08626426, 0.052010983, 0.02173763, -0.018020172, -0.009356017, 0.05918129, -0.050884873, -0.056143343, -0.05615338, -0.019151492, 0.045731477, -0.047903437, 0.045486644, 0.017706074, 0.003949629, -0.04183895, -0.04890758, -0.011662438, -0.013436178, -0.022045571, 0.01295635, -0.0010148378, 0.10028542, -0.024631541, 0.004791288, 0.03358303, -0.083548, -0.10133614, -0.058970716, 0.004552882, -0.053455766, -0.12938559, -0.058935862, 0.038049616, ...]   \n",
       "2  [0.052572686, -0.03249809, 0.067488566, 0.056193355, -0.028781096, -0.0017514174, -0.027269332, 0.013431522, -0.1051193, -0.011450318, 0.0055563683, 0.0056942953, 0.040382512, -0.03707184, 0.005773598, 0.00521772, 0.15873978, 0.014652084, 0.051759243, -0.022013256, -0.059564818, -0.07449474, 0.072886005, -0.020236176, 0.030614085, 0.08921687, 0.012672925, 0.027677434, -0.03583651, -0.0074462206, 0.064724274, -0.045682084, -0.009877361, -0.009464111, 0.15053068, -0.0038890275, 0.046188187, 0.039092354, -0.037990708, 0.022972206, 0.06807838, 0.04230104, 0.029160872, 0.014627965, -0.03474863, 0.01711203, -0.054947883, -0.08225801, 0.08066788, 0.021104563, -0.018662324, 0.12971209, -0.018837284, 0.018846918, -0.035234578, 0.03253592, 0.013870559, -0.0063510546, 0.0050451863, -0.046045367, 0.01942674, -0.000739768, -0.04877058, -0.04196335, -0.0010437253, -0.044342738, -0.10842724, 0.050802354, 0.017518671, -0.04079354, 0.0070179803, 0.062293794, -0.037860155, -0.0630428, -0.057459105, 0.006867597, 0.06458823, -0.046015546, 0.028700354, -0.0012650444, 0.034944467, -0.010086979, -0.04012567, -0.014823351, -0.027576443, -0.031106861, 0.005157809, -0.008799422, 0.0946979, -0.058256216, 0.0071237097, -0.012684282, -0.115826845, -0.09768258, -0.01767639, 0.009444471, -0.06413486, -0.11937463, -0.03271143, 0.0072140894, ...]   \n",
       "\n",
       "                                                                                                                                                                                                                                                                                                                                                                                                                                                                                                                                                                                                                                                                                                                                                                                                                                                                                                                                                                                                                                                                                                                                                                                                                                                                                                                                                                                                                                                                                                                                                                                                                                                                                                                                                                                                                                                                                                                                                                                                                                                                                                                                                             listing  \\\n",
       "0                                                                                                                                                                                                                                                                                                                                                                                                                                                                                                                                                                                                                                                                                                                                                                                                                                                                                                                                                                                                                                                                                                                                                                     - Neighborhood: 152 Maple Avenue, Springfield\\n- Price: $89,000\\n- Bedrooms: 2\\n- Bathrooms: 1\\n- House Size: 850 sqft\\n- Description: This cozy and inviting single-story home offers a practical layout designed for comfortable living. It features updated windows that allow for plenty of natural light and energy efficiency. The kitchen is equipped with modern appliances and ample cabinet space. Freshly painted walls and new laminate flooring make this home move-in ready.\\n  \\n- Neighborhood Description:\\nThe property sits in a family-friendly neighborhood known for its welcoming community spirit. Local amenities include parks, an elementary school within walking distance, as well as grocery stores tailored to fit a modest budget. Public transportation is readily available with bus routes connecting the area to the broader city network. This peaceful suburb is perfect for families looking for affordability without compromising on quality of life.   \n",
       "1                                                                                                                                                                                                                                                                                                                                                                                                                                                                                                                                                                                                                                                                                                                                                                                                                                                                                                                                                                                                                                                                                                                                  - Neighborhood: 152 Maple Avenue, Springfield\\n- Price: $95,000\\n- Bedrooms: 3\\n- Bathrooms: 1.5\\n- House Size: 1100 sqft\\n- Description: This charming and affordable single-family home offers a practical floor plan that includes a spacious living room, an eat-in kitchen with modern appliances, generous cabinet space, and durable countertops. The bedrooms are well-lit with natural light and offer ample closet storage for organization. Additional features include energy-efficient windows, recent roofing updates, and low-maintenance vinyl siding.\\n- Neighborhood Description: The property is nestled in a welcoming community-oriented neighborhood of Springfield. Nearby amenities include quality schools, parks with playgrounds for children’s activities; also within walking distance to local shops and public transportation options which make it convenient for commuting parents. The area takes pride in its annual community events fostering strong neighborly bonds ideal for family life.   \n",
       "2  - Neighborhood: 152 Maple Avenue, Springfield\\n- Price: $450,000\\n- Bedrooms: 4\\n- Bathrooms: 3\\n- House Size: 2,500 sqft\\n\\n- Description:\\nWelcome to this stunning family home that combines modern amenities with timeless comfort. The heart of the house is a spacious open-concept kitchen featuring stainless steel appliances and an inviting island perfect for family gatherings. The adjacent living room radiates warmth with its cozy fireplace and abundance of natural light streaming through large windows. Each bedroom offers ample space which allows personal customization, and the master suite boasts a walk-in closet followed by an en-suite bathroom equipped with both tub and shower options.\\n\\nA beautifully landscaped backyard includes a patio area ideal for outdoor dining or simply soaking up the serene atmosphere provided by well-maintained lawns bordered by vibrant flower beds.\\n\\nAdditional features include hardwood flooring throughout main areas; a two-car garage providing plenty storage opportunities; plus recently updated HVAC systems ensuring energy efficiency year-round.\\n\\nStep inside your future home where every detail has been considered to create an exceptional living experience ideal families looking establish long-term roots in cherished community setting!\\n\\nNeighborhood Description:\\nNestled within one Springfield's most sought-after neighborhoods, this property enjoys close proximity to excellent schools catering all stages education from elementary high school level — rendering it perfect choice those prioritize lifelong learning environment their children.\\nTraction parks green spaces abound offering residents countless recreational activities including walking trails picnic spots aslist tennis courts sports fields make it breeze stay active engage community events held regularly.\\nShopping centers casual dining options are conveniently located nearby while quiet tree-lined streets exude charm character making daily strolls more enjoyable reflect town’s friendly vibe encourage neighbors connect form meaningful bonds over time   \n",
       "\n",
       "  group  _distance  \n",
       "0     9   0.071637  \n",
       "1     9   0.110747  \n",
       "2     1   0.121977  "
      ]
     },
     "execution_count": 71,
     "metadata": {},
     "output_type": "execute_result"
    }
   ],
   "source": [
    "preference_embedded = embed_func(preference_text)[0]\n",
    "df_matched = table.search(preference_embedded).metric(\"cosine\").limit(3).to_pandas()\n",
    "df_matched"
   ]
  },
  {
   "cell_type": "markdown",
   "id": "58bb9b74",
   "metadata": {},
   "source": [
    "### Personalizing Listing Descriptions"
   ]
  },
  {
   "cell_type": "code",
   "execution_count": 134,
   "id": "6bfc6966",
   "metadata": {},
   "outputs": [],
   "source": [
    "\n",
    "from langchain.chains import ConversationChain\n",
    "\n",
    "# build an User Portrait embedding could improve the performance\n",
    "user_prompt_personalization = lambda text, question: f\"\"\"\n",
    "                        Answer the question based on the context below in a compelling, selling and reader-friendly way without altering factual information, \n",
    "                        and if the user is not satisfied with current recommendation, please resummarize the description, \n",
    "                        and if the question can't be answered based on the context, say \"Sorry, I do not have information about that!\"\n",
    "                        \n",
    "                        Context: {text}.\n",
    "\n",
    "                        ----\n",
    "                        Question: {question}\n",
    "                        Answer:\n",
    "                    \"\"\"\n",
    "system_prompt_personalization = \"\"\"you are a real estate selling assistance, generate text to match the buyer's preference at best\"\"\"\n",
    "def user_feedback(feedback):\n",
    "    try:\n",
    "        client = OpenAI(\n",
    "            api_key=os.getenv(\"OPENAI_API_KEY\"),\n",
    "            # I have chosen to use local model host, as OpenAI has recently closed the 5$ api key bonus\n",
    "            # the model supports same api format as openai does\n",
    "            base_url=\"http://localhost:8080\"\n",
    "        )\n",
    "        response = client.chat.completions.create(\n",
    "            model=\"gpt4-turbo\",\n",
    "            messages=[\n",
    "                {\n",
    "                    \"role\": \"system\",\n",
    "                    \"content\": \"you are an user intention assist.\",\n",
    "                },\n",
    "                {\n",
    "                    \"role\": \"user\",\n",
    "                    \"content\": f\"\"\"you estimate whether user is satisfied with the current recommendation based on user feedback, please answer only with \"positive\", \"neutral\" or \"negative\". Feedback: {feedback}\"\"\",\n",
    "                },\n",
    "            ],\n",
    "            temperature=1,\n",
    "            # max_tokens=256,\n",
    "            top_p=1,\n",
    "            frequency_penalty=0,\n",
    "            presence_penalty=0\n",
    "        )\n",
    "        return response.choices[0].message.content\n",
    "    except Exception as e:\n",
    "        return f\"An error occurred: {e}\"\n",
    "\n",
    "def personalize_bot(listing, question):\n",
    "    try:\n",
    "        client = OpenAI(\n",
    "            api_key=os.getenv(\"OPENAI_API_KEY\"),\n",
    "            # I have chosen to use local model host, as OpenAI has recently closed the 5$ api key bonus\n",
    "            # the model supports same api format as openai does\n",
    "            base_url=\"http://localhost:8080\"\n",
    "        )\n",
    "        response = client.chat.completions.create(\n",
    "            model=\"gpt4-turbo\",\n",
    "            messages=[\n",
    "                {\n",
    "                    \"role\": \"system\",\n",
    "                    \"content\": system_prompt_personalization,\n",
    "                },\n",
    "                {\n",
    "                    \"role\": \"user\",\n",
    "                    \"content\": user_prompt_personalization(listing, question),\n",
    "                },\n",
    "            ],\n",
    "            temperature=1,\n",
    "            # max_tokens=256,\n",
    "            top_p=1,\n",
    "            frequency_penalty=0,\n",
    "            presence_penalty=0\n",
    "        )\n",
    "        return response.choices[0].message.content\n",
    "    except Exception as e:\n",
    "        return f\"An error occurred: {e}\"\n",
    "\n",
    "index = 0\n",
    "def run_bot(question):\n",
    "    global index\n",
    "    if user_feedback(question) == 'negative': \n",
    "        if index < (df_matched.shape[0]-1):\n",
    "            index += 1\n",
    "            return personalize_bot(df_matched.loc[index, \"listing\"], \"do you have any recommandation?\")\n",
    "        else:\n",
    "            return \"Sorry, I could not find a match for your!\"\n",
    "    else: \n",
    "        return personalize_bot(df_matched.loc[index, \"listing\"], question)"
   ]
  },
  {
   "cell_type": "code",
   "execution_count": 126,
   "id": "96678491",
   "metadata": {},
   "outputs": [
    {
     "data": {
      "text/plain": [
       "\"Absolutely, I would be delighted to recommend the charming home located at 152 Maple Avenue in Springfield. Priced at an accessible $89,000, this warm and inviting residence is an excellent match for those seeking a cozy, yet efficient living space. With two well-sized bedrooms and one full bathroom, it suits small families, couples, or individuals looking for a comfortable abode.\\n\\nThe house is set on a modest 850 sqft footprint, making it easy to maintain without sacrificing the convenience of a thoughtfully arranged floor plan. The updated windows not only flood the home with natural sunlight, creating a bright and airy atmosphere but also contribute to energy savings year-round. In the heart of the home, the kitchen is well-equipped with modern appliances and boasts ample cabinet space, perfect for those who enjoy cooking and baking.\\n\\nNew laminate flooring and freshly painted walls ensure the new owner will be able to move in without worrying about immediate renovations. It's a turn-key solution for anyone eager to make a quick transition to homeownership.\\n\\nNestled in a family-friendly neighborhood, the community around 152 Maple Avenue is known for its hospitality and cooperative spirit. With parks for leisurely afternoons, an elementary school within a short stroll, and grocery stores that cater to a sensible budget, this area is designed to accommodate a variety of lifestyles. Additionally, efficient public transportation links connect residents to the greater city area, broadening access to all Springfield has to offer.\\n\\nThis home represents an opportunity to establish roots in a serene suburb that does not compromise on accessibility or quality of life. If you are searching for affordability, comfort, and community, it would be my pleasure to arrange a viewing for you at this delightful home on Maple Avenue. Please let me know how I can assist you further!\""
      ]
     },
     "execution_count": 126,
     "metadata": {},
     "output_type": "execute_result"
    }
   ],
   "source": [
    "question = \"do you have any recommandation?\"\n",
    "answer = run_bot(question)\n",
    "answer"
   ]
  },
  {
   "cell_type": "code",
   "execution_count": 127,
   "id": "2dde01dc",
   "metadata": {},
   "outputs": [
    {
     "data": {
      "text/plain": [
       "'The inviting home you are inquiring about at 152 Maple Avenue, Springfield, is priced at an affordable $89,000. This presents an exceptional value for a well-maintained, move-in ready property in a family-friendly neighborhood.'"
      ]
     },
     "execution_count": 127,
     "metadata": {},
     "output_type": "execute_result"
    }
   ],
   "source": [
    "question_1 = \"how much does it cost?\"\n",
    "answer_1 = run_bot(question_1)\n",
    "answer_1"
   ]
  },
  {
   "cell_type": "code",
   "execution_count": 128,
   "id": "4cfb01a2",
   "metadata": {},
   "outputs": [
    {
     "data": {
      "text/plain": [
       "'Sorry, I do not have information about that!'"
      ]
     },
     "execution_count": 128,
     "metadata": {},
     "output_type": "execute_result"
    }
   ],
   "source": [
    "question_2 = \"is a garage inclusive?\"\n",
    "answer_2 = personalize_bot(df_matched.loc[0,\"listing\"], question_2)\n",
    "answer_2"
   ]
  },
  {
   "cell_type": "code",
   "execution_count": 135,
   "id": "8bd05b8d",
   "metadata": {},
   "outputs": [
    {
     "data": {
      "text/plain": [
       "\"Absolutely, I'd love to recommend a home that may just be perfect for you!\\n\\nNestled in the heart of the friendly, community-oriented neighborhood of 152 Maple Avenue, Springfield, is a charming and affordably priced single-family home waiting for you to move in. Priced at just $95,000, this delightful property boasts three cozy bedrooms and one and a half bathrooms, making it ideal for a small family or anyone looking to downsize without compromising on living space.\\n\\nThe house itself encompasses 1100 sqft of well-designed living space that includes a spacious living room where you can relax or entertain guests. The eat-in kitchen is a cook's delight, featuring modern appliances, generous cabinet storage, and durable countertops that are sure to withstand the hustle and bustle of daily life. The bedrooms are flooded with natural light, creating a serene ambiance, and each comes with ample closet space to keep your belongings neatly organized. \\n\\nTo add to the appeal, the home is fitted with energy-efficient windows that promise comfort as well as cost savings on utilities. Recent updates to the roofing contribute to peace of mind, knowing that this critical component has been attended to, while the low-maintenance vinyl siding ensures your weekends are not spent on upkeep but on enjoying your new home and the surrounding amenities.\\n\\nSpeaking of surroundings, the location of this home is simply unbeatable. Schools in the area are reputable, perfect for providing a solid education for your children. Parks with playgrounds are within easy reach, ensuring that family outings are a regular and enjoyable aspect of your life. You'll also appreciate the convenience of local shops and public transportation options nearby, simplifying your daily commute and enabling more time spent at home rather than on the road.\\n\\nIn this neighborhood, camaraderie is celebrated through annual community events, helping you forge strong connections with your neighbors and fostering a sense of belonging.\\n\\nThis gem of a house is more than a structure; it's a potential home filled with warmth, convenience, and community spirit. Don't miss out on the opportunity to create lasting memories in 152 Maple Avenue. If you're looking for a house that ticks all boxes for comfort, location, and affordability, this is the one for you!\\n\\nWould you be interested in scheduling a visit to see if this home could be the right fit for your future?\""
      ]
     },
     "execution_count": 135,
     "metadata": {},
     "output_type": "execute_result"
    }
   ],
   "source": [
    "run_bot(\"could you recommend me another object?\")"
   ]
  },
  {
   "cell_type": "code",
   "execution_count": null,
   "id": "dcc7d36a",
   "metadata": {},
   "outputs": [],
   "source": []
  }
 ],
 "metadata": {
  "kernelspec": {
   "display_name": "Python 3 (ipykernel)",
   "language": "python",
   "name": "python3"
  },
  "language_info": {
   "codemirror_mode": {
    "name": "ipython",
    "version": 3
   },
   "file_extension": ".py",
   "mimetype": "text/x-python",
   "name": "python",
   "nbconvert_exporter": "python",
   "pygments_lexer": "ipython3",
   "version": "3.10.14"
  }
 },
 "nbformat": 4,
 "nbformat_minor": 5
}
