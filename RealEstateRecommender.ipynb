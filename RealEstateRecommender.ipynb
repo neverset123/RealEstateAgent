{
 "cells": [
  {
   "cell_type": "markdown",
   "id": "a108af04",
   "metadata": {},
   "source": [
    "## Real Estate Recommender"
   ]
  },
  {
   "cell_type": "markdown",
   "id": "6554fd4c",
   "metadata": {},
   "source": [
    "### Generating Real Estate Listings"
   ]
  },
  {
   "cell_type": "code",
   "execution_count": 38,
   "id": "936f4411",
   "metadata": {},
   "outputs": [],
   "source": [
    "groups = [\"young professionals\", \"families\", \"retirees and seniors\", \"investors\", \"students\", \"luxury buyers\", \"first-time homebuyers\", \"eco-conscious buyers\", \"high-net-worth individuals\", \"low-income families\", \"digital nomads and remote workers\", \"artists and creatives\"]\n",
    "user_prompt_template = lambda buyer_group: f\"\"\"Task: Create a detailed and appealing real estate property listing for {buyer_group}.\"\"\"\n",
    "system_prompt_template = \"\"\"\n",
    "                        You are an assistant that generate text without repeatation. Text should follow following format strictly:\n",
    "                        - Neighborhood: address, city\n",
    "                        - Price: price\n",
    "                        - Bedrooms: number of bedrooms\n",
    "                        - Bathrooms number of bathrooms\n",
    "                        - House Size: size in sqft\n",
    "                        - Description: general description of the property\n",
    "                        - Neighborhood Description: description of neighborhood environments\n",
    "                    \"\"\""
   ]
  },
  {
   "cell_type": "code",
   "execution_count": 39,
   "id": "5d497d1f",
   "metadata": {},
   "outputs": [
    {
     "data": {
      "text/plain": [
       "True"
      ]
     },
     "execution_count": 39,
     "metadata": {},
     "output_type": "execute_result"
    }
   ],
   "source": [
    "# Importing the necessary library for OpenAI API\n",
    "import os\n",
    "import openai\n",
    "from openai import OpenAI\n",
    "from dotenv import load_dotenv\n",
    "load_dotenv()"
   ]
  },
  {
   "cell_type": "code",
   "execution_count": 53,
   "id": "dfa3982d",
   "metadata": {},
   "outputs": [],
   "source": [
    "\n",
    "def generate_resl_estate_listing(buyer_group):\n",
    "    try:\n",
    "        client = OpenAI(\n",
    "            api_key=os.getenv(\"OPENAI_API_KEY\"),\n",
    "            # I have chosen to use local model host, as OpenAI has recently closed the 5$ api key bonus\n",
    "            # the model supports same api format as openai does\n",
    "            base_url=\"http://localhost:8080\"\n",
    "        )\n",
    "        response = client.chat.completions.create(\n",
    "            model=\"gpt4-turbo\",\n",
    "            # model=\"gpt-4\",\n",
    "            messages=[\n",
    "                {\n",
    "                    \"role\": \"system\",\n",
    "                    \"content\": system_prompt_template,\n",
    "                },\n",
    "                {\n",
    "                    \"role\": \"user\",\n",
    "                    \"content\": user_prompt_template(buyer_group),\n",
    "                },\n",
    "            ],\n",
    "            temperature=1,\n",
    "            # max_tokens=256,\n",
    "            top_p=1,\n",
    "            frequency_penalty=1,\n",
    "            presence_penalty=1\n",
    "        )\n",
    "        return response.choices[0].message.content\n",
    "    except Exception as e:\n",
    "        return f\"An error occurred: {e}\"\n"
   ]
  },
  {
   "cell_type": "code",
   "execution_count": 57,
   "id": "d09ea7c5",
   "metadata": {},
   "outputs": [
    {
     "data": {
      "text/html": [
       "<div>\n",
       "<style scoped>\n",
       "    .dataframe tbody tr th:only-of-type {\n",
       "        vertical-align: middle;\n",
       "    }\n",
       "\n",
       "    .dataframe tbody tr th {\n",
       "        vertical-align: top;\n",
       "    }\n",
       "\n",
       "    .dataframe thead th {\n",
       "        text-align: right;\n",
       "    }\n",
       "</style>\n",
       "<table border=\"1\" class=\"dataframe\">\n",
       "  <thead>\n",
       "    <tr style=\"text-align: right;\">\n",
       "      <th></th>\n",
       "      <th>listing</th>\n",
       "      <th>group</th>\n",
       "    </tr>\n",
       "  </thead>\n",
       "  <tbody>\n",
       "    <tr>\n",
       "      <th>0</th>\n",
       "      <td>- Neighborhood: 250 Waterfront St, Marina District\\n- Price: $895,000\\n- Bedrooms: 2\\n- Bathrooms: 2\\n- House Size: 1,100 sqft\\n- Description: Immerse yourself in the heart of vibrancy and comfort with this stylish modern condo designed for young professionals. The open-plan living space is bathed in natural light from floor-to-ceiling windows that offer enchanting cityscape views. High-end finishes are evident throughout the kitchen that boasts stainless steel appliances, sleek cabinetry, and a chic breakfast bar perfect for on-the-go mornings or intimate dinners. Both bedrooms serve as private havens with ample closet space and plush carpeting underfoot.\\n \\n   Indulge in the luxury of en-suite bathrooms featuring contemporary fixtures and fine tile work that add to the elegance of urban living. As an added convenience, an in-unit washer and dryer set simplifies laundry days.\\n\\n   This home is more than just its interior; it includes access to top-tier building amenities such as a rooftop terrace with panoramic views, state-of-the-art fitness center, residents' lounge for entertaining guests, secured parking structure, and attentive concierge services enhancing daily life.\\n\\n- Neighborhood Description: Located in the sought-after Marina Districts area often frequented by thriving professionals. The neighborhood pulses with cosmopolitan energy yet retains a relaxed atmosphere conducive to networking and unwinding alike. Within walking distance are gourmet restaurants offering international cuisines, boutique shops for fashion-forward finds along scenic promenades lined with public art installations reflective of local creativity.\\n\\n    Outdoor enthusiasts will appreciate proximity to parks where jogging trails meander alongside waterfront vistas—a tranquil escape from busy schedules. Cultural institutions like theatres hosting premiere performances contribute to rich experiences just steps away from your front door while reliable public transit connects you effortlessly across the city's diverse neighborhoods.\\n</td>\n",
       "      <td>0</td>\n",
       "    </tr>\n",
       "    <tr>\n",
       "      <th>1</th>\n",
       "      <td>- Neighborhood: 352 Parkview Terrace, Austin\\n- Price: $425,000\\n- Bedrooms: 2\\n- Bathrooms: 2\\n- House Size: 1,200 sqft\\n- Description: This sleek and modern condo offers the perfect blend of style and convenience for the young professional. Featuring state-of-the-art appliances, hardwood flooring throughout, an open-concept living space with large windows that flood the area with natural light. The master suite includes a walk-in closet and a pristine en-suite bathroom. Additional amenities include in-unit laundry facilities and private balcony with breathtaking city views.\\n                     \\n- Neighborhood Description: Situated in the heart of Austin's vibrant scene, Parkview Terrace is an ideal spot for those looking to be at arm’s reach from bustling cafes, hip restaurants &amp; bars, boutique shopping options as well as premier entertainment venues. The neighborhood boasts easy access to public transportation facilitating commutes. It is also known for its safety measures and pet-friendly parks which just adds another layer of allure to this dynamic community perfect for social but career-focused individuals.</td>\n",
       "      <td>0</td>\n",
       "    </tr>\n",
       "    <tr>\n",
       "      <th>2</th>\n",
       "      <td>- Neighborhood: 255 Upstart Lane, Silicon Valley\\n- Price: $1,200,000\\n- Bedrooms: 3\\n- Bathrooms: 2\\n- House Size: 1800 sqft\\n- Description: This modern and sleek single-family home offers an open floor plan with high-end finishes throughout. The kitchen boasts stainless steel appliances and a large island perfect for entertaining. Hardwood floors lead you through the light-filled living space to a cozy backyard oasis. Equipped with smart home features and energy-efficient windows.\\n- Neighborhood Description: Situated in the heart of Silicon Valley, this neighborhood is vibrant and full of life, catering to young professionals keen on innovation and convenience. Just steps away from tech headquarters, dynamic start-ups, upscale dining options, boutique coffee shops, and lush parks ideal for weekend picnics or morning jogs.</td>\n",
       "      <td>0</td>\n",
       "    </tr>\n",
       "    <tr>\n",
       "      <th>3</th>\n",
       "      <td>- Neighborhood: 350 Bayswater Ave, San Francisco\\n- Price: $1,500,000\\n- Bedrooms: 2\\n- Bathrooms: 2 \\n- House Size: 1,200 sqft\\n- Description: A sleek and modern two-bedroom condominium perfect for young professionals seeking style and convenience in the heart of San Francisco. This recently renovated unit features an open floor plan with high-end finishes, a state-of-the-art kitchen equipped with stainless steel appliances, gleaming hardwood floors throughout, and large windows that flood the space with natural light. The master suite offers a private retreat complete with ample closet space and a spa-like bathroom.\\n- Neighborhood Description: Positioned in the vibrant neighborhood of Bayswater Avenue within walking distance to tech shuttles, this area is known for its trendy cafes, boutique shops, and pulsating nightlife. Commuters will appreciate proximity to public transit as well as quick access to major freeways. The community also boasts serene parks and waterfront walks which provide quiet escapes from the urban bustle for those after-work unwind moments or weekend adventures.</td>\n",
       "      <td>0</td>\n",
       "    </tr>\n",
       "    <tr>\n",
       "      <th>4</th>\n",
       "      <td>- Neighborhood: The Metropolitan Lofts, 115 Cityscape Terrace, Downtown District\\n- Price: $459,000\\n- Bedrooms: 2\\n- Bathrooms: 2\\n- House Size: 1,100 sqft\\n- Description: This modern loft boasts an open floor plan with high ceilings and large windows that bathe the space in natural light. The contemporary kitchen features stainless steel appliances and a sleek breakfast bar perfect for casual dining. Hardwood floors run throughout the living areas into two spacious bedrooms with ample closet space. State-of-the-art smart home technology is installed for added convenience and security.\\n  \\n - Neighborhood Description:\\nThe Metropolitan Lofts are situated at the heart of the downtown area, offering young professionals an energetic lifestyle coupled with comfort. Within walking distance to dynamic startups, posh restaurants, cultural hotspots like art galleries and theaters as well as local farmers' markets on weekends - this neighborhood thrives on its diverse community atmosphere. With easy access to public transportation and biking lanes it's also perfect for eco-conscious residents leading a car-free lifestyle.\\n\\n</td>\n",
       "      <td>0</td>\n",
       "    </tr>\n",
       "    <tr>\n",
       "      <th>...</th>\n",
       "      <td>...</td>\n",
       "      <td>...</td>\n",
       "    </tr>\n",
       "    <tr>\n",
       "      <th>115</th>\n",
       "      <td>- Neighborhood: 153 Bohemian Lane, Artisanville\\n- Price: $725,000\\n- Bedrooms: 3\\n- Bathrooms: 2\\n- House Size: 2,100 sqft\\n- Description: This vibrant and inspiring home stands as a creative sanctuary designed with artists in mind. The expansive walls are treated to serve as canvases for murals or gallery displays, and the open floor plan ensures natural light fills every room. An enclosed patio creates a serene space for outdoor creativity. The studio annex comes equipped with adjustable lighting perfect for any art form.\\n- Neighborhood Description: Nestled in bustling Artisanville, this neighborhood is known for its cultural diversity and artistic flair. Weekly craft fairs and co-op galleries make it an ideal spot for creatives seeking community inspiration. Coffee shops play host to poetry slams while live music venues promote local talent—making it the heartbeat of the city's avant-garde scene.</td>\n",
       "      <td>11</td>\n",
       "    </tr>\n",
       "    <tr>\n",
       "      <th>116</th>\n",
       "      <td>- Neighborhood: 500 Bohemian Way, Arts District\\n- Price: $750,000\\n- Bedrooms: 2\\n- Bathrooms: 2\\n- House Size: 1,800 sqft\\n- Description: This unique loft-style home features soaring ceilings and an open floor plan filled with natural light. The interior boasts industrial-chic design elements like exposed brick walls and ductwork. A modern kitchen with stainless steel appliances provides the perfect space for culinary exploration, while the spacious living area offers a versatile canvas for any artistic endeavor. The bedrooms are serene retreats with ample storage space; the master includes an en-suite bathroom adorned with stylish fixtures.\\n- Neighborhood Description: Nestled in the heart of the city's vibrant Arts District, this neighborhood is alive with creativity and culture. You'll be surrounded by galleries showcasing local artists' work, trendy cafes brimming with inspiration, and performance spaces where music and theater thrive. It's a community that not only appreciates art but lives it daily—an urban oasis for anyone passionate about expressing themselves through their surroundings.</td>\n",
       "      <td>11</td>\n",
       "    </tr>\n",
       "    <tr>\n",
       "      <th>117</th>\n",
       "      <td>- Neighborhood: The Arts District, Downtown Los Angeles\\n- Price: $1.2 Million\\n- Bedrooms: 2\\n- Bathrooms: 2\\n- House Size: 1500 sqft\\n- Description: This industrial-inspired loft offers an open floor plan with high ceilings, large windows that flood the space with natural light, and polished concrete floors. Custom wall installations &amp; modern art fixtures enhance the artistic vibe of the home, complemented by a professional-grade kitchen fitted for culinary creativity. An enclosed patio acts as both a serene retreat and inspirational space perfect for any creative endeavor.\\n- Neighborhood Description: Nestled within LA’s vibrant Arts District, this neighborhood thrives with galleries, live/work studios and a diverse community of artists and creatives. Enjoy easy access to artisanal coffee shops like Stumptown Coffee Roasters or Blue Bottle Coffee, organic eateries such as Bestia and Bavel for foodie adventures after studio work hours. The area is known for its eclectic charm with murals gracing building walls inviting inspiration at every corner along with frequent art walks showcasing local talent.</td>\n",
       "      <td>11</td>\n",
       "    </tr>\n",
       "    <tr>\n",
       "      <th>118</th>\n",
       "      <td>- Neighborhood: 152 Brushstroke Lane, Arts District, Creativia City\\n- Price: $850,000\\n- Bedrooms: 3\\n- Bathrooms: 2.5\\n- House Size: 2,300 sqft\\n- Description: Discover the inspirational living space at this modern loft perfectly tailored for artists and creatives in the heart of Creativia’s vibrant Arts District. Every corner of this property has been carefully designed to ignite your imagination and provide a tranquil space for concentration and creation. The property features an open-plan layout with high ceilings that allow an abundance of natural light to spill across hardwood floors. The main studio area is equipped with professional-grade lighting systems and big wall spaces waiting to exhibit your masterpieces or serve as a blank canvas — literally! A chic kitchen fitted with stainless steel appliances offers a stylish spot to fuel up on coffee or create culinary art while brainstorming your next project.\\n  \\nThe three bedrooms are equally spacious, each one offering enough room for both restful slumber and quiet contemplation away from the main activity hub. An added luxury is the built-in library system integrated into cozy reading nooks ideal for delving into art history books or unwinding with fiction.\\n\\nThe exterior complements the creativity found inside with murals painted by local artists gracing communal walls, creating an inspiring walk-up experience each day.\\n\\n- Neighborhood Description: Nestled within Creativia's bustling Arts District, this neighborhood thrives as a dynamic enclave where art comes alive every direction you look—galleries display cutting-edge work while studios hum with activity around-the-clock. Just steps away from cozy cafes bursting with fellow creatives discussing their latest projects over robust espressos or herbal teas. Frequent street festivals transform city blocks into outdoor canvases celebrating creativity in all its forms—a truly collaborative community eager to welcome its next visionary resident artist.\\n</td>\n",
       "      <td>11</td>\n",
       "    </tr>\n",
       "    <tr>\n",
       "      <th>119</th>\n",
       "      <td>- Neighborhood: 57 Artisan Way, Arts District, Los Angeles\\n- Price: $1.2 million\\n- Bedrooms: 2\\n- Bathrooms: 2\\n- House Size: 1500 sqft\\n- Description: Nestled in the vibrant heart of LA’s Arts District, this exquisite loft combines modern elegance with an artistic charm perfect for creatives and artists alike. The open floor plan is basked in natural light pouring through large industrial windows and features polished concrete floors. A sleek kitchen offers stainless steel appliances next to a spacious living area that's ideal for both work sessions and social gatherings. The two cozy bedrooms provide serene retreats after long days of creation.\\n- Neighborhood Description: Known as a haven for artists, the neighborhood buzzes with galleries, live music venues, and colorful street murals that inspire daily life around every corner. Steps away from artisanal coffee shops, organic eateries, and unique boutiques; this community thrives on creativity and diversity while offering peaceful green spaces amidst urban vibrancy where you can relax or find fresh inspiration for your next project.</td>\n",
       "      <td>11</td>\n",
       "    </tr>\n",
       "  </tbody>\n",
       "</table>\n",
       "<p>120 rows × 2 columns</p>\n",
       "</div>"
      ],
      "text/plain": [
       "                                                                                                                                                                                                                                                                                                                                                                                                                                                                                                                                                                                                                                                                                                                                                                                                                                                                                                                                                                                                                                                                                                                                                                                                                                                                                                                                                                                                                                                                                                                                                                                                                                                                                                                                                                                                                                                                                                                                                                                                                                                                                                                                 listing  \\\n",
       "0    - Neighborhood: 250 Waterfront St, Marina District\\n- Price: $895,000\\n- Bedrooms: 2\\n- Bathrooms: 2\\n- House Size: 1,100 sqft\\n- Description: Immerse yourself in the heart of vibrancy and comfort with this stylish modern condo designed for young professionals. The open-plan living space is bathed in natural light from floor-to-ceiling windows that offer enchanting cityscape views. High-end finishes are evident throughout the kitchen that boasts stainless steel appliances, sleek cabinetry, and a chic breakfast bar perfect for on-the-go mornings or intimate dinners. Both bedrooms serve as private havens with ample closet space and plush carpeting underfoot.\\n \\n   Indulge in the luxury of en-suite bathrooms featuring contemporary fixtures and fine tile work that add to the elegance of urban living. As an added convenience, an in-unit washer and dryer set simplifies laundry days.\\n\\n   This home is more than just its interior; it includes access to top-tier building amenities such as a rooftop terrace with panoramic views, state-of-the-art fitness center, residents' lounge for entertaining guests, secured parking structure, and attentive concierge services enhancing daily life.\\n\\n- Neighborhood Description: Located in the sought-after Marina Districts area often frequented by thriving professionals. The neighborhood pulses with cosmopolitan energy yet retains a relaxed atmosphere conducive to networking and unwinding alike. Within walking distance are gourmet restaurants offering international cuisines, boutique shops for fashion-forward finds along scenic promenades lined with public art installations reflective of local creativity.\\n\\n    Outdoor enthusiasts will appreciate proximity to parks where jogging trails meander alongside waterfront vistas—a tranquil escape from busy schedules. Cultural institutions like theatres hosting premiere performances contribute to rich experiences just steps away from your front door while reliable public transit connects you effortlessly across the city's diverse neighborhoods.\\n   \n",
       "1                                                                                                                                                                                                                                                                                                                                                                                                                                                                                                                                                                                                                                                                                                                                                                                                                                                                                                                                                          - Neighborhood: 352 Parkview Terrace, Austin\\n- Price: $425,000\\n- Bedrooms: 2\\n- Bathrooms: 2\\n- House Size: 1,200 sqft\\n- Description: This sleek and modern condo offers the perfect blend of style and convenience for the young professional. Featuring state-of-the-art appliances, hardwood flooring throughout, an open-concept living space with large windows that flood the area with natural light. The master suite includes a walk-in closet and a pristine en-suite bathroom. Additional amenities include in-unit laundry facilities and private balcony with breathtaking city views.\\n                     \\n- Neighborhood Description: Situated in the heart of Austin's vibrant scene, Parkview Terrace is an ideal spot for those looking to be at arm’s reach from bustling cafes, hip restaurants & bars, boutique shopping options as well as premier entertainment venues. The neighborhood boasts easy access to public transportation facilitating commutes. It is also known for its safety measures and pet-friendly parks which just adds another layer of allure to this dynamic community perfect for social but career-focused individuals.   \n",
       "2                                                                                                                                                                                                                                                                                                                                                                                                                                                                                                                                                                                                                                                                                                                                                                                                                                                                                                                                                                                                                                                                                                                                                                                                                                                                   - Neighborhood: 255 Upstart Lane, Silicon Valley\\n- Price: $1,200,000\\n- Bedrooms: 3\\n- Bathrooms: 2\\n- House Size: 1800 sqft\\n- Description: This modern and sleek single-family home offers an open floor plan with high-end finishes throughout. The kitchen boasts stainless steel appliances and a large island perfect for entertaining. Hardwood floors lead you through the light-filled living space to a cozy backyard oasis. Equipped with smart home features and energy-efficient windows.\\n- Neighborhood Description: Situated in the heart of Silicon Valley, this neighborhood is vibrant and full of life, catering to young professionals keen on innovation and convenience. Just steps away from tech headquarters, dynamic start-ups, upscale dining options, boutique coffee shops, and lush parks ideal for weekend picnics or morning jogs.   \n",
       "3                                                                                                                                                                                                                                                                                                                                                                                                                                                                                                                                                                                                                                                                                                                                                                                                                                                                                                                                                                                        - Neighborhood: 350 Bayswater Ave, San Francisco\\n- Price: $1,500,000\\n- Bedrooms: 2\\n- Bathrooms: 2 \\n- House Size: 1,200 sqft\\n- Description: A sleek and modern two-bedroom condominium perfect for young professionals seeking style and convenience in the heart of San Francisco. This recently renovated unit features an open floor plan with high-end finishes, a state-of-the-art kitchen equipped with stainless steel appliances, gleaming hardwood floors throughout, and large windows that flood the space with natural light. The master suite offers a private retreat complete with ample closet space and a spa-like bathroom.\\n- Neighborhood Description: Positioned in the vibrant neighborhood of Bayswater Avenue within walking distance to tech shuttles, this area is known for its trendy cafes, boutique shops, and pulsating nightlife. Commuters will appreciate proximity to public transit as well as quick access to major freeways. The community also boasts serene parks and waterfront walks which provide quiet escapes from the urban bustle for those after-work unwind moments or weekend adventures.   \n",
       "4                                                                                                                                                                                                                                                                                                                                                                                                                                                                                                                                                                                                                                                                                                                                                                                                                                                                                                                                                       - Neighborhood: The Metropolitan Lofts, 115 Cityscape Terrace, Downtown District\\n- Price: $459,000\\n- Bedrooms: 2\\n- Bathrooms: 2\\n- House Size: 1,100 sqft\\n- Description: This modern loft boasts an open floor plan with high ceilings and large windows that bathe the space in natural light. The contemporary kitchen features stainless steel appliances and a sleek breakfast bar perfect for casual dining. Hardwood floors run throughout the living areas into two spacious bedrooms with ample closet space. State-of-the-art smart home technology is installed for added convenience and security.\\n  \\n - Neighborhood Description:\\nThe Metropolitan Lofts are situated at the heart of the downtown area, offering young professionals an energetic lifestyle coupled with comfort. Within walking distance to dynamic startups, posh restaurants, cultural hotspots like art galleries and theaters as well as local farmers' markets on weekends - this neighborhood thrives on its diverse community atmosphere. With easy access to public transportation and biking lanes it's also perfect for eco-conscious residents leading a car-free lifestyle.\\n\\n   \n",
       "..                                                                                                                                                                                                                                                                                                                                                                                                                                                                                                                                                                                                                                                                                                                                                                                                                                                                                                                                                                                                                                                                                                                                                                                                                                                                                                                                                                                                                                                                                                                                                                                                                                                                                                                                                                                                                                                                                                                                                                                                                                                                                                                                   ...   \n",
       "115                                                                                                                                                                                                                                                                                                                                                                                                                                                                                                                                                                                                                                                                                                                                                                                                                                                                                                                                                                                                                                                                                                                                                                                   - Neighborhood: 153 Bohemian Lane, Artisanville\\n- Price: $725,000\\n- Bedrooms: 3\\n- Bathrooms: 2\\n- House Size: 2,100 sqft\\n- Description: This vibrant and inspiring home stands as a creative sanctuary designed with artists in mind. The expansive walls are treated to serve as canvases for murals or gallery displays, and the open floor plan ensures natural light fills every room. An enclosed patio creates a serene space for outdoor creativity. The studio annex comes equipped with adjustable lighting perfect for any art form.\\n- Neighborhood Description: Nestled in bustling Artisanville, this neighborhood is known for its cultural diversity and artistic flair. Weekly craft fairs and co-op galleries make it an ideal spot for creatives seeking community inspiration. Coffee shops play host to poetry slams while live music venues promote local talent—making it the heartbeat of the city's avant-garde scene.   \n",
       "116                                                                                                                                                                                                                                                                                                                                                                                                                                                                                                                                                                                                                                                                                                                                                                                                                                                                                                                                                                           - Neighborhood: 500 Bohemian Way, Arts District\\n- Price: $750,000\\n- Bedrooms: 2\\n- Bathrooms: 2\\n- House Size: 1,800 sqft\\n- Description: This unique loft-style home features soaring ceilings and an open floor plan filled with natural light. The interior boasts industrial-chic design elements like exposed brick walls and ductwork. A modern kitchen with stainless steel appliances provides the perfect space for culinary exploration, while the spacious living area offers a versatile canvas for any artistic endeavor. The bedrooms are serene retreats with ample storage space; the master includes an en-suite bathroom adorned with stylish fixtures.\\n- Neighborhood Description: Nestled in the heart of the city's vibrant Arts District, this neighborhood is alive with creativity and culture. You'll be surrounded by galleries showcasing local artists' work, trendy cafes brimming with inspiration, and performance spaces where music and theater thrive. It's a community that not only appreciates art but lives it daily—an urban oasis for anyone passionate about expressing themselves through their surroundings.   \n",
       "117                                                                                                                                                                                                                                                                                                                                                                                                                                                                                                                                                                                                                                                                                                                                                                                                                                                                                                                                                                      - Neighborhood: The Arts District, Downtown Los Angeles\\n- Price: $1.2 Million\\n- Bedrooms: 2\\n- Bathrooms: 2\\n- House Size: 1500 sqft\\n- Description: This industrial-inspired loft offers an open floor plan with high ceilings, large windows that flood the space with natural light, and polished concrete floors. Custom wall installations & modern art fixtures enhance the artistic vibe of the home, complemented by a professional-grade kitchen fitted for culinary creativity. An enclosed patio acts as both a serene retreat and inspirational space perfect for any creative endeavor.\\n- Neighborhood Description: Nestled within LA’s vibrant Arts District, this neighborhood thrives with galleries, live/work studios and a diverse community of artists and creatives. Enjoy easy access to artisanal coffee shops like Stumptown Coffee Roasters or Blue Bottle Coffee, organic eateries such as Bestia and Bavel for foodie adventures after studio work hours. The area is known for its eclectic charm with murals gracing building walls inviting inspiration at every corner along with frequent art walks showcasing local talent.   \n",
       "118                                                        - Neighborhood: 152 Brushstroke Lane, Arts District, Creativia City\\n- Price: $850,000\\n- Bedrooms: 3\\n- Bathrooms: 2.5\\n- House Size: 2,300 sqft\\n- Description: Discover the inspirational living space at this modern loft perfectly tailored for artists and creatives in the heart of Creativia’s vibrant Arts District. Every corner of this property has been carefully designed to ignite your imagination and provide a tranquil space for concentration and creation. The property features an open-plan layout with high ceilings that allow an abundance of natural light to spill across hardwood floors. The main studio area is equipped with professional-grade lighting systems and big wall spaces waiting to exhibit your masterpieces or serve as a blank canvas — literally! A chic kitchen fitted with stainless steel appliances offers a stylish spot to fuel up on coffee or create culinary art while brainstorming your next project.\\n  \\nThe three bedrooms are equally spacious, each one offering enough room for both restful slumber and quiet contemplation away from the main activity hub. An added luxury is the built-in library system integrated into cozy reading nooks ideal for delving into art history books or unwinding with fiction.\\n\\nThe exterior complements the creativity found inside with murals painted by local artists gracing communal walls, creating an inspiring walk-up experience each day.\\n\\n- Neighborhood Description: Nestled within Creativia's bustling Arts District, this neighborhood thrives as a dynamic enclave where art comes alive every direction you look—galleries display cutting-edge work while studios hum with activity around-the-clock. Just steps away from cozy cafes bursting with fellow creatives discussing their latest projects over robust espressos or herbal teas. Frequent street festivals transform city blocks into outdoor canvases celebrating creativity in all its forms—a truly collaborative community eager to welcome its next visionary resident artist.\\n   \n",
       "119                                                                                                                                                                                                                                                                                                                                                                                                                                                                                                                                                                                                                                                                                                                                                                                                                                                                                                                                                                                    - Neighborhood: 57 Artisan Way, Arts District, Los Angeles\\n- Price: $1.2 million\\n- Bedrooms: 2\\n- Bathrooms: 2\\n- House Size: 1500 sqft\\n- Description: Nestled in the vibrant heart of LA’s Arts District, this exquisite loft combines modern elegance with an artistic charm perfect for creatives and artists alike. The open floor plan is basked in natural light pouring through large industrial windows and features polished concrete floors. A sleek kitchen offers stainless steel appliances next to a spacious living area that's ideal for both work sessions and social gatherings. The two cozy bedrooms provide serene retreats after long days of creation.\\n- Neighborhood Description: Known as a haven for artists, the neighborhood buzzes with galleries, live music venues, and colorful street murals that inspire daily life around every corner. Steps away from artisanal coffee shops, organic eateries, and unique boutiques; this community thrives on creativity and diversity while offering peaceful green spaces amidst urban vibrancy where you can relax or find fresh inspiration for your next project.   \n",
       "\n",
       "     group  \n",
       "0        0  \n",
       "1        0  \n",
       "2        0  \n",
       "3        0  \n",
       "4        0  \n",
       "..     ...  \n",
       "115     11  \n",
       "116     11  \n",
       "117     11  \n",
       "118     11  \n",
       "119     11  \n",
       "\n",
       "[120 rows x 2 columns]"
      ]
     },
     "execution_count": 57,
     "metadata": {},
     "output_type": "execute_result"
    }
   ],
   "source": [
    "import pandas as pd\n",
    "import time\n",
    "\n",
    "df_list = []\n",
    "size_per_group = 10\n",
    "for id, people in enumerate(groups):\n",
    "    df_list.append(pd.DataFrame({\"listing\": [generate_resl_estate_listing(user_prompt_template(people)) for i in range(size_per_group)], \"group\": [id]*size_per_group}))\n",
    "    time.sleep(10)\n",
    "df = pd.concat(df_list).reset_index(drop=True)\n",
    "pd.set_option(\"display.max_colwidth\", None)\n",
    "df"
   ]
  },
  {
   "cell_type": "markdown",
   "id": "93f770a0",
   "metadata": {},
   "source": [
    "### Storing Listings in a Vector Database"
   ]
  },
  {
   "cell_type": "code",
   "execution_count": 8,
   "id": "e589833d",
   "metadata": {},
   "outputs": [],
   "source": [
    "from lancedb.pydantic import LanceModel, Vector\n",
    "from lancedb.embeddings import get_registry\n",
    "import lancedb\n",
    "from openai import OpenAI\n",
    "from dotenv import load_dotenv\n",
    "load_dotenv()\n",
    "\n",
    "# func = get_registry().get(\"openai\").create(name=\"text-embedding-ada-002\")\n",
    "import openai\n",
    "import os\n",
    "\n",
    "EMBEDDING_MODEL_NAME = \"text-embedding-ada-002\"\n",
    "client = OpenAI(\n",
    "    api_key=os.getenv(\"OPENAI_API_KEY\"),\n",
    "    # I have chosen to use local model host, as OpenAI has recently closed the 5$ api key bonus\n",
    "    # the model supports same api format as openai does\n",
    "    base_url=\"http://localhost:8080\"\n",
    ")\n",
    "def embed_func(c):    \n",
    "    response = client.embeddings.create(input=c, model=EMBEDDING_MODEL_NAME)\n",
    "    return [data.embedding for data in response.data]"
   ]
  },
  {
   "cell_type": "code",
   "execution_count": 9,
   "id": "592afb52",
   "metadata": {},
   "outputs": [],
   "source": [
    "class RealEstateListing(LanceModel):\n",
    "    vector: Vector(384)\n",
    "    listing: str\n",
    "    group: str"
   ]
  },
  {
   "cell_type": "code",
   "execution_count": 17,
   "id": "f33d4689",
   "metadata": {},
   "outputs": [
    {
     "name": "stderr",
     "output_type": "stream",
     "text": [
      "/tmp/ipykernel_2259183/810152267.py:4: DeprecationWarning: Function with_embeddings is deprecated and will be removed in a future version\n",
      "  df_embedded = with_embeddings(embed_func, df, column=\"listing\").to_pandas()\n"
     ]
    },
    {
     "data": {
      "text/html": [
       "<div>\n",
       "<style scoped>\n",
       "    .dataframe tbody tr th:only-of-type {\n",
       "        vertical-align: middle;\n",
       "    }\n",
       "\n",
       "    .dataframe tbody tr th {\n",
       "        vertical-align: top;\n",
       "    }\n",
       "\n",
       "    .dataframe thead th {\n",
       "        text-align: right;\n",
       "    }\n",
       "</style>\n",
       "<table border=\"1\" class=\"dataframe\">\n",
       "  <thead>\n",
       "    <tr style=\"text-align: right;\">\n",
       "      <th></th>\n",
       "      <th>listing</th>\n",
       "      <th>group</th>\n",
       "      <th>vector</th>\n",
       "    </tr>\n",
       "  </thead>\n",
       "  <tbody>\n",
       "    <tr>\n",
       "      <th>0</th>\n",
       "      <td>- Neighborhood: 250 Waterfront St, Marina Dist...</td>\n",
       "      <td>0</td>\n",
       "      <td>[0.058508158, 0.029074132, 0.043684043, -0.009...</td>\n",
       "    </tr>\n",
       "  </tbody>\n",
       "</table>\n",
       "</div>"
      ],
      "text/plain": [
       "                                             listing group  \\\n",
       "0  - Neighborhood: 250 Waterfront St, Marina Dist...     0   \n",
       "\n",
       "                                              vector  \n",
       "0  [0.058508158, 0.029074132, 0.043684043, -0.009...  "
      ]
     },
     "execution_count": 17,
     "metadata": {},
     "output_type": "execute_result"
    }
   ],
   "source": [
    "from lancedb.embeddings import with_embeddings\n",
    "import pandas as pd\n",
    "\n",
    "df_embedded = with_embeddings(embed_func, df, column=\"listing\").to_pandas()\n",
    "df_embedded\n"
   ]
  },
  {
   "cell_type": "code",
   "execution_count": 64,
   "id": "f3ae8dce",
   "metadata": {},
   "outputs": [
    {
     "name": "stderr",
     "output_type": "stream",
     "text": [
      "[2024-06-22T10:25:13Z WARN  lance::dataset] No existing dataset at /lhome/yuwewan/workspace/Minverva/genAI_udacity/Real_Estate_Agent/lancedb/real_estate_listings.lance, it will be created\n"
     ]
    }
   ],
   "source": [
    "\n",
    "db = lancedb.connect(\"./lancedb\")\n",
    "table_name = \"real_estate_listings\"\n",
    "table = db.create_table(table_name, schema=RealEstateListing, mode=\"overwrite\")"
   ]
  },
  {
   "cell_type": "code",
   "execution_count": 65,
   "id": "eeca767f",
   "metadata": {},
   "outputs": [
    {
     "data": {
      "text/html": [
       "<div>\n",
       "<style scoped>\n",
       "    .dataframe tbody tr th:only-of-type {\n",
       "        vertical-align: middle;\n",
       "    }\n",
       "\n",
       "    .dataframe tbody tr th {\n",
       "        vertical-align: top;\n",
       "    }\n",
       "\n",
       "    .dataframe thead th {\n",
       "        text-align: right;\n",
       "    }\n",
       "</style>\n",
       "<table border=\"1\" class=\"dataframe\">\n",
       "  <thead>\n",
       "    <tr style=\"text-align: right;\">\n",
       "      <th></th>\n",
       "      <th>vector</th>\n",
       "      <th>listing</th>\n",
       "      <th>group</th>\n",
       "    </tr>\n",
       "  </thead>\n",
       "  <tbody>\n",
       "    <tr>\n",
       "      <th>0</th>\n",
       "      <td>[0.058508143, 0.02907416, 0.043684054, -0.009807144, -0.050845005, 0.030122882, -0.060871765, 0.0040336815, -0.025515487, -0.0282995, -0.01119739, -0.111601084, 0.03444756, 0.0011670552, 0.08167276, 0.010128735, 0.11821405, 0.026792387, 0.029855762, 0.051701207, -0.04625208, 0.0046300814, 0.00084731093, -0.035731196, 0.0156841, 0.08610467, 0.01831103, 0.03300818, -0.049790993, 0.011102918, 0.059595834, 0.047849704, 0.028044403, -0.06404407, 0.056364294, -0.042862635, -0.034160275, -0.05080546, 0.007422114, -0.00040552652, -0.042594127, -0.017449502, -0.028738149, 0.050229516, -0.045410205, -0.063050054, -0.003511994, 0.03083161, 0.05919047, -0.07009388, 0.03898609, 0.08206192, 0.030433357, 0.03248369, -0.04558283, 0.024247643, -0.040412884, -0.029736688, 0.034573033, -0.044887252, 0.09426998, 0.016264196, 0.020763775, 0.01299787, 0.023354582, -0.03948777, -0.016023932, 0.0987113, 0.012233934, -0.07733977, -0.032462303, -0.0021667096, 0.047857303, 0.04200995, 0.0057053664, 0.009708946, 0.040949054, -0.019909529, -0.00068721455, 0.0044354647, 0.024635343, -0.017793769, -0.03741448, 0.0146732135, 0.011596321, -0.0041640406, 0.00031836514, -0.019088313, 0.036408745, 0.010967304, 0.025408411, -9.308738e-05, -0.15183586, -0.099948965, 0.024020763, -0.0034210996, -0.1385258, -0.02444478, 0.010562316, 0.012679376, ...]</td>\n",
       "      <td>- Neighborhood: 250 Waterfront St, Marina District\\n- Price: $895,000\\n- Bedrooms: 2\\n- Bathrooms: 2\\n- House Size: 1,100 sqft\\n- Description: Immerse yourself in the heart of vibrancy and comfort with this stylish modern condo designed for young professionals. The open-plan living space is bathed in natural light from floor-to-ceiling windows that offer enchanting cityscape views. High-end finishes are evident throughout the kitchen that boasts stainless steel appliances, sleek cabinetry, and a chic breakfast bar perfect for on-the-go mornings or intimate dinners. Both bedrooms serve as private havens with ample closet space and plush carpeting underfoot.\\n \\n   Indulge in the luxury of en-suite bathrooms featuring contemporary fixtures and fine tile work that add to the elegance of urban living. As an added convenience, an in-unit washer and dryer set simplifies laundry days.\\n\\n   This home is more than just its interior; it includes access to top-tier building amenities such as a rooftop terrace with panoramic views, state-of-the-art fitness center, residents' lounge for entertaining guests, secured parking structure, and attentive concierge services enhancing daily life.\\n\\n- Neighborhood Description: Located in the sought-after Marina Districts area often frequented by thriving professionals. The neighborhood pulses with cosmopolitan energy yet retains a relaxed atmosphere conducive to networking and unwinding alike. Within walking distance are gourmet restaurants offering international cuisines, boutique shops for fashion-forward finds along scenic promenades lined with public art installations reflective of local creativity.\\n\\n    Outdoor enthusiasts will appreciate proximity to parks where jogging trails meander alongside waterfront vistas—a tranquil escape from busy schedules. Cultural institutions like theatres hosting premiere performances contribute to rich experiences just steps away from your front door while reliable public transit connects you effortlessly across the city's diverse neighborhoods.\\n</td>\n",
       "      <td>0</td>\n",
       "    </tr>\n",
       "    <tr>\n",
       "      <th>1</th>\n",
       "      <td>[0.08807147, -0.031950254, 0.11615688, 0.006585816, -0.09464219, 0.030149572, 0.0077909925, -0.021867914, -0.007555809, -0.032976802, 0.012449364, 0.009467583, 0.0921661, 0.007781201, 0.07434154, 0.00878247, 0.09606928, 0.027645389, 0.024280358, 0.052039545, -0.028513487, 0.00895382, -0.0075076977, -0.017512724, -0.058618948, 0.12708355, 0.01685586, -0.012254036, -0.03175031, 0.0036859997, 0.08263985, 4.6791287e-05, 0.04767689, -0.042601336, 0.043040067, 0.011154155, -0.017736562, -0.068274006, -0.00048933615, -0.028498916, -0.064493924, 0.017040381, 0.000983461, 0.0045599947, -0.065816805, 0.007836677, 0.0387529, -0.061712228, 0.06478883, -0.0781714, -0.013709768, 0.10059742, 0.060913317, -0.011910532, -0.03795262, -0.015967617, -0.1021183, -0.025586698, 0.053137723, -0.022110129, 0.07482723, -0.0496895, -0.0057119885, 0.006598796, -0.050764926, 0.007332867, -0.044918347, 0.0028528215, 0.11970743, -0.112714425, 0.02813775, 0.029141827, 0.021982389, -0.03045588, 0.05601084, 0.021104354, 0.05666741, -0.08972128, -0.010668588, -0.09398278, 0.013628775, 0.01205997, -0.050931692, 0.030454433, 0.026114484, -0.079838276, 0.04986911, 0.0497619, -0.0068033743, 0.026566295, 0.018746361, 0.053277124, -0.111555815, -0.06320819, -0.0012237187, -0.021749938, -0.13538618, -0.12655511, -0.025042966, 0.016559267, ...]</td>\n",
       "      <td>- Neighborhood: 352 Parkview Terrace, Austin\\n- Price: $425,000\\n- Bedrooms: 2\\n- Bathrooms: 2\\n- House Size: 1,200 sqft\\n- Description: This sleek and modern condo offers the perfect blend of style and convenience for the young professional. Featuring state-of-the-art appliances, hardwood flooring throughout, an open-concept living space with large windows that flood the area with natural light. The master suite includes a walk-in closet and a pristine en-suite bathroom. Additional amenities include in-unit laundry facilities and private balcony with breathtaking city views.\\n                     \\n- Neighborhood Description: Situated in the heart of Austin's vibrant scene, Parkview Terrace is an ideal spot for those looking to be at arm’s reach from bustling cafes, hip restaurants &amp; bars, boutique shopping options as well as premier entertainment venues. The neighborhood boasts easy access to public transportation facilitating commutes. It is also known for its safety measures and pet-friendly parks which just adds another layer of allure to this dynamic community perfect for social but career-focused individuals.</td>\n",
       "      <td>0</td>\n",
       "    </tr>\n",
       "    <tr>\n",
       "      <th>2</th>\n",
       "      <td>[0.08845601, -0.043761484, 0.033120435, 0.06408158, -0.019495893, -0.031640604, -0.009454071, 0.031130169, -0.045147106, -0.03444731, 0.039114967, -0.042184874, 0.08638866, -0.03186928, 0.03725231, 0.047904342, 0.07385175, -0.08213356, 0.038681656, -0.05493202, -0.021867454, -0.051440794, 0.000861491, -0.0049014767, 0.041336894, 0.029743083, -0.0065177553, 0.037630904, -0.04952055, -0.010427829, 0.032680452, 0.059168868, 0.04992675, -0.04495834, 0.1293789, 0.056262657, 0.028600663, 0.014675709, -0.009925487, -0.03074881, 0.010057499, -0.065570325, 0.024806434, 0.02269663, -0.010679938, -0.019586783, -0.026945295, -0.04426144, 0.062097598, -0.013811872, -0.0070331935, 0.078844994, 0.06391136, 0.041363418, -0.045211267, 0.04058532, 0.045133196, 0.013675001, 0.05571541, -0.028761115, 0.095998235, -0.1123927, -0.06424835, 0.014571066, 0.012725089, 0.0026134618, 0.02058744, -0.035124887, -0.032438204, -0.121959, -0.02053008, 0.019161487, 0.017172331, 0.060969643, 0.041572966, -0.0096922405, 0.10153402, 0.016938658, 0.045315143, -0.0073015112, 0.017081372, -0.020691168, -0.07471205, 0.017385583, -0.060473487, 0.04932804, -0.069987945, 0.021012237, 0.034298666, -0.027546108, -0.041436158, 0.022462804, -0.0455265, -0.07602675, 0.03358674, 0.0050479225, -0.12512314, -0.10766774, 0.0041346964, 0.0027330706, ...]</td>\n",
       "      <td>- Neighborhood: 255 Upstart Lane, Silicon Valley\\n- Price: $1,200,000\\n- Bedrooms: 3\\n- Bathrooms: 2\\n- House Size: 1800 sqft\\n- Description: This modern and sleek single-family home offers an open floor plan with high-end finishes throughout. The kitchen boasts stainless steel appliances and a large island perfect for entertaining. Hardwood floors lead you through the light-filled living space to a cozy backyard oasis. Equipped with smart home features and energy-efficient windows.\\n- Neighborhood Description: Situated in the heart of Silicon Valley, this neighborhood is vibrant and full of life, catering to young professionals keen on innovation and convenience. Just steps away from tech headquarters, dynamic start-ups, upscale dining options, boutique coffee shops, and lush parks ideal for weekend picnics or morning jogs.</td>\n",
       "      <td>0</td>\n",
       "    </tr>\n",
       "    <tr>\n",
       "      <th>3</th>\n",
       "      <td>[0.090730816, -0.062145982, 0.08213632, 0.03265288, -0.050206922, 0.05318836, 0.0046987436, -0.013301376, -0.0061599, -0.05964209, -0.04299265, -0.0014532192, 0.009745793, 0.016168682, 0.020407395, 0.04449941, 0.04542817, -0.0021466927, 0.07728415, 0.021731671, -0.014896234, -0.036011174, -0.029097227, -0.049611032, -0.039944034, 0.07476149, 0.028605029, 0.088384815, -0.011845251, 0.019141475, 0.040637314, 0.051503688, 0.027711362, -0.062799156, 0.06993268, -0.03010638, 0.02663735, -0.06075246, -0.0053474605, 0.008188671, -0.06562605, 0.004666447, 0.0108147375, 0.06020615, 0.037687223, -0.047167595, -0.034944303, -0.029204214, 0.07273027, -0.05504098, -0.042334992, 0.009130871, 0.030186968, 0.04596568, -0.056186333, -0.0041861273, 0.0017615486, -0.063419156, 0.06785674, -0.048253447, 0.06675413, -0.08482192, -0.024825606, 0.012476155, 0.005692586, 0.030938847, -0.08533623, 0.049166944, 0.041798007, -0.06888365, -0.031528138, 0.0548989, -0.0025063225, 0.005736858, -0.049315456, -0.03085369, 0.026817106, -0.024327258, -0.024753954, 0.01926021, 0.0053213234, -0.07293724, -0.08038898, 0.057660807, 0.008367526, 0.022387888, -0.022610988, -0.050713703, -0.034815423, 0.05688356, -0.042132933, 0.036614124, -0.07754244, -0.14554197, -0.015131878, -0.01168551, -0.115514904, -0.1159017, -0.015897678, -0.0218942, ...]</td>\n",
       "      <td>- Neighborhood: 350 Bayswater Ave, San Francisco\\n- Price: $1,500,000\\n- Bedrooms: 2\\n- Bathrooms: 2 \\n- House Size: 1,200 sqft\\n- Description: A sleek and modern two-bedroom condominium perfect for young professionals seeking style and convenience in the heart of San Francisco. This recently renovated unit features an open floor plan with high-end finishes, a state-of-the-art kitchen equipped with stainless steel appliances, gleaming hardwood floors throughout, and large windows that flood the space with natural light. The master suite offers a private retreat complete with ample closet space and a spa-like bathroom.\\n- Neighborhood Description: Positioned in the vibrant neighborhood of Bayswater Avenue within walking distance to tech shuttles, this area is known for its trendy cafes, boutique shops, and pulsating nightlife. Commuters will appreciate proximity to public transit as well as quick access to major freeways. The community also boasts serene parks and waterfront walks which provide quiet escapes from the urban bustle for those after-work unwind moments or weekend adventures.</td>\n",
       "      <td>0</td>\n",
       "    </tr>\n",
       "    <tr>\n",
       "      <th>4</th>\n",
       "      <td>[0.12559041, -0.018153721, 0.089051135, 0.04812442, -0.024816193, -0.003703513, -0.05756506, -0.020901693, -0.0384622, -0.0198584, 0.025562437, -0.009644824, 0.030299222, -0.0018644918, 0.036714256, 0.010886858, 0.13896345, -0.09647944, 0.07565884, 0.024991421, -0.028739076, -0.065250665, 0.030846978, -0.0030968017, 0.045881003, 0.0031576653, 0.0069364086, 0.026558284, -0.04016786, 0.0055862404, 0.10760214, 0.02568106, 0.008085231, 0.02043519, 0.03394033, 0.016807752, -0.002909032, 0.006349894, -0.021161342, -0.02046796, 0.0065334532, -0.088449456, -0.057280783, 0.020907035, -0.025859859, -0.0038910473, -0.015456641, -0.00025433712, 0.029801471, -0.0012669733, -0.03391974, 0.03939395, 0.039873634, 0.052384194, 0.009428579, 0.037622996, -0.005890393, 0.033061016, 0.039109092, -0.042911224, 0.061600376, -0.031011755, -0.06608479, -0.0353261, 0.0011557556, 0.018025704, -0.06742456, 0.028509488, 0.02461015, -0.14317358, -0.0023701398, -0.014720142, -0.0025323255, -0.024484122, 0.06861438, 0.005165492, 0.02658751, -0.10120224, 0.033749126, 0.01381703, 0.05371917, 0.005452472, -0.078007415, 0.011019609, -0.024538469, -0.00034448918, -0.0003693766, 0.018848663, -0.007612105, -0.042076513, 0.022684172, 0.0018292503, -0.122891866, -0.034991268, 0.014750816, -0.034551073, -0.108684376, -0.07161978, -0.051239602, 0.0067731063, ...]</td>\n",
       "      <td>- Neighborhood: The Metropolitan Lofts, 115 Cityscape Terrace, Downtown District\\n- Price: $459,000\\n- Bedrooms: 2\\n- Bathrooms: 2\\n- House Size: 1,100 sqft\\n- Description: This modern loft boasts an open floor plan with high ceilings and large windows that bathe the space in natural light. The contemporary kitchen features stainless steel appliances and a sleek breakfast bar perfect for casual dining. Hardwood floors run throughout the living areas into two spacious bedrooms with ample closet space. State-of-the-art smart home technology is installed for added convenience and security.\\n  \\n - Neighborhood Description:\\nThe Metropolitan Lofts are situated at the heart of the downtown area, offering young professionals an energetic lifestyle coupled with comfort. Within walking distance to dynamic startups, posh restaurants, cultural hotspots like art galleries and theaters as well as local farmers' markets on weekends - this neighborhood thrives on its diverse community atmosphere. With easy access to public transportation and biking lanes it's also perfect for eco-conscious residents leading a car-free lifestyle.\\n\\n</td>\n",
       "      <td>0</td>\n",
       "    </tr>\n",
       "  </tbody>\n",
       "</table>\n",
       "</div>"
      ],
      "text/plain": [
       "                                                                                                                                                                                                                                                                                                                                                                                                                                                                                                                                                                                                                                                                                                                                                                                                                                                                                                                                                                                                                                                                                                                                                                                                                                                                                                                                                                                           vector  \\\n",
       "0            [0.058508143, 0.02907416, 0.043684054, -0.009807144, -0.050845005, 0.030122882, -0.060871765, 0.0040336815, -0.025515487, -0.0282995, -0.01119739, -0.111601084, 0.03444756, 0.0011670552, 0.08167276, 0.010128735, 0.11821405, 0.026792387, 0.029855762, 0.051701207, -0.04625208, 0.0046300814, 0.00084731093, -0.035731196, 0.0156841, 0.08610467, 0.01831103, 0.03300818, -0.049790993, 0.011102918, 0.059595834, 0.047849704, 0.028044403, -0.06404407, 0.056364294, -0.042862635, -0.034160275, -0.05080546, 0.007422114, -0.00040552652, -0.042594127, -0.017449502, -0.028738149, 0.050229516, -0.045410205, -0.063050054, -0.003511994, 0.03083161, 0.05919047, -0.07009388, 0.03898609, 0.08206192, 0.030433357, 0.03248369, -0.04558283, 0.024247643, -0.040412884, -0.029736688, 0.034573033, -0.044887252, 0.09426998, 0.016264196, 0.020763775, 0.01299787, 0.023354582, -0.03948777, -0.016023932, 0.0987113, 0.012233934, -0.07733977, -0.032462303, -0.0021667096, 0.047857303, 0.04200995, 0.0057053664, 0.009708946, 0.040949054, -0.019909529, -0.00068721455, 0.0044354647, 0.024635343, -0.017793769, -0.03741448, 0.0146732135, 0.011596321, -0.0041640406, 0.00031836514, -0.019088313, 0.036408745, 0.010967304, 0.025408411, -9.308738e-05, -0.15183586, -0.099948965, 0.024020763, -0.0034210996, -0.1385258, -0.02444478, 0.010562316, 0.012679376, ...]   \n",
       "1                     [0.08807147, -0.031950254, 0.11615688, 0.006585816, -0.09464219, 0.030149572, 0.0077909925, -0.021867914, -0.007555809, -0.032976802, 0.012449364, 0.009467583, 0.0921661, 0.007781201, 0.07434154, 0.00878247, 0.09606928, 0.027645389, 0.024280358, 0.052039545, -0.028513487, 0.00895382, -0.0075076977, -0.017512724, -0.058618948, 0.12708355, 0.01685586, -0.012254036, -0.03175031, 0.0036859997, 0.08263985, 4.6791287e-05, 0.04767689, -0.042601336, 0.043040067, 0.011154155, -0.017736562, -0.068274006, -0.00048933615, -0.028498916, -0.064493924, 0.017040381, 0.000983461, 0.0045599947, -0.065816805, 0.007836677, 0.0387529, -0.061712228, 0.06478883, -0.0781714, -0.013709768, 0.10059742, 0.060913317, -0.011910532, -0.03795262, -0.015967617, -0.1021183, -0.025586698, 0.053137723, -0.022110129, 0.07482723, -0.0496895, -0.0057119885, 0.006598796, -0.050764926, 0.007332867, -0.044918347, 0.0028528215, 0.11970743, -0.112714425, 0.02813775, 0.029141827, 0.021982389, -0.03045588, 0.05601084, 0.021104354, 0.05666741, -0.08972128, -0.010668588, -0.09398278, 0.013628775, 0.01205997, -0.050931692, 0.030454433, 0.026114484, -0.079838276, 0.04986911, 0.0497619, -0.0068033743, 0.026566295, 0.018746361, 0.053277124, -0.111555815, -0.06320819, -0.0012237187, -0.021749938, -0.13538618, -0.12655511, -0.025042966, 0.016559267, ...]   \n",
       "2                     [0.08845601, -0.043761484, 0.033120435, 0.06408158, -0.019495893, -0.031640604, -0.009454071, 0.031130169, -0.045147106, -0.03444731, 0.039114967, -0.042184874, 0.08638866, -0.03186928, 0.03725231, 0.047904342, 0.07385175, -0.08213356, 0.038681656, -0.05493202, -0.021867454, -0.051440794, 0.000861491, -0.0049014767, 0.041336894, 0.029743083, -0.0065177553, 0.037630904, -0.04952055, -0.010427829, 0.032680452, 0.059168868, 0.04992675, -0.04495834, 0.1293789, 0.056262657, 0.028600663, 0.014675709, -0.009925487, -0.03074881, 0.010057499, -0.065570325, 0.024806434, 0.02269663, -0.010679938, -0.019586783, -0.026945295, -0.04426144, 0.062097598, -0.013811872, -0.0070331935, 0.078844994, 0.06391136, 0.041363418, -0.045211267, 0.04058532, 0.045133196, 0.013675001, 0.05571541, -0.028761115, 0.095998235, -0.1123927, -0.06424835, 0.014571066, 0.012725089, 0.0026134618, 0.02058744, -0.035124887, -0.032438204, -0.121959, -0.02053008, 0.019161487, 0.017172331, 0.060969643, 0.041572966, -0.0096922405, 0.10153402, 0.016938658, 0.045315143, -0.0073015112, 0.017081372, -0.020691168, -0.07471205, 0.017385583, -0.060473487, 0.04932804, -0.069987945, 0.021012237, 0.034298666, -0.027546108, -0.041436158, 0.022462804, -0.0455265, -0.07602675, 0.03358674, 0.0050479225, -0.12512314, -0.10766774, 0.0041346964, 0.0027330706, ...]   \n",
       "3                 [0.090730816, -0.062145982, 0.08213632, 0.03265288, -0.050206922, 0.05318836, 0.0046987436, -0.013301376, -0.0061599, -0.05964209, -0.04299265, -0.0014532192, 0.009745793, 0.016168682, 0.020407395, 0.04449941, 0.04542817, -0.0021466927, 0.07728415, 0.021731671, -0.014896234, -0.036011174, -0.029097227, -0.049611032, -0.039944034, 0.07476149, 0.028605029, 0.088384815, -0.011845251, 0.019141475, 0.040637314, 0.051503688, 0.027711362, -0.062799156, 0.06993268, -0.03010638, 0.02663735, -0.06075246, -0.0053474605, 0.008188671, -0.06562605, 0.004666447, 0.0108147375, 0.06020615, 0.037687223, -0.047167595, -0.034944303, -0.029204214, 0.07273027, -0.05504098, -0.042334992, 0.009130871, 0.030186968, 0.04596568, -0.056186333, -0.0041861273, 0.0017615486, -0.063419156, 0.06785674, -0.048253447, 0.06675413, -0.08482192, -0.024825606, 0.012476155, 0.005692586, 0.030938847, -0.08533623, 0.049166944, 0.041798007, -0.06888365, -0.031528138, 0.0548989, -0.0025063225, 0.005736858, -0.049315456, -0.03085369, 0.026817106, -0.024327258, -0.024753954, 0.01926021, 0.0053213234, -0.07293724, -0.08038898, 0.057660807, 0.008367526, 0.022387888, -0.022610988, -0.050713703, -0.034815423, 0.05688356, -0.042132933, 0.036614124, -0.07754244, -0.14554197, -0.015131878, -0.01168551, -0.115514904, -0.1159017, -0.015897678, -0.0218942, ...]   \n",
       "4  [0.12559041, -0.018153721, 0.089051135, 0.04812442, -0.024816193, -0.003703513, -0.05756506, -0.020901693, -0.0384622, -0.0198584, 0.025562437, -0.009644824, 0.030299222, -0.0018644918, 0.036714256, 0.010886858, 0.13896345, -0.09647944, 0.07565884, 0.024991421, -0.028739076, -0.065250665, 0.030846978, -0.0030968017, 0.045881003, 0.0031576653, 0.0069364086, 0.026558284, -0.04016786, 0.0055862404, 0.10760214, 0.02568106, 0.008085231, 0.02043519, 0.03394033, 0.016807752, -0.002909032, 0.006349894, -0.021161342, -0.02046796, 0.0065334532, -0.088449456, -0.057280783, 0.020907035, -0.025859859, -0.0038910473, -0.015456641, -0.00025433712, 0.029801471, -0.0012669733, -0.03391974, 0.03939395, 0.039873634, 0.052384194, 0.009428579, 0.037622996, -0.005890393, 0.033061016, 0.039109092, -0.042911224, 0.061600376, -0.031011755, -0.06608479, -0.0353261, 0.0011557556, 0.018025704, -0.06742456, 0.028509488, 0.02461015, -0.14317358, -0.0023701398, -0.014720142, -0.0025323255, -0.024484122, 0.06861438, 0.005165492, 0.02658751, -0.10120224, 0.033749126, 0.01381703, 0.05371917, 0.005452472, -0.078007415, 0.011019609, -0.024538469, -0.00034448918, -0.0003693766, 0.018848663, -0.007612105, -0.042076513, 0.022684172, 0.0018292503, -0.122891866, -0.034991268, 0.014750816, -0.034551073, -0.108684376, -0.07161978, -0.051239602, 0.0067731063, ...]   \n",
       "\n",
       "                                                                                                                                                                                                                                                                                                                                                                                                                                                                                                                                                                                                                                                                                                                                                                                                                                                                                                                                                                                                                                                                                                                                                                                                                                                                                                                                                                                                                                                                                                                                                                                                                                                                                                                                                                                                                                                                                                                                                                                                                                                                                                                               listing  \\\n",
       "0  - Neighborhood: 250 Waterfront St, Marina District\\n- Price: $895,000\\n- Bedrooms: 2\\n- Bathrooms: 2\\n- House Size: 1,100 sqft\\n- Description: Immerse yourself in the heart of vibrancy and comfort with this stylish modern condo designed for young professionals. The open-plan living space is bathed in natural light from floor-to-ceiling windows that offer enchanting cityscape views. High-end finishes are evident throughout the kitchen that boasts stainless steel appliances, sleek cabinetry, and a chic breakfast bar perfect for on-the-go mornings or intimate dinners. Both bedrooms serve as private havens with ample closet space and plush carpeting underfoot.\\n \\n   Indulge in the luxury of en-suite bathrooms featuring contemporary fixtures and fine tile work that add to the elegance of urban living. As an added convenience, an in-unit washer and dryer set simplifies laundry days.\\n\\n   This home is more than just its interior; it includes access to top-tier building amenities such as a rooftop terrace with panoramic views, state-of-the-art fitness center, residents' lounge for entertaining guests, secured parking structure, and attentive concierge services enhancing daily life.\\n\\n- Neighborhood Description: Located in the sought-after Marina Districts area often frequented by thriving professionals. The neighborhood pulses with cosmopolitan energy yet retains a relaxed atmosphere conducive to networking and unwinding alike. Within walking distance are gourmet restaurants offering international cuisines, boutique shops for fashion-forward finds along scenic promenades lined with public art installations reflective of local creativity.\\n\\n    Outdoor enthusiasts will appreciate proximity to parks where jogging trails meander alongside waterfront vistas—a tranquil escape from busy schedules. Cultural institutions like theatres hosting premiere performances contribute to rich experiences just steps away from your front door while reliable public transit connects you effortlessly across the city's diverse neighborhoods.\\n   \n",
       "1                                                                                                                                                                                                                                                                                                                                                                                                                                                                                                                                                                                                                                                                                                                                                                                                                                                                                                                                                        - Neighborhood: 352 Parkview Terrace, Austin\\n- Price: $425,000\\n- Bedrooms: 2\\n- Bathrooms: 2\\n- House Size: 1,200 sqft\\n- Description: This sleek and modern condo offers the perfect blend of style and convenience for the young professional. Featuring state-of-the-art appliances, hardwood flooring throughout, an open-concept living space with large windows that flood the area with natural light. The master suite includes a walk-in closet and a pristine en-suite bathroom. Additional amenities include in-unit laundry facilities and private balcony with breathtaking city views.\\n                     \\n- Neighborhood Description: Situated in the heart of Austin's vibrant scene, Parkview Terrace is an ideal spot for those looking to be at arm’s reach from bustling cafes, hip restaurants & bars, boutique shopping options as well as premier entertainment venues. The neighborhood boasts easy access to public transportation facilitating commutes. It is also known for its safety measures and pet-friendly parks which just adds another layer of allure to this dynamic community perfect for social but career-focused individuals.   \n",
       "2                                                                                                                                                                                                                                                                                                                                                                                                                                                                                                                                                                                                                                                                                                                                                                                                                                                                                                                                                                                                                                                                                                                                                                                                                                                                 - Neighborhood: 255 Upstart Lane, Silicon Valley\\n- Price: $1,200,000\\n- Bedrooms: 3\\n- Bathrooms: 2\\n- House Size: 1800 sqft\\n- Description: This modern and sleek single-family home offers an open floor plan with high-end finishes throughout. The kitchen boasts stainless steel appliances and a large island perfect for entertaining. Hardwood floors lead you through the light-filled living space to a cozy backyard oasis. Equipped with smart home features and energy-efficient windows.\\n- Neighborhood Description: Situated in the heart of Silicon Valley, this neighborhood is vibrant and full of life, catering to young professionals keen on innovation and convenience. Just steps away from tech headquarters, dynamic start-ups, upscale dining options, boutique coffee shops, and lush parks ideal for weekend picnics or morning jogs.   \n",
       "3                                                                                                                                                                                                                                                                                                                                                                                                                                                                                                                                                                                                                                                                                                                                                                                                                                                                                                                                                                                      - Neighborhood: 350 Bayswater Ave, San Francisco\\n- Price: $1,500,000\\n- Bedrooms: 2\\n- Bathrooms: 2 \\n- House Size: 1,200 sqft\\n- Description: A sleek and modern two-bedroom condominium perfect for young professionals seeking style and convenience in the heart of San Francisco. This recently renovated unit features an open floor plan with high-end finishes, a state-of-the-art kitchen equipped with stainless steel appliances, gleaming hardwood floors throughout, and large windows that flood the space with natural light. The master suite offers a private retreat complete with ample closet space and a spa-like bathroom.\\n- Neighborhood Description: Positioned in the vibrant neighborhood of Bayswater Avenue within walking distance to tech shuttles, this area is known for its trendy cafes, boutique shops, and pulsating nightlife. Commuters will appreciate proximity to public transit as well as quick access to major freeways. The community also boasts serene parks and waterfront walks which provide quiet escapes from the urban bustle for those after-work unwind moments or weekend adventures.   \n",
       "4                                                                                                                                                                                                                                                                                                                                                                                                                                                                                                                                                                                                                                                                                                                                                                                                                                                                                                                                                     - Neighborhood: The Metropolitan Lofts, 115 Cityscape Terrace, Downtown District\\n- Price: $459,000\\n- Bedrooms: 2\\n- Bathrooms: 2\\n- House Size: 1,100 sqft\\n- Description: This modern loft boasts an open floor plan with high ceilings and large windows that bathe the space in natural light. The contemporary kitchen features stainless steel appliances and a sleek breakfast bar perfect for casual dining. Hardwood floors run throughout the living areas into two spacious bedrooms with ample closet space. State-of-the-art smart home technology is installed for added convenience and security.\\n  \\n - Neighborhood Description:\\nThe Metropolitan Lofts are situated at the heart of the downtown area, offering young professionals an energetic lifestyle coupled with comfort. Within walking distance to dynamic startups, posh restaurants, cultural hotspots like art galleries and theaters as well as local farmers' markets on weekends - this neighborhood thrives on its diverse community atmosphere. With easy access to public transportation and biking lanes it's also perfect for eco-conscious residents leading a car-free lifestyle.\\n\\n   \n",
       "\n",
       "  group  \n",
       "0     0  \n",
       "1     0  \n",
       "2     0  \n",
       "3     0  \n",
       "4     0  "
      ]
     },
     "execution_count": 65,
     "metadata": {},
     "output_type": "execute_result"
    }
   ],
   "source": [
    "table.add(df_embedded.to_dict('records'))\n",
    "table.head().to_pandas()"
   ]
  },
  {
   "cell_type": "markdown",
   "id": "e959ec74",
   "metadata": {},
   "source": [
    "### Building the User Preference Interface"
   ]
  },
  {
   "cell_type": "code",
   "execution_count": 2,
   "id": "ab525cba",
   "metadata": {},
   "outputs": [
    {
     "name": "stderr",
     "output_type": "stream",
     "text": [
      "/lhome/yuwewan/anaconda3/envs/py310/lib/python3.10/site-packages/tqdm/auto.py:21: TqdmWarning: IProgress not found. Please update jupyter and ipywidgets. See https://ipywidgets.readthedocs.io/en/stable/user_install.html\n",
      "  from .autonotebook import tqdm as notebook_tqdm\n"
     ]
    }
   ],
   "source": [
    "import lancedb\n",
    "\n",
    "db = lancedb.connect(\"./lancedb\")\n",
    "table_name = \"real_estate_listings\"\n",
    "table = db.open_table(table_name)\n",
    "df = table.to_pandas()"
   ]
  },
  {
   "cell_type": "code",
   "execution_count": 3,
   "id": "b5c9d910",
   "metadata": {},
   "outputs": [],
   "source": [
    "questions = [   \n",
    "                \"How big do you want your house to be?\" \n",
    "                \"What are 3 most important things for you in choosing this property?\", \n",
    "                \"Which amenities would you like?\", \n",
    "                \"Which transportation options are important to you?\",\n",
    "                \"How urban do you want your neighborhood to be?\",   \n",
    "            ]\n",
    "answers = [\n",
    "            \"A comfortable three-bedroom house with a spacious kitchen and a cozy living room.\",\n",
    "            \"A quiet neighborhood, good local schools, and convenient shopping options.\",\n",
    "            \"A backyard for gardening, a two-car garage, and a modern, energy-efficient heating system.\",\n",
    "            \"Easy access to a reliable bus line, proximity to a major highway, and bike-friendly roads.\",\n",
    "            \"A balance between suburban tranquility and access to urban amenities like restaurants and theaters.\"\n",
    "        ]"
   ]
  },
  {
   "cell_type": "code",
   "execution_count": 4,
   "id": "8d3725ae",
   "metadata": {},
   "outputs": [],
   "source": [
    "\n",
    "# build an User Portrait embedding could improve the performance\n",
    "user_prompt_preference = lambda text: f\"\"\"Task: extract user preference based on question and answer : {text}.\"\"\"\n",
    "system_prompt_preference = \"\"\"\n",
    "                        You generate texts about a potential buyer's preference focusing on factors: address, price, number of bedrooms, number of bathrooms, size in sqft, general property information and neighborhood environment.\n",
    "                    \"\"\"\n",
    "def preference_parser(text):\n",
    "    try:\n",
    "        client = OpenAI(\n",
    "            api_key=os.getenv(\"OPENAI_API_KEY\"),\n",
    "            # I have chosen to use local model host, as OpenAI has recently closed the 5$ api key bonus\n",
    "            # the model supports same api format as openai does\n",
    "            base_url=\"http://localhost:8080\"\n",
    "        )\n",
    "        response = client.chat.completions.create(\n",
    "            model=\"gpt4-turbo\",\n",
    "            # model='gpt-4'\n",
    "            messages=[\n",
    "                {\n",
    "                    \"role\": \"system\",\n",
    "                    \"content\": system_prompt_preference,\n",
    "                },\n",
    "                {\n",
    "                    \"role\": \"user\",\n",
    "                    \"content\": user_prompt_preference(text),\n",
    "                },\n",
    "            ],\n",
    "            temperature=1,\n",
    "            max_tokens=256,\n",
    "            top_p=1,\n",
    "            frequency_penalty=0,\n",
    "            presence_penalty=0\n",
    "        )\n",
    "        return response.choices[0].message.content\n",
    "    except Exception as e:\n",
    "        return f\"An error occurred: {e}\""
   ]
  },
  {
   "cell_type": "code",
   "execution_count": 5,
   "id": "d5521f37",
   "metadata": {},
   "outputs": [
    {
     "data": {
      "text/plain": [
       "\"An error occurred: name 'OpenAI' is not defined\""
      ]
     },
     "execution_count": 5,
     "metadata": {},
     "output_type": "execute_result"
    }
   ],
   "source": [
    "QA=\"\"\n",
    "for i in range(len(questions)):\n",
    "    QA = questions[i]+\" \"+answers[i]+\" \"\n",
    "preference_text = preference_parser(QA)\n",
    "preference_text"
   ]
  },
  {
   "cell_type": "markdown",
   "id": "8819a1f3",
   "metadata": {},
   "source": [
    "### Searching Based on Preferences"
   ]
  },
  {
   "cell_type": "code",
   "execution_count": 6,
   "id": "000b8695",
   "metadata": {},
   "outputs": [],
   "source": [
    "from openai import OpenAI\n",
    "from dotenv import load_dotenv\n",
    "load_dotenv()\n",
    "import os\n",
    "import pandas as pd\n",
    "\n",
    "EMBEDDING_MODEL_NAME = \"text-embedding-ada-002\"\n",
    "client = OpenAI(\n",
    "    api_key=os.getenv(\"OPENAI_API_KEY\"),\n",
    "    # I have chosen to use local model host, as OpenAI has recently closed the 5$ api key bonus\n",
    "    # the model supports same api format as openai does\n",
    "    base_url=\"http://localhost:8080\"\n",
    ")\n",
    "def embed_func(c):    \n",
    "    response = client.embeddings.create(input=c, model=EMBEDDING_MODEL_NAME)\n",
    "    return [data.embedding for data in response.data]"
   ]
  },
  {
   "cell_type": "code",
   "execution_count": 7,
   "id": "912f30e0",
   "metadata": {},
   "outputs": [
    {
     "data": {
      "text/html": [
       "<div>\n",
       "<style scoped>\n",
       "    .dataframe tbody tr th:only-of-type {\n",
       "        vertical-align: middle;\n",
       "    }\n",
       "\n",
       "    .dataframe tbody tr th {\n",
       "        vertical-align: top;\n",
       "    }\n",
       "\n",
       "    .dataframe thead th {\n",
       "        text-align: right;\n",
       "    }\n",
       "</style>\n",
       "<table border=\"1\" class=\"dataframe\">\n",
       "  <thead>\n",
       "    <tr style=\"text-align: right;\">\n",
       "      <th></th>\n",
       "      <th>vector</th>\n",
       "      <th>listing</th>\n",
       "      <th>group</th>\n",
       "      <th>_distance</th>\n",
       "    </tr>\n",
       "  </thead>\n",
       "  <tbody>\n",
       "    <tr>\n",
       "      <th>0</th>\n",
       "      <td>[0.08713895, 0.038796484, 0.047830056, 0.052215934, -0.014083989, 0.03542631, -0.04411613, 0.0022076163, -0.010448868, -0.04087193, 0.001308291, -0.050715018, -0.012174658, -0.0057731927, 0.01754327, 0.01845808, 0.1252117, -0.008980836, 0.05134285, 0.02676107, -0.06362143, -0.001512009, 0.068536684, -0.017498085, 0.031181201, 0.11969546, 0.023040814, 0.022712003, 0.004667142, -0.02954358, 0.09870199, 0.05493239, 0.07447989, -0.10149825, 0.08293515, -0.006031372, 0.036697708, -0.058060613, -0.041509427, -0.011703176, 0.020243712, -0.017395707, -0.029418288, -0.016776137, -0.02711659, -0.01846062, -0.01603048, 0.04136155, 0.11701129, -0.07613034, -0.0029757642, 0.06879449, -0.03261393, -0.042755965, -0.012785296, 0.086726956, -0.054810323, -0.0049458756, 0.022028625, 0.019107394, 0.08207081, -0.006592942, -0.029744634, 0.03707265, 0.0326394, -0.010486727, -0.09435591, -0.013500474, 0.02918679, -0.100924365, -0.044241626, 0.003398833, 0.044511892, -0.06763735, 0.023078617, 0.032940812, 0.046177346, -0.0255212, -0.01016633, -0.012427113, 0.00726572, -0.0123684965, -0.02826496, 0.021709913, -0.0023056536, -0.0016049393, 0.0016169642, 0.003967971, 0.019878417, -0.021827564, -0.03629763, 0.02170995, -0.087663144, -0.07780313, 0.001745215, 0.002872307, -0.08114177, -0.0732963, -0.06207685, 0.008155421, ...]</td>\n",
       "      <td>- Neighborhood: 152 Pleasant View Ave, Sunrise City\\n- Price: $99,000\\n- Bedrooms: 3\\n- Bathrooms: 1\\n- House Size: 950 sqft\\n- Description: This charming, cozy single-family home offers a comfortable living space at an affordable price. Recently renovated with new laminate flooring and fresh paint throughout, it features a compact kitchen equipped with modern appliances, energy-efficient windows for reduced utility bills, and a quaint living room perfect for family gatherings.\\n- Neighborhood Description: The community is known for its friendly residents and communal spirit. Sunrise City boasts several well-maintained parks within walking distance, quality schools that cater to low-income families on a budget without compromising education standards, and convenient public transportation options connecting you to local amenities such as markets and healthcare centers.</td>\n",
       "      <td>9</td>\n",
       "      <td>0.842045</td>\n",
       "    </tr>\n",
       "    <tr>\n",
       "      <th>1</th>\n",
       "      <td>[0.08608704, 0.03202741, 0.10670512, 0.10137339, -0.013084327, -0.054547552, -0.013243855, -0.0069567272, -0.031756483, -0.05050679, 0.07241346, -0.029815909, 0.007838759, 0.031782933, 0.023930902, 0.042833038, 0.16149941, -0.023912005, 0.00084577536, -0.0075112996, -0.07945585, -0.017852712, 0.039899, -0.022898262, 0.029718846, 0.06846278, 0.020092448, 0.041926835, -0.0067645567, 0.007843174, 0.06793542, 0.053957164, 0.048671294, -0.051937267, 0.07825692, 0.03368713, 0.038351443, 0.024120718, -0.026145758, 0.0072084954, -0.026212208, -0.044998564, -0.033473793, -0.012233929, -0.032283228, -0.057822865, 0.023324125, -0.007664554, 0.06033601, -0.08405758, 0.05033287, 0.07562917, -0.012169503, 0.007897766, -0.0548601, 0.06575859, -0.062758245, -0.0064699654, 0.013022333, -0.018186178, 0.006578425, 0.023323834, -0.09785793, 0.018433742, 0.004095852, 0.0042047235, -0.042557567, 0.03989814, -0.02876519, -0.06678433, -0.01588088, -0.0061888653, 0.013901859, 0.019446526, 0.100002035, 0.042393662, 0.028936327, 0.041180212, 0.042208757, 0.04292214, 0.04371958, -0.060528375, -0.08983757, 0.024136234, -0.058533948, 0.0046317005, -0.044300687, 0.033241365, 0.03325294, -0.031610884, -0.08057369, 0.0067561707, -0.05536003, -0.06381253, 0.023792114, 0.002687592, -0.077892944, -0.10793557, -0.009334658, 0.04273953, ...]</td>\n",
       "      <td>- Neighborhood: 1525 Affordable Lane, Opportunity City\\n- Price: $120,000\\n- Bedrooms: 3\\n- Bathrooms: 1.5\\n- House Size: 1,100 sqft\\n- Description: An attractive and budget-friendly single-family home awaits you in the heart of Opportunity City. This cozy residence offers three well-proportioned bedrooms, a convenient half bath for guests and a full bath featuring modern fittings. The kitchen is equipped with energy-efficient appliances backing onto a spacious living area perfect for family gatherings. Freshly painted walls and new laminate flooring throughout ensure this home is move-in ready.\\n- Neighborhood Description: The ambitiously named neighborhood of 'Opportunity City' lives up to its moniker by providing an array of community services accessible to all residents. Local schools have robust after-school programs designed to empower young minds while green spaces are abundant—perfect for outdoor activities and fostering neighborly engagement. Public transportation options are plentiful here making commutes or travel remarkably easy on household budgets while ensuring connectivity across town.\\n</td>\n",
       "      <td>9</td>\n",
       "      <td>0.845306</td>\n",
       "    </tr>\n",
       "    <tr>\n",
       "      <th>2</th>\n",
       "      <td>[0.08038079, -0.010524509, -0.017948963, 0.050238676, -0.053506814, -0.038794782, -0.040103685, -0.033868954, -0.017872056, -0.0019937952, 0.042092394, -0.10561425, 8.8845096e-05, 0.0010899191, 0.09912793, -0.013433776, 0.15851018, -0.044339634, 0.022321418, 0.00065088173, -0.07431254, -0.008196961, 0.012479267, 0.0058564194, 0.00991431, 0.06906403, 0.005486415, 0.00037159998, -0.03411038, -0.02016561, -0.027302297, 0.08257269, 0.022288479, -0.016879607, 0.046686757, 0.014888773, 0.026984401, -0.014184911, -0.033969864, -0.030003894, -0.015493168, -0.040415145, 0.025631903, 0.008998573, -0.02487758, -0.013342611, -0.05644997, 0.040408388, 0.06304526, -0.04435694, -0.06010524, 0.06658308, 0.02950672, 0.06419744, -0.08276446, 0.01890383, 0.055795677, -0.009991913, 0.008336716, 0.0014503835, 0.12911615, 0.002602428, -0.020394588, 0.060095433, 0.032736458, -0.007989483, -0.059164625, 0.0021915596, 0.060835395, -0.11638974, -0.065364085, -0.04584819, 0.045746405, -0.045193445, 0.018315323, 0.009757089, 0.012671972, -0.07151628, 0.030611241, 0.012922383, 0.049987573, 0.006185381, -0.02871339, 0.07552171, -0.021726454, -0.0009720183, -0.004617792, 0.029269965, 0.058168955, -0.06762111, 0.005744152, 0.04781505, -0.127164, -0.019225426, -0.026936222, -0.05281192, 0.0018963796, -0.016707446, -0.044494554, 0.01249548, ...]</td>\n",
       "      <td>- Neighborhood: 1520 Wanderlust Way, Digitalia City\\n- Price: $350,000\\n- Bedrooms: 2\\n- Bathrooms: 2\\n- House Size: 1,200 sqft\\n- Description: A modern sanctuary that caters to the lifestyle of digital nomads and remote workers. This property boasts a contemporary design with open-plan living spaces bathed in natural light. It features state-of-the-art connectivity and office amenities including high-speed internet and ergonomic workstations. The kitchen is fully equipped for all culinary adventures, paired with energy-efficient appliances. Both bedrooms are serene retreats designed for relaxation, each having ample storage space.\\nThe home is fitted with smart controls for lighting, temperature and security to ensure both convenience and peace of mind. Large windows frame inspiring views of the urban landscape while also inviting you out onto your private balcony - perfect for those moments when you need a breath of fresh air without stepping away from your work.\\nAn on-site gym facility further enhances productivity by keeping health routines within reach.\\n\\n- Neighborhood Description: Nestled in the heart of vibrant Digitalia City known for its tech-friendly community and co-working hubs.The neighborhood offers an array of cafes transformed into shared workspaces during daytimes offering special deals to local residents.Uninterrupted pedestrian pathways make biking or walking an utter joy.Enjoy stress-free commutes as this hub provides seamless public transportation links throughout city while maintaining quiet tranquility in evenings allowing easy disconnection upon desire.Endless networking opportunities present themselves here through various social events focused toward enriching both professional life personal growth making it ideal ecosystem thriving digital nomad or dedicated remote worker looking build connections right outside their front door.</td>\n",
       "      <td>10</td>\n",
       "      <td>0.848122</td>\n",
       "    </tr>\n",
       "  </tbody>\n",
       "</table>\n",
       "</div>"
      ],
      "text/plain": [
       "                                                                                                                                                                                                                                                                                                                                                                                                                                                                                                                                                                                                                                                                                                                                                                                                                                                                                                                                                                                                                                                                                                                                                                                                                                                                                                                                                                                  vector  \\\n",
       "0               [0.08713895, 0.038796484, 0.047830056, 0.052215934, -0.014083989, 0.03542631, -0.04411613, 0.0022076163, -0.010448868, -0.04087193, 0.001308291, -0.050715018, -0.012174658, -0.0057731927, 0.01754327, 0.01845808, 0.1252117, -0.008980836, 0.05134285, 0.02676107, -0.06362143, -0.001512009, 0.068536684, -0.017498085, 0.031181201, 0.11969546, 0.023040814, 0.022712003, 0.004667142, -0.02954358, 0.09870199, 0.05493239, 0.07447989, -0.10149825, 0.08293515, -0.006031372, 0.036697708, -0.058060613, -0.041509427, -0.011703176, 0.020243712, -0.017395707, -0.029418288, -0.016776137, -0.02711659, -0.01846062, -0.01603048, 0.04136155, 0.11701129, -0.07613034, -0.0029757642, 0.06879449, -0.03261393, -0.042755965, -0.012785296, 0.086726956, -0.054810323, -0.0049458756, 0.022028625, 0.019107394, 0.08207081, -0.006592942, -0.029744634, 0.03707265, 0.0326394, -0.010486727, -0.09435591, -0.013500474, 0.02918679, -0.100924365, -0.044241626, 0.003398833, 0.044511892, -0.06763735, 0.023078617, 0.032940812, 0.046177346, -0.0255212, -0.01016633, -0.012427113, 0.00726572, -0.0123684965, -0.02826496, 0.021709913, -0.0023056536, -0.0016049393, 0.0016169642, 0.003967971, 0.019878417, -0.021827564, -0.03629763, 0.02170995, -0.087663144, -0.07780313, 0.001745215, 0.002872307, -0.08114177, -0.0732963, -0.06207685, 0.008155421, ...]   \n",
       "1          [0.08608704, 0.03202741, 0.10670512, 0.10137339, -0.013084327, -0.054547552, -0.013243855, -0.0069567272, -0.031756483, -0.05050679, 0.07241346, -0.029815909, 0.007838759, 0.031782933, 0.023930902, 0.042833038, 0.16149941, -0.023912005, 0.00084577536, -0.0075112996, -0.07945585, -0.017852712, 0.039899, -0.022898262, 0.029718846, 0.06846278, 0.020092448, 0.041926835, -0.0067645567, 0.007843174, 0.06793542, 0.053957164, 0.048671294, -0.051937267, 0.07825692, 0.03368713, 0.038351443, 0.024120718, -0.026145758, 0.0072084954, -0.026212208, -0.044998564, -0.033473793, -0.012233929, -0.032283228, -0.057822865, 0.023324125, -0.007664554, 0.06033601, -0.08405758, 0.05033287, 0.07562917, -0.012169503, 0.007897766, -0.0548601, 0.06575859, -0.062758245, -0.0064699654, 0.013022333, -0.018186178, 0.006578425, 0.023323834, -0.09785793, 0.018433742, 0.004095852, 0.0042047235, -0.042557567, 0.03989814, -0.02876519, -0.06678433, -0.01588088, -0.0061888653, 0.013901859, 0.019446526, 0.100002035, 0.042393662, 0.028936327, 0.041180212, 0.042208757, 0.04292214, 0.04371958, -0.060528375, -0.08983757, 0.024136234, -0.058533948, 0.0046317005, -0.044300687, 0.033241365, 0.03325294, -0.031610884, -0.08057369, 0.0067561707, -0.05536003, -0.06381253, 0.023792114, 0.002687592, -0.077892944, -0.10793557, -0.009334658, 0.04273953, ...]   \n",
       "2  [0.08038079, -0.010524509, -0.017948963, 0.050238676, -0.053506814, -0.038794782, -0.040103685, -0.033868954, -0.017872056, -0.0019937952, 0.042092394, -0.10561425, 8.8845096e-05, 0.0010899191, 0.09912793, -0.013433776, 0.15851018, -0.044339634, 0.022321418, 0.00065088173, -0.07431254, -0.008196961, 0.012479267, 0.0058564194, 0.00991431, 0.06906403, 0.005486415, 0.00037159998, -0.03411038, -0.02016561, -0.027302297, 0.08257269, 0.022288479, -0.016879607, 0.046686757, 0.014888773, 0.026984401, -0.014184911, -0.033969864, -0.030003894, -0.015493168, -0.040415145, 0.025631903, 0.008998573, -0.02487758, -0.013342611, -0.05644997, 0.040408388, 0.06304526, -0.04435694, -0.06010524, 0.06658308, 0.02950672, 0.06419744, -0.08276446, 0.01890383, 0.055795677, -0.009991913, 0.008336716, 0.0014503835, 0.12911615, 0.002602428, -0.020394588, 0.060095433, 0.032736458, -0.007989483, -0.059164625, 0.0021915596, 0.060835395, -0.11638974, -0.065364085, -0.04584819, 0.045746405, -0.045193445, 0.018315323, 0.009757089, 0.012671972, -0.07151628, 0.030611241, 0.012922383, 0.049987573, 0.006185381, -0.02871339, 0.07552171, -0.021726454, -0.0009720183, -0.004617792, 0.029269965, 0.058168955, -0.06762111, 0.005744152, 0.04781505, -0.127164, -0.019225426, -0.026936222, -0.05281192, 0.0018963796, -0.016707446, -0.044494554, 0.01249548, ...]   \n",
       "\n",
       "                                                                                                                                                                                                                                                                                                                                                                                                                                                                                                                                                                                                                                                                                                                                                                                                                                                                                                                                                                                                                                                                                                                                                                                                                                                                                                                                                                                                                                                                                                                                                                                                                                                                                                                                                                                                                                                                                                                                                              listing  \\\n",
       "0                                                                                                                                                                                                                                                                                                                                                                                                                                                                                                                                                                                                                                                                                                                                                                                                                                                                                                                                                                                                                                                    - Neighborhood: 152 Pleasant View Ave, Sunrise City\\n- Price: $99,000\\n- Bedrooms: 3\\n- Bathrooms: 1\\n- House Size: 950 sqft\\n- Description: This charming, cozy single-family home offers a comfortable living space at an affordable price. Recently renovated with new laminate flooring and fresh paint throughout, it features a compact kitchen equipped with modern appliances, energy-efficient windows for reduced utility bills, and a quaint living room perfect for family gatherings.\\n- Neighborhood Description: The community is known for its friendly residents and communal spirit. Sunrise City boasts several well-maintained parks within walking distance, quality schools that cater to low-income families on a budget without compromising education standards, and convenient public transportation options connecting you to local amenities such as markets and healthcare centers.   \n",
       "1                                                                                                                                                                                                                                                                                                                                                                                                                                                                                                                                                                                                                                                                                                                                                                                                    - Neighborhood: 1525 Affordable Lane, Opportunity City\\n- Price: $120,000\\n- Bedrooms: 3\\n- Bathrooms: 1.5\\n- House Size: 1,100 sqft\\n- Description: An attractive and budget-friendly single-family home awaits you in the heart of Opportunity City. This cozy residence offers three well-proportioned bedrooms, a convenient half bath for guests and a full bath featuring modern fittings. The kitchen is equipped with energy-efficient appliances backing onto a spacious living area perfect for family gatherings. Freshly painted walls and new laminate flooring throughout ensure this home is move-in ready.\\n- Neighborhood Description: The ambitiously named neighborhood of 'Opportunity City' lives up to its moniker by providing an array of community services accessible to all residents. Local schools have robust after-school programs designed to empower young minds while green spaces are abundant—perfect for outdoor activities and fostering neighborly engagement. Public transportation options are plentiful here making commutes or travel remarkably easy on household budgets while ensuring connectivity across town.\\n   \n",
       "2  - Neighborhood: 1520 Wanderlust Way, Digitalia City\\n- Price: $350,000\\n- Bedrooms: 2\\n- Bathrooms: 2\\n- House Size: 1,200 sqft\\n- Description: A modern sanctuary that caters to the lifestyle of digital nomads and remote workers. This property boasts a contemporary design with open-plan living spaces bathed in natural light. It features state-of-the-art connectivity and office amenities including high-speed internet and ergonomic workstations. The kitchen is fully equipped for all culinary adventures, paired with energy-efficient appliances. Both bedrooms are serene retreats designed for relaxation, each having ample storage space.\\nThe home is fitted with smart controls for lighting, temperature and security to ensure both convenience and peace of mind. Large windows frame inspiring views of the urban landscape while also inviting you out onto your private balcony - perfect for those moments when you need a breath of fresh air without stepping away from your work.\\nAn on-site gym facility further enhances productivity by keeping health routines within reach.\\n\\n- Neighborhood Description: Nestled in the heart of vibrant Digitalia City known for its tech-friendly community and co-working hubs.The neighborhood offers an array of cafes transformed into shared workspaces during daytimes offering special deals to local residents.Uninterrupted pedestrian pathways make biking or walking an utter joy.Enjoy stress-free commutes as this hub provides seamless public transportation links throughout city while maintaining quiet tranquility in evenings allowing easy disconnection upon desire.Endless networking opportunities present themselves here through various social events focused toward enriching both professional life personal growth making it ideal ecosystem thriving digital nomad or dedicated remote worker looking build connections right outside their front door.   \n",
       "\n",
       "  group  _distance  \n",
       "0     9   0.842045  \n",
       "1     9   0.845306  \n",
       "2    10   0.848122  "
      ]
     },
     "execution_count": 7,
     "metadata": {},
     "output_type": "execute_result"
    }
   ],
   "source": [
    "preference_embedded = embed_func(preference_text)[0]\n",
    "df_matched = table.search(preference_embedded).metric(\"cosine\").limit(3).to_pandas()\n",
    "pd.set_option(\"display.max_colwidth\", None)\n",
    "df_matched"
   ]
  },
  {
   "cell_type": "markdown",
   "id": "58bb9b74",
   "metadata": {},
   "source": [
    "### Personalizing Listing Descriptions"
   ]
  },
  {
   "cell_type": "code",
   "execution_count": 8,
   "id": "0e0b8b8a",
   "metadata": {},
   "outputs": [
    {
     "name": "stdout",
     "output_type": "stream",
     "text": [
      "env: CMAKE_ARGS=\"-DLLAMA_METAL=on\"\n",
      "env: FORCE_CMAKE=1\n"
     ]
    }
   ],
   "source": [
    "\n",
    "%env CMAKE_ARGS=\"-DLLAMA_METAL=on\"\n",
    "%env FORCE_CMAKE=1"
   ]
  },
  {
   "cell_type": "code",
   "execution_count": 9,
   "id": "a64e50ce",
   "metadata": {},
   "outputs": [
    {
     "name": "stderr",
     "output_type": "stream",
     "text": [
      "llama_model_loader: loaded meta data with 22 key-value pairs and 363 tensors from /lhome/yuwewan/workspace/NV_Contest/toxicqa-llama2-13b.Q4_0.gguf (version GGUF V3 (latest))\n",
      "llama_model_loader: Dumping metadata keys/values. Note: KV overrides do not apply in this output.\n",
      "llama_model_loader: - kv   0:                       general.architecture str              = llama\n",
      "llama_model_loader: - kv   1:                               general.name str              = LLaMA v2\n",
      "llama_model_loader: - kv   2:                       llama.context_length u32              = 4096\n",
      "llama_model_loader: - kv   3:                     llama.embedding_length u32              = 5120\n",
      "llama_model_loader: - kv   4:                          llama.block_count u32              = 40\n",
      "llama_model_loader: - kv   5:                  llama.feed_forward_length u32              = 13824\n",
      "llama_model_loader: - kv   6:                 llama.rope.dimension_count u32              = 128\n",
      "llama_model_loader: - kv   7:                 llama.attention.head_count u32              = 40\n",
      "llama_model_loader: - kv   8:              llama.attention.head_count_kv u32              = 40\n",
      "llama_model_loader: - kv   9:     llama.attention.layer_norm_rms_epsilon f32              = 0.000010\n",
      "llama_model_loader: - kv  10:                       llama.rope.freq_base f32              = 10000.000000\n",
      "llama_model_loader: - kv  11:                          general.file_type u32              = 2\n",
      "llama_model_loader: - kv  12:                       tokenizer.ggml.model str              = llama\n",
      "llama_model_loader: - kv  13:                      tokenizer.ggml.tokens arr[str,32000]   = [\"<unk>\", \"<s>\", \"</s>\", \"<0x00>\", \"<...\n",
      "llama_model_loader: - kv  14:                      tokenizer.ggml.scores arr[f32,32000]   = [0.000000, 0.000000, 0.000000, 0.0000...\n",
      "llama_model_loader: - kv  15:                  tokenizer.ggml.token_type arr[i32,32000]   = [2, 3, 3, 6, 6, 6, 6, 6, 6, 6, 6, 6, ...\n",
      "llama_model_loader: - kv  16:                tokenizer.ggml.bos_token_id u32              = 1\n",
      "llama_model_loader: - kv  17:                tokenizer.ggml.eos_token_id u32              = 2\n",
      "llama_model_loader: - kv  18:            tokenizer.ggml.padding_token_id u32              = 0\n",
      "llama_model_loader: - kv  19:               tokenizer.ggml.add_bos_token bool             = true\n",
      "llama_model_loader: - kv  20:               tokenizer.ggml.add_eos_token bool             = false\n",
      "llama_model_loader: - kv  21:               general.quantization_version u32              = 2\n",
      "llama_model_loader: - type  f32:   81 tensors\n",
      "llama_model_loader: - type q4_0:  281 tensors\n",
      "llama_model_loader: - type q6_K:    1 tensors\n",
      "llm_load_vocab: special tokens cache size = 259\n",
      "llm_load_vocab: token to piece cache size = 0.1684 MB\n",
      "llm_load_print_meta: format           = GGUF V3 (latest)\n",
      "llm_load_print_meta: arch             = llama\n",
      "llm_load_print_meta: vocab type       = SPM\n",
      "llm_load_print_meta: n_vocab          = 32000\n",
      "llm_load_print_meta: n_merges         = 0\n",
      "llm_load_print_meta: n_ctx_train      = 4096\n",
      "llm_load_print_meta: n_embd           = 5120\n",
      "llm_load_print_meta: n_head           = 40\n",
      "llm_load_print_meta: n_head_kv        = 40\n",
      "llm_load_print_meta: n_layer          = 40\n",
      "llm_load_print_meta: n_rot            = 128\n",
      "llm_load_print_meta: n_embd_head_k    = 128\n",
      "llm_load_print_meta: n_embd_head_v    = 128\n",
      "llm_load_print_meta: n_gqa            = 1\n",
      "llm_load_print_meta: n_embd_k_gqa     = 5120\n",
      "llm_load_print_meta: n_embd_v_gqa     = 5120\n",
      "llm_load_print_meta: f_norm_eps       = 0.0e+00\n",
      "llm_load_print_meta: f_norm_rms_eps   = 1.0e-05\n",
      "llm_load_print_meta: f_clamp_kqv      = 0.0e+00\n",
      "llm_load_print_meta: f_max_alibi_bias = 0.0e+00\n",
      "llm_load_print_meta: f_logit_scale    = 0.0e+00\n",
      "llm_load_print_meta: n_ff             = 13824\n",
      "llm_load_print_meta: n_expert         = 0\n",
      "llm_load_print_meta: n_expert_used    = 0\n",
      "llm_load_print_meta: causal attn      = 1\n",
      "llm_load_print_meta: pooling type     = 0\n",
      "llm_load_print_meta: rope type        = 0\n",
      "llm_load_print_meta: rope scaling     = linear\n",
      "llm_load_print_meta: freq_base_train  = 10000.0\n",
      "llm_load_print_meta: freq_scale_train = 1\n",
      "llm_load_print_meta: n_ctx_orig_yarn  = 4096\n",
      "llm_load_print_meta: rope_finetuned   = unknown\n",
      "llm_load_print_meta: ssm_d_conv       = 0\n",
      "llm_load_print_meta: ssm_d_inner      = 0\n",
      "llm_load_print_meta: ssm_d_state      = 0\n",
      "llm_load_print_meta: ssm_dt_rank      = 0\n",
      "llm_load_print_meta: model type       = 13B\n",
      "llm_load_print_meta: model ftype      = Q4_0\n",
      "llm_load_print_meta: model params     = 13.02 B\n",
      "llm_load_print_meta: model size       = 6.86 GiB (4.53 BPW) \n",
      "llm_load_print_meta: general.name     = LLaMA v2\n",
      "llm_load_print_meta: BOS token        = 1 '<s>'\n",
      "llm_load_print_meta: EOS token        = 2 '</s>'\n",
      "llm_load_print_meta: UNK token        = 0 '<unk>'\n",
      "llm_load_print_meta: PAD token        = 0 '<unk>'\n",
      "llm_load_print_meta: LF token         = 13 '<0x0A>'\n",
      "llm_load_tensors: ggml ctx size =    0.18 MiB\n",
      "llm_load_tensors:        CPU buffer size =  7023.90 MiB\n",
      "...................................................................................................\n",
      "llama_new_context_with_model: n_ctx      = 2048\n",
      "llama_new_context_with_model: n_batch    = 512\n",
      "llama_new_context_with_model: n_ubatch   = 512\n",
      "llama_new_context_with_model: flash_attn = 0\n",
      "llama_new_context_with_model: freq_base  = 10000.0\n",
      "llama_new_context_with_model: freq_scale = 1\n",
      "llama_kv_cache_init:        CPU KV buffer size =  1600.00 MiB\n",
      "llama_new_context_with_model: KV self size  = 1600.00 MiB, K (f16):  800.00 MiB, V (f16):  800.00 MiB\n",
      "llama_new_context_with_model:        CPU  output buffer size =     0.12 MiB\n",
      "llama_new_context_with_model:        CPU compute buffer size =   204.01 MiB\n",
      "llama_new_context_with_model: graph nodes  = 1286\n",
      "llama_new_context_with_model: graph splits = 1\n",
      "AVX = 1 | AVX_VNNI = 0 | AVX2 = 1 | AVX512 = 1 | AVX512_VBMI = 0 | AVX512_VNNI = 0 | AVX512_BF16 = 0 | FMA = 1 | NEON = 0 | SVE = 0 | ARM_FMA = 0 | F16C = 1 | FP16_VA = 0 | WASM_SIMD = 0 | BLAS = 0 | SSE3 = 1 | SSSE3 = 1 | VSX = 0 | MATMUL_INT8 = 0 | LLAMAFILE = 1 | \n",
      "Model metadata: {'tokenizer.ggml.add_eos_token': 'false', 'tokenizer.ggml.padding_token_id': '0', 'tokenizer.ggml.eos_token_id': '2', 'general.architecture': 'llama', 'llama.rope.freq_base': '10000.000000', 'llama.context_length': '4096', 'general.name': 'LLaMA v2', 'tokenizer.ggml.add_bos_token': 'true', 'llama.embedding_length': '5120', 'llama.feed_forward_length': '13824', 'llama.attention.layer_norm_rms_epsilon': '0.000010', 'llama.rope.dimension_count': '128', 'tokenizer.ggml.bos_token_id': '1', 'llama.attention.head_count': '40', 'llama.block_count': '40', 'llama.attention.head_count_kv': '40', 'general.quantization_version': '2', 'tokenizer.ggml.model': 'llama', 'general.file_type': '2'}\n",
      "Using fallback chat format: llama-2\n"
     ]
    }
   ],
   "source": [
    "from langchain_community.llms import LlamaCpp\n",
    "\n",
    "n_gpu_layers = 1\n",
    "n_batch = 512 \n",
    "model_llama = LlamaCpp(\n",
    "    model_path=\"/lhome/yuwewan/workspace/NV_Contest/toxicqa-llama2-13b.Q4_0.gguf\",\n",
    "    n_gpu_layers=n_gpu_layers,\n",
    "    n_batch=n_batch,\n",
    "    n_ctx=2048,\n",
    "    f16_kv=True,\n",
    "    verbose=True,\n",
    ")"
   ]
  },
  {
   "cell_type": "code",
   "execution_count": 10,
   "id": "154c1fd8",
   "metadata": {},
   "outputs": [],
   "source": [
    "from langchain_openai import ChatOpenAI, AzureChatOpenAI\n",
    "\n",
    "base_url = \"http://localhost:8080/v1\"\n",
    "model = ChatOpenAI(\n",
    "    model=\"gpt4-turbo\", \n",
    "    openai_api_base=base_url,\n",
    "    temperature=0,\n",
    ")"
   ]
  },
  {
   "cell_type": "code",
   "execution_count": 11,
   "id": "3ea08c5b",
   "metadata": {},
   "outputs": [],
   "source": [
    "from langchain_core.prompts import ChatPromptTemplate, MessagesPlaceholder, PromptTemplate\n",
    "from langchain_core.runnables import RunnablePassthrough, RunnableLambda, RunnableParallel\n",
    "from langchain_core.output_parsers import StrOutputParser\n",
    "from operator import itemgetter\n",
    "\n",
    "index = 0\n",
    "def get_context(info):\n",
    "    global index\n",
    "    if \"negative\" == info:\n",
    "        if index < (df_matched.shape[0]-1):\n",
    "            index += 1\n",
    "        else:\n",
    "            return \"Sorry, I could not find a match for your!\"\n",
    "    return df_matched.loc[index, \"listing\"]\n",
    "\n",
    "feedback_chain = (\n",
    "    PromptTemplate.from_template(\n",
    "        \"\"\"Given the user message below, you estimate whether user is satisfied with the current recommendation, please classify it only with \"positive\", \"neutral\" or \"negative\". Do not respond with more than one word.\n",
    "        <message>\n",
    "        {message}\n",
    "        </message>\n",
    "        Classification:\"\"\"\n",
    "        )\n",
    "        | model\n",
    "        | StrOutputParser()\n",
    "    )\n",
    "\n",
    "\n",
    "user_prompt_personalization = \"\"\"\n",
    "                        Answer the question based on the context below in a compelling, selling and reader-friendly way without altering factual information.\n",
    "                        If {feedback} is negative, please resummarize the context text\".\n",
    "                        \n",
    "                        Context: {context}.\n",
    "                        ----\n",
    "                        Question: {message}\n",
    "                        Answer:\n",
    "                    \"\"\"\n",
    "\n",
    "prompt = ChatPromptTemplate.from_messages(\n",
    "    [\n",
    "        (\n",
    "            \"system\",\n",
    "            \"you are a real estate selling assistance, generate text to match the buyer's preference at best.\",\n",
    "        ),\n",
    "        (\"human\", user_prompt_personalization),\n",
    "    ]\n",
    ")\n",
    "\n",
    "rag_chain = prompt | model | StrOutputParser()\n",
    "\n",
    "full_chain = {\"feedback\":feedback_chain, \"context\": feedback_chain | get_context, \"message\": lambda x: x [\"message\"]} | rag_chain\n"
   ]
  },
  {
   "cell_type": "code",
   "execution_count": 12,
   "id": "96678491",
   "metadata": {},
   "outputs": [
    {
     "name": "stdout",
     "output_type": "stream",
     "text": [
      "Absolutely, I would highly recommend considering the delightful single-family home located at 152 Pleasant View Ave in the welcoming community of Sunrise City. With its very competitive price tag of just $99,000, this gem offers both affordability and comfort.\n",
      "\n",
      "This home strikes the perfect balance with three cozy bedrooms and a single bathroom, all within a practical 950 sqft layout. It has been thoughtfully updated to provide a fresh and modern feel, with new laminate flooring and a sleek coat of paint throughout the house. The compact kitchen comes fully equipped with the latest appliances, ideal for culinary enthusiasts or busy family life.\n",
      "\n",
      "Energy efficiency is a key feature here, with upgraded windows ensuring your utility bills stay low while keeping your living space comfortably regulated throughout the seasons. The living room, with its warm and inviting ambiance, is the perfect backdrop for memorable family moments and relaxation.\n",
      "\n",
      "The surrounding neighborhood of Sunrise City complements the home's charm with its friendly residents and a strong sense of community. The area is dotted with well-kept parks that are just a short stroll away, offering a peaceful retreat or a playful afternoon outdoors. For families with educational needs, the local schools have a commendable reputation for providing quality education, especially important for those mindful of their budget.\n",
      "\n",
      "Connectivity is a breeze with efficient public transportation links close by, making it easy to access markets, healthcare facilities, and other essential amenities without the need for a personal vehicle.\n",
      "\n",
      "If you're looking for a home that encapsulates comfort, convenience, and community spirit, all within a budget-friendly price range, then 152 Pleasant View Ave should be at the top of your list. This property is not just a house; it's the doorway to a life full of pleasant experiences in Sunrise City."
     ]
    }
   ],
   "source": [
    "question = \"do you have any recommandation?\"\n",
    "for r in full_chain.stream({\"message\": question}):\n",
    "    print(r, end=\"\")"
   ]
  },
  {
   "cell_type": "code",
   "execution_count": 127,
   "id": "2dde01dc",
   "metadata": {},
   "outputs": [
    {
     "data": {
      "text/plain": [
       "'The inviting home you are inquiring about at 152 Maple Avenue, Springfield, is priced at an affordable $89,000. This presents an exceptional value for a well-maintained, move-in ready property in a family-friendly neighborhood.'"
      ]
     },
     "execution_count": 127,
     "metadata": {},
     "output_type": "execute_result"
    }
   ],
   "source": [
    "question_1 = \"how much does it cost?\"\n",
    "for r in full_chain.stream({\"message\": question_1}):\n",
    "    print(r, end=\"\")"
   ]
  },
  {
   "cell_type": "code",
   "execution_count": 128,
   "id": "4cfb01a2",
   "metadata": {},
   "outputs": [
    {
     "data": {
      "text/plain": [
       "'Sorry, I do not have information about that!'"
      ]
     },
     "execution_count": 128,
     "metadata": {},
     "output_type": "execute_result"
    }
   ],
   "source": [
    "question_2 = \"is a garage inclusive?\"\n",
    "for r in full_chain.stream({\"message\": question_2}):\n",
    "    print(r, end=\"\")"
   ]
  },
  {
   "cell_type": "code",
   "execution_count": null,
   "id": "dcc7d36a",
   "metadata": {},
   "outputs": [],
   "source": []
  }
 ],
 "metadata": {
  "kernelspec": {
   "display_name": "Python 3 (ipykernel)",
   "language": "python",
   "name": "python3"
  },
  "language_info": {
   "codemirror_mode": {
    "name": "ipython",
    "version": 3
   },
   "file_extension": ".py",
   "mimetype": "text/x-python",
   "name": "python",
   "nbconvert_exporter": "python",
   "pygments_lexer": "ipython3",
   "version": "3.10.14"
  }
 },
 "nbformat": 4,
 "nbformat_minor": 5
}
